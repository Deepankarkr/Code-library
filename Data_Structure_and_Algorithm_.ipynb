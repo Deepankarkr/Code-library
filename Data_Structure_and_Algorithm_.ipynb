{
  "nbformat": 4,
  "nbformat_minor": 0,
  "metadata": {
    "colab": {
      "name": "Data Structure and Algorithm .ipynb",
      "version": "0.3.2",
      "provenance": [],
      "include_colab_link": true
    },
    "kernelspec": {
      "name": "python3",
      "display_name": "Python 3"
    }
  },
  "cells": [
    {
      "cell_type": "markdown",
      "metadata": {
        "id": "view-in-github",
        "colab_type": "text"
      },
      "source": [
        "<a href=\"https://colab.research.google.com/github/Deepankarkr/Code-library/blob/master/Data_Structure_and_Algorithm_.ipynb\" target=\"_parent\"><img src=\"https://colab.research.google.com/assets/colab-badge.svg\" alt=\"Open In Colab\"/></a>"
      ]
    },
    {
      "cell_type": "markdown",
      "metadata": {
        "id": "8r60souMlUVO",
        "colab_type": "text"
      },
      "source": [
        "# Selection sort"
      ]
    },
    {
      "cell_type": "code",
      "metadata": {
        "id": "PdzakhSnknfb",
        "colab_type": "code",
        "outputId": "6ddfe064-cc6e-4e31-9ca4-a965f1143e4c",
        "colab": {
          "base_uri": "https://localhost:8080/",
          "height": 34
        }
      },
      "source": [
        "# Selection Sort\n",
        "List=[23,54,76,43,12,98,42,16,66,87,55]\n",
        "\n",
        "def SelectionSort(List):\n",
        "\tfor i in range(len(List)):\n",
        "\t\tmin_idx = i\n",
        "\t\tfor j in range(i+1, len(List)):\n",
        "\t\t\tif List[min_idx] > List[j]:\n",
        "\t\t\t\tmin_idx = j\n",
        "\t\t\t\tList[i], List[min_idx] = List[min_idx], List[i] # SWAP\n",
        "\treturn List\n",
        "\n",
        "print(SelectionSort(List))\n"
      ],
      "execution_count": 0,
      "outputs": [
        {
          "output_type": "stream",
          "text": [
            "[16, 12, 42, 23, 43, 66, 55, 54, 87, 76, 98]\n"
          ],
          "name": "stdout"
        }
      ]
    },
    {
      "cell_type": "markdown",
      "metadata": {
        "id": "77_vxongl0QP",
        "colab_type": "text"
      },
      "source": [
        "# Binary search"
      ]
    },
    {
      "cell_type": "code",
      "metadata": {
        "id": "wVpXcCM-knlv",
        "colab_type": "code",
        "outputId": "f2dd0c8b-e648-4c32-d286-a16952e198b9",
        "colab": {
          "base_uri": "https://localhost:8080/",
          "height": 51
        }
      },
      "source": [
        "#Binary Search\n",
        "List=[6,12,18,24,30,36,42,48,54,60,66]\n",
        "Element1=66\n",
        "Element2=14\n",
        "#Given that the List is Sorted in Ascending order\n",
        "IndexS=0\t\t#Index of First Term-IndexS\n",
        "IndexL=len(List)-1\t#Index of Last Term-IndexL\n",
        "\n",
        "def BinarySearch(List, Element, IndexS ,IndexL):\n",
        "\twhile(IndexL>=IndexS):\t\n",
        "\t\tMid=int(IndexS+(IndexL-IndexS)/2)\n",
        "\t\tif(List[Mid]==Element):\n",
        "\t\t\tprint (\"Element \"+ str(Element) +\" Found at \" +str(Mid))\n",
        "\t\t\treturn\n",
        "\t\telif(List[Mid]>Element):\n",
        "\t\t\tBinarySearch(List,Element,IndexS, Mid-1)\n",
        "\t\t\tbreak\n",
        "\t\telif(List[Mid]<Element):\n",
        "\t\t\tBinarySearch(List,Element,Mid+1, IndexL)\n",
        "\t\t\tbreak\n",
        "\t\t\t\n",
        "print(BinarySearch(List,Element1,IndexS,IndexL))\n"
      ],
      "execution_count": 0,
      "outputs": [
        {
          "output_type": "stream",
          "text": [
            "Element 66 Found at 10\n",
            "None\n"
          ],
          "name": "stdout"
        }
      ]
    },
    {
      "cell_type": "markdown",
      "metadata": {
        "id": "7EVCtYIGl4xI",
        "colab_type": "text"
      },
      "source": [
        "# Bubble sort"
      ]
    },
    {
      "cell_type": "code",
      "metadata": {
        "id": "N53CMh3HknpL",
        "colab_type": "code",
        "outputId": "b351609f-7942-454b-8937-1f5ae6f86144",
        "colab": {
          "base_uri": "https://localhost:8080/",
          "height": 34
        }
      },
      "source": [
        "# Bubble Sort\n",
        "List=[6,12,18,24,30,36,42,48,54,60,66]\n",
        "def BubbleSort(List):\n",
        "\tl = len(List)\n",
        "\tfor i in range(l-1):\n",
        "\t\tfor j in range(l-i-1):\n",
        "\t\t\tif (List[j] > List[j+1]):\n",
        "\t\t\t\tList[j],List[j+1]=List[j+1],List[j]\n",
        "\treturn List\n",
        "print(BubbleSort(List))"
      ],
      "execution_count": 0,
      "outputs": [
        {
          "output_type": "stream",
          "text": [
            "[6, 12, 18, 24, 30, 36, 42, 48, 54, 60, 66]\n"
          ],
          "name": "stdout"
        }
      ]
    },
    {
      "cell_type": "markdown",
      "metadata": {
        "id": "L6SmZvxNl_a2",
        "colab_type": "text"
      },
      "source": [
        "# Heap Sort"
      ]
    },
    {
      "cell_type": "code",
      "metadata": {
        "id": "_CunMGdLknsh",
        "colab_type": "code",
        "outputId": "014e52dc-b877-4241-926a-ccf099bf5f99",
        "colab": {
          "base_uri": "https://localhost:8080/",
          "height": 170
        }
      },
      "source": [
        "''' Python program for implementation of heap Sort To heapify subtree rooted at index i. n is size of heap'''\n",
        "\n",
        "def heapify(arr, n, i):\n",
        "\tlargest = i # Initialize largest as root\n",
        "\tl = 2 * i + 1 # left = 2*i + 1\n",
        "\tr = 2 * i + 2 # right = 2*i + 2\n",
        "\t# See if left child of root exists and is\n",
        "\t# greater than root\n",
        "\tif l < n and arr[i] < arr[l]:\n",
        "\t\tlargest = l\n",
        "\t\t# See if right child of root exists and is\n",
        "\t\t# greater than root\n",
        "\tif r < n and arr[largest] < arr[r]:\n",
        "\t\tlargest = r\n",
        "\t\t# Change root, if needed\n",
        "\tif largest != i:\n",
        "\t\tarr[i],arr[largest] = arr[largest],arr[i] # swap\n",
        "\t\t# Heapify the root.\n",
        "\t\theapify(arr, n, largest)\n",
        "\t\t# The main function to sort an array of given size\n",
        "\n",
        "def heapSort(arr):\n",
        "\tn = len(arr)\n",
        "\t\t# Build a maxheap.\n",
        "\tfor i in range(n, -1, -1):\n",
        "\t\theapify(arr, n, i)\n",
        "\t\t# One by one extract elements\n",
        "\tfor i in range(n-1, 0, -1):\n",
        "\t\tarr[i], arr[0] = arr[0], arr[i] # swap\n",
        "\t\theapify(arr, i, 0)\n",
        "\t\t\n",
        "# Driver code to test above\n",
        "arr = [ 12, 11, 23, 52, 61, 27,54,34]\n",
        "heapSort(arr)\n",
        "n = len(arr)\n",
        "print (\"Sorted array is\")\n",
        "for i in range(n):\n",
        "\tprint (\"%d\" %arr[i]),"
      ],
      "execution_count": 0,
      "outputs": [
        {
          "output_type": "stream",
          "text": [
            "Sorted array is\n",
            "11\n",
            "12\n",
            "23\n",
            "27\n",
            "34\n",
            "52\n",
            "54\n",
            "61\n"
          ],
          "name": "stdout"
        }
      ]
    },
    {
      "cell_type": "markdown",
      "metadata": {
        "id": "R3hGNPKKmIio",
        "colab_type": "text"
      },
      "source": [
        "# Insertion sort"
      ]
    },
    {
      "cell_type": "code",
      "metadata": {
        "id": "nv7259kNknvX",
        "colab_type": "code",
        "outputId": "d4acdcba-067e-482c-95c5-22b0721a407a",
        "colab": {
          "base_uri": "https://localhost:8080/",
          "height": 34
        }
      },
      "source": [
        "# Insertion Sort\n",
        "\n",
        "def insertionSort(alist):\n",
        "\tfor i in range(1,len(alist)):\n",
        "\t#element to be compared\n",
        "\t\tcurrent = alist[i]\n",
        "\t#comparing the current element with the sorted portion and swapping\n",
        "\t\twhile i>0 and alist[i-1]>current:\n",
        "\t\t\talist[i] = alist[i-1]\n",
        "\t\t\ti = i-1\n",
        "\t\t\talist[i] = current\n",
        "\t#print(alist)\n",
        "\treturn alist\n",
        "\n",
        "print(insertionSort([54,22,11,96,40,54,36,65,13,44,12]))"
      ],
      "execution_count": 0,
      "outputs": [
        {
          "output_type": "stream",
          "text": [
            "[11, 12, 13, 22, 36, 40, 44, 54, 54, 65, 96]\n"
          ],
          "name": "stdout"
        }
      ]
    },
    {
      "cell_type": "markdown",
      "metadata": {
        "id": "4sqVBhoJmRKO",
        "colab_type": "text"
      },
      "source": [
        "# Merge sort"
      ]
    },
    {
      "cell_type": "code",
      "metadata": {
        "id": "WCXgUadSknyO",
        "colab_type": "code",
        "outputId": "7c5dd41a-d179-4783-92b7-b6d53fbcac73",
        "colab": {
          "base_uri": "https://localhost:8080/",
          "height": 34
        }
      },
      "source": [
        "# Merge Sort\n",
        "\n",
        "def mergeSort(alist):\n",
        "\t# print(\"Splitting \",alist)\n",
        "\n",
        "\tif len(alist)>1:\n",
        "\t\tmid = len(alist)//2\n",
        "\t\tlefthalf = alist[:mid]\n",
        "\t\trighthalf = alist[mid:]\n",
        "\n",
        "\t\t#recursion\n",
        "\t\t#print (\"called left half\" + str(lefthalf))\n",
        "\t\tmergeSort(lefthalf)\n",
        "\t\t#print (\"called right half\"+ str(righthalf))\n",
        "\t\tmergeSort(righthalf)\n",
        "\n",
        "\t\ti=0\n",
        "\t\tj=0\n",
        "\t\tk=0\n",
        "\n",
        "\t\twhile i < len(lefthalf) and j < len(righthalf):\n",
        "\t\t\tif lefthalf[i] < righthalf[j]:\n",
        "\t\t\t\talist[k]=lefthalf[i]\n",
        "\t\t\t\ti=i+1\n",
        "\t\t\telse:\n",
        "\t\t\t\talist[k]=righthalf[j]\n",
        "\t\t\t\tj=j+1\n",
        "\t\t\tk=k+1\n",
        "\n",
        "\t\twhile i < len(lefthalf):\n",
        "\t\t\talist[k]=lefthalf[i]\n",
        "\t\t\ti=i+1\n",
        "\t\t\tk=k+1\n",
        "\n",
        "\t\twhile j < len(righthalf):\n",
        "\t\t\talist[k]=righthalf[j]\n",
        "\t\t\tj=j+1\n",
        "\t\t\tk=k+1\n",
        "\n",
        "\t# print(\"Merging \",alist)\n",
        "\n",
        "alist = [54,26,73,27,77,31,44,65,20]\n",
        "mergeSort(alist)\n",
        "print (alist)"
      ],
      "execution_count": 0,
      "outputs": [
        {
          "output_type": "stream",
          "text": [
            "[20, 26, 27, 31, 44, 54, 65, 73, 77]\n"
          ],
          "name": "stdout"
        }
      ]
    },
    {
      "cell_type": "markdown",
      "metadata": {
        "id": "FlppS6_cm4sC",
        "colab_type": "text"
      },
      "source": [
        "# Quick Sort"
      ]
    },
    {
      "cell_type": "code",
      "metadata": {
        "id": "wtVLZdLEkoDd",
        "colab_type": "code",
        "outputId": "2f829220-55ef-4d4e-9666-1fda1f5f4c58",
        "colab": {
          "base_uri": "https://localhost:8080/",
          "height": 204
        }
      },
      "source": [
        "# Python program for implementation of Quicksort Sort \n",
        "\n",
        "# This function takes last element as pivot, places \n",
        "# the pivot element at its correct position in sorted \n",
        "# array, and places all smaller (smaller than pivot) \n",
        "# to left of pivot and all greater elements to right \n",
        "# of pivot \n",
        "def partition(arr,low,high): \n",
        "\ti = ( low-1 )\t\t # index of smaller element \n",
        "\tpivot = arr[high]\t # pivot \n",
        "\n",
        "\tfor j in range(low , high): \n",
        "\n",
        "\t\t# If current element is smaller than or \n",
        "\t\t# equal to pivot \n",
        "\t\tif arr[j] <= pivot: \n",
        "\t\t\n",
        "\t\t\t# increment index of smaller element \n",
        "\t\t\ti = i+1\n",
        "\t\t\tarr[i],arr[j] = arr[j],arr[i] \n",
        "\n",
        "\tarr[i+1],arr[high] = arr[high],arr[i+1] \n",
        "\treturn ( i+1 ) \n",
        "\n",
        "# The main function that implements QuickSort \n",
        "# arr[] --> Array to be sorted, \n",
        "# low --> Starting index, \n",
        "# high --> Ending index \n",
        "\n",
        "# Function to do Quick sort \n",
        "def quickSort(arr,low,high): \n",
        "\tif low < high: \n",
        "\n",
        "\t\t# pi is partitioning index, arr[p] is now \n",
        "\t\t# at right place \n",
        "\t\tpi = partition(arr,low,high) \n",
        "\n",
        "\t\t# Separately sort elements before \n",
        "\t\t# partition and after partition \n",
        "\t\tquickSort(arr, low, pi-1) \n",
        "\t\tquickSort(arr, pi+1, high) \n",
        "\n",
        "# Driver code to test above \n",
        "arr = [10, 47, 48, 59, 61, 45,63,65,13,87] \n",
        "n = len(arr) \n",
        "quickSort(arr,0,n-1) \n",
        "print (\"Sorted array is:\") \n",
        "for i in range(n): \n",
        "\tprint (\"%d\" %arr[i]), \n"
      ],
      "execution_count": 0,
      "outputs": [
        {
          "output_type": "stream",
          "text": [
            "Sorted array is:\n",
            "10\n",
            "13\n",
            "45\n",
            "47\n",
            "48\n",
            "59\n",
            "61\n",
            "63\n",
            "65\n",
            "87\n"
          ],
          "name": "stdout"
        }
      ]
    },
    {
      "cell_type": "code",
      "metadata": {
        "id": "Dp2mw1wxoTMo",
        "colab_type": "code",
        "colab": {}
      },
      "source": [
        ""
      ],
      "execution_count": 0,
      "outputs": []
    }
  ]
}