{
  "nbformat": 4,
  "nbformat_minor": 0,
  "metadata": {
    "colab": {
      "name": "Deepankar Second .ipynb",
      "version": "0.3.2",
      "provenance": [],
      "collapsed_sections": [],
      "include_colab_link": true
    },
    "kernelspec": {
      "name": "python3",
      "display_name": "Python 3"
    }
  },
  "cells": [
    {
      "cell_type": "markdown",
      "metadata": {
        "id": "view-in-github",
        "colab_type": "text"
      },
      "source": [
        "<a href=\"https://colab.research.google.com/github/Deepankarkr/Code-library/blob/master/Deepankar_Second_.ipynb\" target=\"_parent\"><img src=\"https://colab.research.google.com/assets/colab-badge.svg\" alt=\"Open In Colab\"/></a>"
      ]
    },
    {
      "cell_type": "markdown",
      "metadata": {
        "id": "7RX3lnq2RhDk",
        "colab_type": "text"
      },
      "source": [
        "## Essential Basic Functionality"
      ]
    },
    {
      "cell_type": "code",
      "metadata": {
        "id": "RYMmXbsWpu9n",
        "colab_type": "code",
        "colab": {}
      },
      "source": [
        "import numpy as np\n",
        "import pandas as pd"
      ],
      "execution_count": 0,
      "outputs": []
    },
    {
      "cell_type": "markdown",
      "metadata": {
        "id": "khTVR4NLpNhd",
        "colab_type": "text"
      },
      "source": [
        "## There are 3 Major Data Structure in Pandas:-\n",
        "\n",
        "*  Series\n",
        "* Dataframe\n",
        "* Panel"
      ]
    },
    {
      "cell_type": "code",
      "metadata": {
        "id": "RpO4pYZ9Q1WW",
        "colab_type": "code",
        "outputId": "3e6ded74-32e1-47ca-ad66-eec77b6dc4cb",
        "colab": {
          "base_uri": "https://localhost:8080/",
          "height": 68
        }
      },
      "source": [
        "# Below are method to these data structure with Index\n",
        "index = pd.date_range('1/1/2000', periods=8)\n",
        "index"
      ],
      "execution_count": 0,
      "outputs": [
        {
          "output_type": "execute_result",
          "data": {
            "text/plain": [
              "DatetimeIndex(['2000-01-01', '2000-01-02', '2000-01-03', '2000-01-04',\n",
              "               '2000-01-05', '2000-01-06', '2000-01-07', '2000-01-08'],\n",
              "              dtype='datetime64[ns]', freq='D')"
            ]
          },
          "metadata": {
            "tags": []
          },
          "execution_count": 23
        }
      ]
    },
    {
      "cell_type": "code",
      "metadata": {
        "id": "1mMjfkAOprPy",
        "colab_type": "code",
        "outputId": "232dc10c-be2d-4ef5-8492-76f16ba1fc70",
        "colab": {
          "base_uri": "https://localhost:8080/",
          "height": 119
        }
      },
      "source": [
        "s = pd.Series(np.random.randn(5), index=['a', 'b', 'c', 'd', 'e'])\n",
        "s"
      ],
      "execution_count": 0,
      "outputs": [
        {
          "output_type": "execute_result",
          "data": {
            "text/plain": [
              "a    0.627883\n",
              "b    1.979833\n",
              "c    1.014643\n",
              "d    0.430268\n",
              "e    0.277556\n",
              "dtype: float64"
            ]
          },
          "metadata": {
            "tags": []
          },
          "execution_count": 24
        }
      ]
    },
    {
      "cell_type": "code",
      "metadata": {
        "id": "ME_v59wCqfwP",
        "colab_type": "code",
        "outputId": "e4e2a88d-4eb2-427d-fcbd-e85fee64772e",
        "colab": {
          "base_uri": "https://localhost:8080/",
          "height": 297
        }
      },
      "source": [
        "df = pd.DataFrame(np.random.randn(8, 3), index=index,columns=['A', 'B', 'C'])\n",
        "df"
      ],
      "execution_count": 0,
      "outputs": [
        {
          "output_type": "execute_result",
          "data": {
            "text/html": [
              "<div>\n",
              "<style scoped>\n",
              "    .dataframe tbody tr th:only-of-type {\n",
              "        vertical-align: middle;\n",
              "    }\n",
              "\n",
              "    .dataframe tbody tr th {\n",
              "        vertical-align: top;\n",
              "    }\n",
              "\n",
              "    .dataframe thead th {\n",
              "        text-align: right;\n",
              "    }\n",
              "</style>\n",
              "<table border=\"1\" class=\"dataframe\">\n",
              "  <thead>\n",
              "    <tr style=\"text-align: right;\">\n",
              "      <th></th>\n",
              "      <th>A</th>\n",
              "      <th>B</th>\n",
              "      <th>C</th>\n",
              "    </tr>\n",
              "  </thead>\n",
              "  <tbody>\n",
              "    <tr>\n",
              "      <th>2000-01-01</th>\n",
              "      <td>-1.610057</td>\n",
              "      <td>1.606103</td>\n",
              "      <td>1.204008</td>\n",
              "    </tr>\n",
              "    <tr>\n",
              "      <th>2000-01-02</th>\n",
              "      <td>-1.715361</td>\n",
              "      <td>2.848846</td>\n",
              "      <td>1.218667</td>\n",
              "    </tr>\n",
              "    <tr>\n",
              "      <th>2000-01-03</th>\n",
              "      <td>1.267986</td>\n",
              "      <td>-0.760925</td>\n",
              "      <td>-0.372872</td>\n",
              "    </tr>\n",
              "    <tr>\n",
              "      <th>2000-01-04</th>\n",
              "      <td>0.985850</td>\n",
              "      <td>1.208434</td>\n",
              "      <td>0.393878</td>\n",
              "    </tr>\n",
              "    <tr>\n",
              "      <th>2000-01-05</th>\n",
              "      <td>2.168099</td>\n",
              "      <td>2.024202</td>\n",
              "      <td>-0.260027</td>\n",
              "    </tr>\n",
              "    <tr>\n",
              "      <th>2000-01-06</th>\n",
              "      <td>0.786918</td>\n",
              "      <td>1.614932</td>\n",
              "      <td>-1.539697</td>\n",
              "    </tr>\n",
              "    <tr>\n",
              "      <th>2000-01-07</th>\n",
              "      <td>1.726806</td>\n",
              "      <td>-0.471558</td>\n",
              "      <td>0.546871</td>\n",
              "    </tr>\n",
              "    <tr>\n",
              "      <th>2000-01-08</th>\n",
              "      <td>-0.574135</td>\n",
              "      <td>0.651259</td>\n",
              "      <td>-0.624069</td>\n",
              "    </tr>\n",
              "  </tbody>\n",
              "</table>\n",
              "</div>"
            ],
            "text/plain": [
              "                   A         B         C\n",
              "2000-01-01 -1.610057  1.606103  1.204008\n",
              "2000-01-02 -1.715361  2.848846  1.218667\n",
              "2000-01-03  1.267986 -0.760925 -0.372872\n",
              "2000-01-04  0.985850  1.208434  0.393878\n",
              "2000-01-05  2.168099  2.024202 -0.260027\n",
              "2000-01-06  0.786918  1.614932 -1.539697\n",
              "2000-01-07  1.726806 -0.471558  0.546871\n",
              "2000-01-08 -0.574135  0.651259 -0.624069"
            ]
          },
          "metadata": {
            "tags": []
          },
          "execution_count": 25
        }
      ]
    },
    {
      "cell_type": "code",
      "metadata": {
        "id": "9mRQjHP1qlTQ",
        "colab_type": "code",
        "outputId": "e40ffb0b-954a-4c57-8a60-debbbd5a7f11",
        "colab": {
          "base_uri": "https://localhost:8080/",
          "height": 819
        }
      },
      "source": [
        "wp = pd.Panel(np.random.randn(2, 5, 4), \n",
        "\titems=['Item1', 'Item2'], \n",
        "\tmajor_axis=pd.date_range('1/1/2000', periods=5),\n",
        "\tminor_axis=['A', 'B', 'C', 'D'])\n",
        "wp.to_frame() # Panel"
      ],
      "execution_count": 0,
      "outputs": [
        {
          "output_type": "stream",
          "text": [
            "/usr/local/lib/python3.6/dist-packages/IPython/core/interactiveshell.py:2882: FutureWarning: \n",
            "Panel is deprecated and will be removed in a future version.\n",
            "The recommended way to represent these types of 3-dimensional data are with a MultiIndex on a DataFrame, via the Panel.to_frame() method\n",
            "Alternatively, you can use the xarray package http://xarray.pydata.org/en/stable/.\n",
            "Pandas provides a `.to_xarray()` method to help automate this conversion.\n",
            "\n",
            "  exec(code_obj, self.user_global_ns, self.user_ns)\n"
          ],
          "name": "stderr"
        },
        {
          "output_type": "execute_result",
          "data": {
            "text/html": [
              "<div>\n",
              "<style scoped>\n",
              "    .dataframe tbody tr th:only-of-type {\n",
              "        vertical-align: middle;\n",
              "    }\n",
              "\n",
              "    .dataframe tbody tr th {\n",
              "        vertical-align: top;\n",
              "    }\n",
              "\n",
              "    .dataframe thead th {\n",
              "        text-align: right;\n",
              "    }\n",
              "</style>\n",
              "<table border=\"1\" class=\"dataframe\">\n",
              "  <thead>\n",
              "    <tr style=\"text-align: right;\">\n",
              "      <th></th>\n",
              "      <th></th>\n",
              "      <th>Item1</th>\n",
              "      <th>Item2</th>\n",
              "    </tr>\n",
              "    <tr>\n",
              "      <th>major</th>\n",
              "      <th>minor</th>\n",
              "      <th></th>\n",
              "      <th></th>\n",
              "    </tr>\n",
              "  </thead>\n",
              "  <tbody>\n",
              "    <tr>\n",
              "      <th rowspan=\"4\" valign=\"top\">2000-01-01</th>\n",
              "      <th>A</th>\n",
              "      <td>0.775830</td>\n",
              "      <td>-0.431436</td>\n",
              "    </tr>\n",
              "    <tr>\n",
              "      <th>B</th>\n",
              "      <td>0.779164</td>\n",
              "      <td>0.182146</td>\n",
              "    </tr>\n",
              "    <tr>\n",
              "      <th>C</th>\n",
              "      <td>1.143727</td>\n",
              "      <td>-0.897119</td>\n",
              "    </tr>\n",
              "    <tr>\n",
              "      <th>D</th>\n",
              "      <td>0.125981</td>\n",
              "      <td>1.594617</td>\n",
              "    </tr>\n",
              "    <tr>\n",
              "      <th rowspan=\"4\" valign=\"top\">2000-01-02</th>\n",
              "      <th>A</th>\n",
              "      <td>0.223653</td>\n",
              "      <td>0.138857</td>\n",
              "    </tr>\n",
              "    <tr>\n",
              "      <th>B</th>\n",
              "      <td>-0.274284</td>\n",
              "      <td>0.378434</td>\n",
              "    </tr>\n",
              "    <tr>\n",
              "      <th>C</th>\n",
              "      <td>-1.583574</td>\n",
              "      <td>-0.752212</td>\n",
              "    </tr>\n",
              "    <tr>\n",
              "      <th>D</th>\n",
              "      <td>-0.884395</td>\n",
              "      <td>-2.150378</td>\n",
              "    </tr>\n",
              "    <tr>\n",
              "      <th rowspan=\"4\" valign=\"top\">2000-01-03</th>\n",
              "      <th>A</th>\n",
              "      <td>-0.069694</td>\n",
              "      <td>-0.500517</td>\n",
              "    </tr>\n",
              "    <tr>\n",
              "      <th>B</th>\n",
              "      <td>0.722183</td>\n",
              "      <td>-0.189410</td>\n",
              "    </tr>\n",
              "    <tr>\n",
              "      <th>C</th>\n",
              "      <td>0.847460</td>\n",
              "      <td>-0.834354</td>\n",
              "    </tr>\n",
              "    <tr>\n",
              "      <th>D</th>\n",
              "      <td>1.262450</td>\n",
              "      <td>0.743144</td>\n",
              "    </tr>\n",
              "    <tr>\n",
              "      <th rowspan=\"4\" valign=\"top\">2000-01-04</th>\n",
              "      <th>A</th>\n",
              "      <td>-0.438061</td>\n",
              "      <td>2.088151</td>\n",
              "    </tr>\n",
              "    <tr>\n",
              "      <th>B</th>\n",
              "      <td>0.454639</td>\n",
              "      <td>0.483217</td>\n",
              "    </tr>\n",
              "    <tr>\n",
              "      <th>C</th>\n",
              "      <td>-0.716243</td>\n",
              "      <td>-0.084236</td>\n",
              "    </tr>\n",
              "    <tr>\n",
              "      <th>D</th>\n",
              "      <td>0.833567</td>\n",
              "      <td>-0.327875</td>\n",
              "    </tr>\n",
              "    <tr>\n",
              "      <th rowspan=\"4\" valign=\"top\">2000-01-05</th>\n",
              "      <th>A</th>\n",
              "      <td>0.950282</td>\n",
              "      <td>-1.541424</td>\n",
              "    </tr>\n",
              "    <tr>\n",
              "      <th>B</th>\n",
              "      <td>0.926089</td>\n",
              "      <td>1.289811</td>\n",
              "    </tr>\n",
              "    <tr>\n",
              "      <th>C</th>\n",
              "      <td>0.860736</td>\n",
              "      <td>-0.949053</td>\n",
              "    </tr>\n",
              "    <tr>\n",
              "      <th>D</th>\n",
              "      <td>-1.317795</td>\n",
              "      <td>-0.904223</td>\n",
              "    </tr>\n",
              "  </tbody>\n",
              "</table>\n",
              "</div>"
            ],
            "text/plain": [
              "                     Item1     Item2\n",
              "major      minor                    \n",
              "2000-01-01 A      0.775830 -0.431436\n",
              "           B      0.779164  0.182146\n",
              "           C      1.143727 -0.897119\n",
              "           D      0.125981  1.594617\n",
              "2000-01-02 A      0.223653  0.138857\n",
              "           B     -0.274284  0.378434\n",
              "           C     -1.583574 -0.752212\n",
              "           D     -0.884395 -2.150378\n",
              "2000-01-03 A     -0.069694 -0.500517\n",
              "           B      0.722183 -0.189410\n",
              "           C      0.847460 -0.834354\n",
              "           D      1.262450  0.743144\n",
              "2000-01-04 A     -0.438061  2.088151\n",
              "           B      0.454639  0.483217\n",
              "           C     -0.716243 -0.084236\n",
              "           D      0.833567 -0.327875\n",
              "2000-01-05 A      0.950282 -1.541424\n",
              "           B      0.926089  1.289811\n",
              "           C      0.860736 -0.949053\n",
              "           D     -1.317795 -0.904223"
            ]
          },
          "metadata": {
            "tags": []
          },
          "execution_count": 26
        }
      ]
    },
    {
      "cell_type": "code",
      "metadata": {
        "id": "yzEqNdcCqynE",
        "colab_type": "code",
        "outputId": "d857adfe-3e73-4186-9225-cf3a11ee24a4",
        "colab": {
          "base_uri": "https://localhost:8080/",
          "height": 68
        }
      },
      "source": [
        "pd.Series(np.random.randn(1000)).head(2) #Head and Tail"
      ],
      "execution_count": 0,
      "outputs": [
        {
          "output_type": "execute_result",
          "data": {
            "text/plain": [
              "0   -0.846354\n",
              "1   -1.878865\n",
              "dtype: float64"
            ]
          },
          "metadata": {
            "tags": []
          },
          "execution_count": 27
        }
      ]
    },
    {
      "cell_type": "code",
      "metadata": {
        "id": "0l8IZ3c0PgmA",
        "colab_type": "code",
        "outputId": "dfb1dee3-a433-450b-a7fe-6e2468ec098e",
        "colab": {
          "base_uri": "https://localhost:8080/",
          "height": 170
        }
      },
      "source": [
        "pd.Series(np.random.randn(1000)).tail(8)"
      ],
      "execution_count": 0,
      "outputs": [
        {
          "output_type": "execute_result",
          "data": {
            "text/plain": [
              "992   -0.193017\n",
              "993    0.530940\n",
              "994    1.241788\n",
              "995    0.249277\n",
              "996    0.010561\n",
              "997    0.762492\n",
              "998    0.394080\n",
              "999   -0.381489\n",
              "dtype: float64"
            ]
          },
          "metadata": {
            "tags": []
          },
          "execution_count": 28
        }
      ]
    },
    {
      "cell_type": "code",
      "metadata": {
        "id": "uFNDjNTqPl9x",
        "colab_type": "code",
        "colab": {}
      },
      "source": [
        "df.columns = [x.lower() for x in df.columns]"
      ],
      "execution_count": 0,
      "outputs": []
    },
    {
      "cell_type": "code",
      "metadata": {
        "id": "HdErTZyKPzZk",
        "colab_type": "code",
        "outputId": "5fc6d256-bef6-49f7-c0d0-0b685328934e",
        "colab": {
          "base_uri": "https://localhost:8080/",
          "height": 297
        }
      },
      "source": [
        "df"
      ],
      "execution_count": 0,
      "outputs": [
        {
          "output_type": "execute_result",
          "data": {
            "text/html": [
              "<div>\n",
              "<style scoped>\n",
              "    .dataframe tbody tr th:only-of-type {\n",
              "        vertical-align: middle;\n",
              "    }\n",
              "\n",
              "    .dataframe tbody tr th {\n",
              "        vertical-align: top;\n",
              "    }\n",
              "\n",
              "    .dataframe thead th {\n",
              "        text-align: right;\n",
              "    }\n",
              "</style>\n",
              "<table border=\"1\" class=\"dataframe\">\n",
              "  <thead>\n",
              "    <tr style=\"text-align: right;\">\n",
              "      <th></th>\n",
              "      <th>a</th>\n",
              "      <th>b</th>\n",
              "      <th>c</th>\n",
              "    </tr>\n",
              "  </thead>\n",
              "  <tbody>\n",
              "    <tr>\n",
              "      <th>2000-01-01</th>\n",
              "      <td>-1.610057</td>\n",
              "      <td>1.606103</td>\n",
              "      <td>1.204008</td>\n",
              "    </tr>\n",
              "    <tr>\n",
              "      <th>2000-01-02</th>\n",
              "      <td>-1.715361</td>\n",
              "      <td>2.848846</td>\n",
              "      <td>1.218667</td>\n",
              "    </tr>\n",
              "    <tr>\n",
              "      <th>2000-01-03</th>\n",
              "      <td>1.267986</td>\n",
              "      <td>-0.760925</td>\n",
              "      <td>-0.372872</td>\n",
              "    </tr>\n",
              "    <tr>\n",
              "      <th>2000-01-04</th>\n",
              "      <td>0.985850</td>\n",
              "      <td>1.208434</td>\n",
              "      <td>0.393878</td>\n",
              "    </tr>\n",
              "    <tr>\n",
              "      <th>2000-01-05</th>\n",
              "      <td>2.168099</td>\n",
              "      <td>2.024202</td>\n",
              "      <td>-0.260027</td>\n",
              "    </tr>\n",
              "    <tr>\n",
              "      <th>2000-01-06</th>\n",
              "      <td>0.786918</td>\n",
              "      <td>1.614932</td>\n",
              "      <td>-1.539697</td>\n",
              "    </tr>\n",
              "    <tr>\n",
              "      <th>2000-01-07</th>\n",
              "      <td>1.726806</td>\n",
              "      <td>-0.471558</td>\n",
              "      <td>0.546871</td>\n",
              "    </tr>\n",
              "    <tr>\n",
              "      <th>2000-01-08</th>\n",
              "      <td>-0.574135</td>\n",
              "      <td>0.651259</td>\n",
              "      <td>-0.624069</td>\n",
              "    </tr>\n",
              "  </tbody>\n",
              "</table>\n",
              "</div>"
            ],
            "text/plain": [
              "                   a         b         c\n",
              "2000-01-01 -1.610057  1.606103  1.204008\n",
              "2000-01-02 -1.715361  2.848846  1.218667\n",
              "2000-01-03  1.267986 -0.760925 -0.372872\n",
              "2000-01-04  0.985850  1.208434  0.393878\n",
              "2000-01-05  2.168099  2.024202 -0.260027\n",
              "2000-01-06  0.786918  1.614932 -1.539697\n",
              "2000-01-07  1.726806 -0.471558  0.546871\n",
              "2000-01-08 -0.574135  0.651259 -0.624069"
            ]
          },
          "metadata": {
            "tags": []
          },
          "execution_count": 30
        }
      ]
    },
    {
      "cell_type": "markdown",
      "metadata": {
        "id": "slE975yfQM4-",
        "colab_type": "text"
      },
      "source": [
        "* Pandas objects (Index, Series, DataFrame) can be thought of as containers for arrays, which hold the actual data and do the actual computation. For many types, the underlying array is a numpy.ndarray. However, pandas and 3rd party libraries may extend NumPy’s type system to add support for custom arrays"
      ]
    },
    {
      "cell_type": "markdown",
      "metadata": {
        "id": "Gx4vHLbISMSd",
        "colab_type": "text"
      },
      "source": [
        "*  Cartesian Coordinate\n",
        "*  Cylindrical Coordinate\n",
        "*  Spherical Coordinate  \n",
        "*  Transform from Cartesian to Cylindrical Coordinate\n",
        "*  Transform from Cartesian to Spherical Coordinate\n",
        "*  Transform from Cylindrical to Cartesian Coordinate\n",
        "*  Transform from Spherical to Cartesian Coordinate  \n",
        "*  Divergence Theorem/Gauss' Theorem\n",
        "*  Stokes' Theorem\n",
        "*  Definition of a Matrix\n",
        "*  Properties of Matrix Operations \n",
        "*  Definition of Zero Matrix\n",
        "*  Definition of Identity Matrix \n",
        "*  Properties of the Identity Matrix\n",
        "*  Definition of an Inverse of a Matrix\n",
        "*  Properties of Inverse Matrices\n",
        "*  Definition of the Determinant  \n",
        "*  Properties of Determinants\n",
        "*  Definition of Triangular Matrices-  Two Null Identities\n",
        "*  Equality of Matrices\n",
        "*  Elementary Matrices\n",
        "*  Matrix Addition\n",
        "*  Matrix Multiplication\n",
        "*  Properties of Matrix Multiplication\n",
        "*  Scalar Multiplication\n",
        "*  The Transpose of a Matrix \n",
        "*  Properties of Transposes\n",
        "*  Gradient of a Scalar Field \n",
        "*  Divergence of a Vector Field\n",
        "*  Curl of a Vector Field"
      ]
    },
    {
      "cell_type": "code",
      "metadata": {
        "id": "XpFF8dqASMBs",
        "colab_type": "code",
        "outputId": "9ab5f9a6-e823-4ef7-9606-9cef2149ce10",
        "colab": {
          "base_uri": "https://localhost:8080/",
          "height": 902
        }
      },
      "source": [
        "dfs = pd.read_excel(open('pndsdata.xlsx', 'rb'),sheet_name='Sheet1')\n",
        "dfs"
      ],
      "execution_count": 0,
      "outputs": [
        {
          "output_type": "execute_result",
          "data": {
            "text/html": [
              "<div>\n",
              "<style scoped>\n",
              "    .dataframe tbody tr th:only-of-type {\n",
              "        vertical-align: middle;\n",
              "    }\n",
              "\n",
              "    .dataframe tbody tr th {\n",
              "        vertical-align: top;\n",
              "    }\n",
              "\n",
              "    .dataframe thead th {\n",
              "        text-align: right;\n",
              "    }\n",
              "</style>\n",
              "<table border=\"1\" class=\"dataframe\">\n",
              "  <thead>\n",
              "    <tr style=\"text-align: right;\">\n",
              "      <th></th>\n",
              "      <th>Hotel Reg ID</th>\n",
              "      <th>address</th>\n",
              "      <th>categories</th>\n",
              "      <th>city</th>\n",
              "      <th>country</th>\n",
              "      <th>latitude</th>\n",
              "      <th>longitude</th>\n",
              "      <th>name</th>\n",
              "      <th>postalCode</th>\n",
              "      <th>province</th>\n",
              "      <th>reviews.rating</th>\n",
              "    </tr>\n",
              "  </thead>\n",
              "  <tbody>\n",
              "    <tr>\n",
              "      <th>0</th>\n",
              "      <td>0</td>\n",
              "      <td>Riviera San Nicol 11/a</td>\n",
              "      <td>Hotels</td>\n",
              "      <td>Mableton</td>\n",
              "      <td>US</td>\n",
              "      <td>45.421611</td>\n",
              "      <td>12.376187</td>\n",
              "      <td>Hotel Russo Palace</td>\n",
              "      <td>30126</td>\n",
              "      <td>GA</td>\n",
              "      <td>4</td>\n",
              "    </tr>\n",
              "    <tr>\n",
              "      <th>1</th>\n",
              "      <td>57</td>\n",
              "      <td>2113 Sapp Brothers Dr</td>\n",
              "      <td>Lodging,Hotels,Motels</td>\n",
              "      <td>Percival</td>\n",
              "      <td>US</td>\n",
              "      <td>40.689730</td>\n",
              "      <td>-95.788826</td>\n",
              "      <td>Americas Best Value Inn</td>\n",
              "      <td>51648</td>\n",
              "      <td>IA</td>\n",
              "      <td>0</td>\n",
              "    </tr>\n",
              "    <tr>\n",
              "      <th>2</th>\n",
              "      <td>58</td>\n",
              "      <td>2860 Grand Ave</td>\n",
              "      <td>Hotels,Restaurants</td>\n",
              "      <td>Los Olivos</td>\n",
              "      <td>US</td>\n",
              "      <td>34.664684</td>\n",
              "      <td>-120.115036</td>\n",
              "      <td>Intermezzo</td>\n",
              "      <td>93441</td>\n",
              "      <td>CA</td>\n",
              "      <td>0</td>\n",
              "    </tr>\n",
              "    <tr>\n",
              "      <th>3</th>\n",
              "      <td>59</td>\n",
              "      <td>142 Park Place Us 181 Business At Park Pl</td>\n",
              "      <td>Hotels</td>\n",
              "      <td>Kenedy</td>\n",
              "      <td>US</td>\n",
              "      <td>28.793795</td>\n",
              "      <td>-97.849655</td>\n",
              "      <td>Studio 6</td>\n",
              "      <td>78119</td>\n",
              "      <td>TX</td>\n",
              "      <td>0</td>\n",
              "    </tr>\n",
              "    <tr>\n",
              "      <th>4</th>\n",
              "      <td>60</td>\n",
              "      <td>435 E Avenida Olancha</td>\n",
              "      <td>Hotels,Hotel</td>\n",
              "      <td>Palm Springs</td>\n",
              "      <td>US</td>\n",
              "      <td>33.802822</td>\n",
              "      <td>-116.542690</td>\n",
              "      <td>Little Paradise Hotel</td>\n",
              "      <td>92264</td>\n",
              "      <td>CA</td>\n",
              "      <td>5</td>\n",
              "    </tr>\n",
              "    <tr>\n",
              "      <th>5</th>\n",
              "      <td>81</td>\n",
              "      <td>1055 E Mcnee Road Of Main St</td>\n",
              "      <td>Corporate Lodging,Hotel &amp; Motel Reservations,H...</td>\n",
              "      <td>Houston</td>\n",
              "      <td>US</td>\n",
              "      <td>29.681085</td>\n",
              "      <td>-95.402996</td>\n",
              "      <td>Comfort Suites</td>\n",
              "      <td>77054</td>\n",
              "      <td>TX</td>\n",
              "      <td>4</td>\n",
              "    </tr>\n",
              "    <tr>\n",
              "      <th>6</th>\n",
              "      <td>96</td>\n",
              "      <td>15249 N 59th Ave</td>\n",
              "      <td>Hotels</td>\n",
              "      <td>Glendale</td>\n",
              "      <td>US</td>\n",
              "      <td>33.620773</td>\n",
              "      <td>-112.185661</td>\n",
              "      <td>Thunderbird Executive Inn and Conference Center</td>\n",
              "      <td>85306</td>\n",
              "      <td>AZ</td>\n",
              "      <td>3</td>\n",
              "    </tr>\n",
              "    <tr>\n",
              "      <th>7</th>\n",
              "      <td>97</td>\n",
              "      <td>316 N Main St</td>\n",
              "      <td>Motels,Hotels,Restaurants,Bed &amp; Breakfast &amp; Inns</td>\n",
              "      <td>Neihart</td>\n",
              "      <td>US</td>\n",
              "      <td>46.933598</td>\n",
              "      <td>-110.735886</td>\n",
              "      <td>Little Belt Inn Neihart</td>\n",
              "      <td>59465</td>\n",
              "      <td>MT</td>\n",
              "      <td>0</td>\n",
              "    </tr>\n",
              "    <tr>\n",
              "      <th>8</th>\n",
              "      <td>99</td>\n",
              "      <td>1700 N Livermore Ave</td>\n",
              "      <td>Hotels</td>\n",
              "      <td>Livermore</td>\n",
              "      <td>US</td>\n",
              "      <td>37.698349</td>\n",
              "      <td>-121.773710</td>\n",
              "      <td>Hawthorn Suites By Wyndham Livermore Wine Country</td>\n",
              "      <td>94551</td>\n",
              "      <td>CA</td>\n",
              "      <td>3</td>\n",
              "    </tr>\n",
              "    <tr>\n",
              "      <th>9</th>\n",
              "      <td>184</td>\n",
              "      <td>864</td>\n",
              "      <td>Hotels</td>\n",
              "      <td>Binghamton</td>\n",
              "      <td>US</td>\n",
              "      <td>42.130338</td>\n",
              "      <td>-75.905832</td>\n",
              "      <td>Fairfield Inn By Marriott Binghamton</td>\n",
              "      <td>13905</td>\n",
              "      <td>Choconut Center</td>\n",
              "      <td>4</td>\n",
              "    </tr>\n",
              "    <tr>\n",
              "      <th>10</th>\n",
              "      <td>247</td>\n",
              "      <td>1932 Lima Sandusky Rd</td>\n",
              "      <td>Lodging,Corporate Lodging,Hotels</td>\n",
              "      <td>Sandusky</td>\n",
              "      <td>US</td>\n",
              "      <td>41.441440</td>\n",
              "      <td>-82.797050</td>\n",
              "      <td>Howard Johnson</td>\n",
              "      <td>44870</td>\n",
              "      <td>Bloomingville</td>\n",
              "      <td>0</td>\n",
              "    </tr>\n",
              "    <tr>\n",
              "      <th>11</th>\n",
              "      <td>248</td>\n",
              "      <td>5820 Walden Rd</td>\n",
              "      <td>Lodging,Motels,Hotels,Meeting &amp; Event Planning...</td>\n",
              "      <td>Beaumont</td>\n",
              "      <td>US</td>\n",
              "      <td>30.038670</td>\n",
              "      <td>-94.159330</td>\n",
              "      <td>La Quinta</td>\n",
              "      <td>77707</td>\n",
              "      <td>TX</td>\n",
              "      <td>1</td>\n",
              "    </tr>\n",
              "    <tr>\n",
              "      <th>12</th>\n",
              "      <td>249</td>\n",
              "      <td>2700 S Country Club Rd</td>\n",
              "      <td>Hotels</td>\n",
              "      <td>El Reno</td>\n",
              "      <td>US</td>\n",
              "      <td>35.505170</td>\n",
              "      <td>-97.972840</td>\n",
              "      <td>Days Inn El Reno Ok</td>\n",
              "      <td>73036</td>\n",
              "      <td>OK</td>\n",
              "      <td>3</td>\n",
              "    </tr>\n",
              "    <tr>\n",
              "      <th>13</th>\n",
              "      <td>280</td>\n",
              "      <td>23525 N E Halsey St</td>\n",
              "      <td>Hotels,Lodging</td>\n",
              "      <td>Troutdale</td>\n",
              "      <td>US</td>\n",
              "      <td>45.536780</td>\n",
              "      <td>-122.421040</td>\n",
              "      <td>Gresham Area Hotels</td>\n",
              "      <td>97060</td>\n",
              "      <td>OR</td>\n",
              "      <td>0</td>\n",
              "    </tr>\n",
              "    <tr>\n",
              "      <th>14</th>\n",
              "      <td>281</td>\n",
              "      <td>1118 Government St</td>\n",
              "      <td>Bed &amp; Breakfasts,Hotels,Hotels &amp; Motels,Lodgin...</td>\n",
              "      <td>Mobile</td>\n",
              "      <td>US</td>\n",
              "      <td>30.684177</td>\n",
              "      <td>-88.062045</td>\n",
              "      <td>Berney Fly Bed and Breakfast</td>\n",
              "      <td>36604</td>\n",
              "      <td>AL</td>\n",
              "      <td>5</td>\n",
              "    </tr>\n",
              "    <tr>\n",
              "      <th>15</th>\n",
              "      <td>318</td>\n",
              "      <td>2131 Kalakaua Ave</td>\n",
              "      <td>Vacation Rentals,Resorts &amp; Vacation Cottages,V...</td>\n",
              "      <td>Honolulu</td>\n",
              "      <td>US</td>\n",
              "      <td>21.281574</td>\n",
              "      <td>-157.830789</td>\n",
              "      <td>Polynesian Plaza</td>\n",
              "      <td>96815</td>\n",
              "      <td>Hono</td>\n",
              "      <td>3</td>\n",
              "    </tr>\n",
              "  </tbody>\n",
              "</table>\n",
              "</div>"
            ],
            "text/plain": [
              "    Hotel Reg ID  ... reviews.rating\n",
              "0              0  ...              4\n",
              "1             57  ...              0\n",
              "2             58  ...              0\n",
              "3             59  ...              0\n",
              "4             60  ...              5\n",
              "5             81  ...              4\n",
              "6             96  ...              3\n",
              "7             97  ...              0\n",
              "8             99  ...              3\n",
              "9            184  ...              4\n",
              "10           247  ...              0\n",
              "11           248  ...              1\n",
              "12           249  ...              3\n",
              "13           280  ...              0\n",
              "14           281  ...              5\n",
              "15           318  ...              3\n",
              "\n",
              "[16 rows x 11 columns]"
            ]
          },
          "metadata": {
            "tags": []
          },
          "execution_count": 31
        }
      ]
    },
    {
      "cell_type": "code",
      "metadata": {
        "id": "0TW2eWmUoPHE",
        "colab_type": "code",
        "outputId": "572a6a0e-75d0-4885-cec4-268545c21957",
        "colab": {
          "base_uri": "https://localhost:8080/",
          "height": 390
        }
      },
      "source": [
        "dfs = pd.read_excel(open('globalTemp.xlsx', 'rb'),sheet_name='10 Hottest Years')\n",
        "dfs"
      ],
      "execution_count": 0,
      "outputs": [
        {
          "output_type": "execute_result",
          "data": {
            "text/html": [
              "<div>\n",
              "<style scoped>\n",
              "    .dataframe tbody tr th:only-of-type {\n",
              "        vertical-align: middle;\n",
              "    }\n",
              "\n",
              "    .dataframe tbody tr th {\n",
              "        vertical-align: top;\n",
              "    }\n",
              "\n",
              "    .dataframe thead th {\n",
              "        text-align: right;\n",
              "    }\n",
              "</style>\n",
              "<table border=\"1\" class=\"dataframe\">\n",
              "  <thead>\n",
              "    <tr style=\"text-align: right;\">\n",
              "      <th></th>\n",
              "      <th>Ten Hottest Years on Record, 1880-2012</th>\n",
              "      <th>Unnamed: 1</th>\n",
              "    </tr>\n",
              "  </thead>\n",
              "  <tbody>\n",
              "    <tr>\n",
              "      <th>0</th>\n",
              "      <td>Year</td>\n",
              "      <td>Average Global Temperature</td>\n",
              "    </tr>\n",
              "    <tr>\n",
              "      <th>1</th>\n",
              "      <td>2010</td>\n",
              "      <td>58.388</td>\n",
              "    </tr>\n",
              "    <tr>\n",
              "      <th>2</th>\n",
              "      <td>2005</td>\n",
              "      <td>58.37</td>\n",
              "    </tr>\n",
              "    <tr>\n",
              "      <th>3</th>\n",
              "      <td>2007</td>\n",
              "      <td>58.316</td>\n",
              "    </tr>\n",
              "    <tr>\n",
              "      <th>4</th>\n",
              "      <td>1998</td>\n",
              "      <td>58.298</td>\n",
              "    </tr>\n",
              "    <tr>\n",
              "      <th>5</th>\n",
              "      <td>2002</td>\n",
              "      <td>58.28</td>\n",
              "    </tr>\n",
              "    <tr>\n",
              "      <th>6</th>\n",
              "      <td>2003</td>\n",
              "      <td>58.262</td>\n",
              "    </tr>\n",
              "    <tr>\n",
              "      <th>7</th>\n",
              "      <td>2006</td>\n",
              "      <td>58.262</td>\n",
              "    </tr>\n",
              "    <tr>\n",
              "      <th>8</th>\n",
              "      <td>2009</td>\n",
              "      <td>58.262</td>\n",
              "    </tr>\n",
              "    <tr>\n",
              "      <th>9</th>\n",
              "      <td>2012</td>\n",
              "      <td>58.208</td>\n",
              "    </tr>\n",
              "    <tr>\n",
              "      <th>10</th>\n",
              "      <td>2011</td>\n",
              "      <td>58.172</td>\n",
              "    </tr>\n",
              "  </tbody>\n",
              "</table>\n",
              "</div>"
            ],
            "text/plain": [
              "   Ten Hottest Years on Record, 1880-2012                  Unnamed: 1\n",
              "0                                    Year  Average Global Temperature\n",
              "1                                    2010                      58.388\n",
              "2                                    2005                       58.37\n",
              "3                                    2007                      58.316\n",
              "4                                    1998                      58.298\n",
              "5                                    2002                       58.28\n",
              "6                                    2003                      58.262\n",
              "7                                    2006                      58.262\n",
              "8                                    2009                      58.262\n",
              "9                                    2012                      58.208\n",
              "10                                   2011                      58.172"
            ]
          },
          "metadata": {
            "tags": []
          },
          "execution_count": 32
        }
      ]
    },
    {
      "cell_type": "code",
      "metadata": {
        "id": "6HHSU9NnolxD",
        "colab_type": "code",
        "colab": {}
      },
      "source": [
        ""
      ],
      "execution_count": 0,
      "outputs": []
    }
  ]
}