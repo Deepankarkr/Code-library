{
  "nbformat": 4,
  "nbformat_minor": 0,
  "metadata": {
    "colab": {
      "name": "Deepankar_at_ofc.ipynb",
      "version": "0.3.2",
      "provenance": [],
      "collapsed_sections": [],
      "include_colab_link": true
    },
    "kernelspec": {
      "name": "python3",
      "display_name": "Python 3"
    }
  },
  "cells": [
    {
      "cell_type": "markdown",
      "metadata": {
        "id": "view-in-github",
        "colab_type": "text"
      },
      "source": [
        "<a href=\"https://colab.research.google.com/github/Deepankarkr/Code-library/blob/master/Deepankar_at_ofc.ipynb\" target=\"_parent\"><img src=\"https://colab.research.google.com/assets/colab-badge.svg\" alt=\"Open In Colab\"/></a>"
      ]
    },
    {
      "cell_type": "code",
      "metadata": {
        "id": "-K542AEm8wfU",
        "colab_type": "code",
        "outputId": "ecad4eac-ec85-424f-f948-703b0b90a3d5",
        "colab": {
          "base_uri": "https://localhost:8080/",
          "height": 34
        }
      },
      "source": [
        "print(1+1)"
      ],
      "execution_count": 4,
      "outputs": [
        {
          "output_type": "stream",
          "text": [
            "2\n"
          ],
          "name": "stdout"
        }
      ]
    },
    {
      "cell_type": "code",
      "metadata": {
        "id": "NnQ1i5jz9PJu",
        "colab_type": "code",
        "colab": {}
      },
      "source": [
        "import numpy as np\n",
        "import pandas as pd"
      ],
      "execution_count": 0,
      "outputs": []
    },
    {
      "cell_type": "code",
      "metadata": {
        "id": "gRuxsAUN9TGr",
        "colab_type": "code",
        "colab": {}
      },
      "source": [
        "dates = pd.date_range('20130101', periods=6)"
      ],
      "execution_count": 0,
      "outputs": []
    },
    {
      "cell_type": "code",
      "metadata": {
        "id": "J5ZHNMOP9WG7",
        "colab_type": "code",
        "colab": {}
      },
      "source": [
        "df = pd.DataFrame(np.random.randn(6, 4), index=dates, columns=list('ABCD'))"
      ],
      "execution_count": 0,
      "outputs": []
    },
    {
      "cell_type": "code",
      "metadata": {
        "id": "LtcTMkFn9gge",
        "colab_type": "code",
        "outputId": "1fb3df97-0d62-445b-eb9b-08acdee186dd",
        "colab": {
          "base_uri": "https://localhost:8080/",
          "height": 235
        }
      },
      "source": [
        "df"
      ],
      "execution_count": 8,
      "outputs": [
        {
          "output_type": "execute_result",
          "data": {
            "text/html": [
              "<div>\n",
              "<style scoped>\n",
              "    .dataframe tbody tr th:only-of-type {\n",
              "        vertical-align: middle;\n",
              "    }\n",
              "\n",
              "    .dataframe tbody tr th {\n",
              "        vertical-align: top;\n",
              "    }\n",
              "\n",
              "    .dataframe thead th {\n",
              "        text-align: right;\n",
              "    }\n",
              "</style>\n",
              "<table border=\"1\" class=\"dataframe\">\n",
              "  <thead>\n",
              "    <tr style=\"text-align: right;\">\n",
              "      <th></th>\n",
              "      <th>A</th>\n",
              "      <th>B</th>\n",
              "      <th>C</th>\n",
              "      <th>D</th>\n",
              "    </tr>\n",
              "  </thead>\n",
              "  <tbody>\n",
              "    <tr>\n",
              "      <th>2013-01-01</th>\n",
              "      <td>-0.272280</td>\n",
              "      <td>0.369550</td>\n",
              "      <td>-0.725872</td>\n",
              "      <td>-0.986397</td>\n",
              "    </tr>\n",
              "    <tr>\n",
              "      <th>2013-01-02</th>\n",
              "      <td>0.721837</td>\n",
              "      <td>0.604375</td>\n",
              "      <td>-1.441715</td>\n",
              "      <td>-0.180103</td>\n",
              "    </tr>\n",
              "    <tr>\n",
              "      <th>2013-01-03</th>\n",
              "      <td>-0.163330</td>\n",
              "      <td>-0.735852</td>\n",
              "      <td>-0.413373</td>\n",
              "      <td>-0.461528</td>\n",
              "    </tr>\n",
              "    <tr>\n",
              "      <th>2013-01-04</th>\n",
              "      <td>-0.509370</td>\n",
              "      <td>-0.516303</td>\n",
              "      <td>0.084189</td>\n",
              "      <td>1.652261</td>\n",
              "    </tr>\n",
              "    <tr>\n",
              "      <th>2013-01-05</th>\n",
              "      <td>1.426707</td>\n",
              "      <td>-0.254556</td>\n",
              "      <td>-0.810670</td>\n",
              "      <td>1.566241</td>\n",
              "    </tr>\n",
              "    <tr>\n",
              "      <th>2013-01-06</th>\n",
              "      <td>-0.945960</td>\n",
              "      <td>-0.498848</td>\n",
              "      <td>-0.393343</td>\n",
              "      <td>-0.404745</td>\n",
              "    </tr>\n",
              "  </tbody>\n",
              "</table>\n",
              "</div>"
            ],
            "text/plain": [
              "                   A         B         C         D\n",
              "2013-01-01 -0.272280  0.369550 -0.725872 -0.986397\n",
              "2013-01-02  0.721837  0.604375 -1.441715 -0.180103\n",
              "2013-01-03 -0.163330 -0.735852 -0.413373 -0.461528\n",
              "2013-01-04 -0.509370 -0.516303  0.084189  1.652261\n",
              "2013-01-05  1.426707 -0.254556 -0.810670  1.566241\n",
              "2013-01-06 -0.945960 -0.498848 -0.393343 -0.404745"
            ]
          },
          "metadata": {
            "tags": []
          },
          "execution_count": 8
        }
      ]
    },
    {
      "cell_type": "code",
      "metadata": {
        "id": "bSEEtwTl9hg_",
        "colab_type": "code",
        "outputId": "b5f808ad-5d23-4e5a-a977-b82db12019f3",
        "colab": {
          "base_uri": "https://localhost:8080/",
          "height": 111
        }
      },
      "source": [
        "df.head(2) # to get top rows , default is 5 rows otherwise whatever provided in (4)"
      ],
      "execution_count": 9,
      "outputs": [
        {
          "output_type": "execute_result",
          "data": {
            "text/html": [
              "<div>\n",
              "<style scoped>\n",
              "    .dataframe tbody tr th:only-of-type {\n",
              "        vertical-align: middle;\n",
              "    }\n",
              "\n",
              "    .dataframe tbody tr th {\n",
              "        vertical-align: top;\n",
              "    }\n",
              "\n",
              "    .dataframe thead th {\n",
              "        text-align: right;\n",
              "    }\n",
              "</style>\n",
              "<table border=\"1\" class=\"dataframe\">\n",
              "  <thead>\n",
              "    <tr style=\"text-align: right;\">\n",
              "      <th></th>\n",
              "      <th>A</th>\n",
              "      <th>B</th>\n",
              "      <th>C</th>\n",
              "      <th>D</th>\n",
              "    </tr>\n",
              "  </thead>\n",
              "  <tbody>\n",
              "    <tr>\n",
              "      <th>2013-01-01</th>\n",
              "      <td>-0.272280</td>\n",
              "      <td>0.369550</td>\n",
              "      <td>-0.725872</td>\n",
              "      <td>-0.986397</td>\n",
              "    </tr>\n",
              "    <tr>\n",
              "      <th>2013-01-02</th>\n",
              "      <td>0.721837</td>\n",
              "      <td>0.604375</td>\n",
              "      <td>-1.441715</td>\n",
              "      <td>-0.180103</td>\n",
              "    </tr>\n",
              "  </tbody>\n",
              "</table>\n",
              "</div>"
            ],
            "text/plain": [
              "                   A         B         C         D\n",
              "2013-01-01 -0.272280  0.369550 -0.725872 -0.986397\n",
              "2013-01-02  0.721837  0.604375 -1.441715 -0.180103"
            ]
          },
          "metadata": {
            "tags": []
          },
          "execution_count": 9
        }
      ]
    },
    {
      "cell_type": "code",
      "metadata": {
        "id": "HfGo1BLU9wMD",
        "colab_type": "code",
        "outputId": "c3f0e1be-9f2a-42b2-d1a0-91a6365a6476",
        "colab": {
          "base_uri": "https://localhost:8080/",
          "height": 142
        }
      },
      "source": [
        "df.tail(3)"
      ],
      "execution_count": 10,
      "outputs": [
        {
          "output_type": "execute_result",
          "data": {
            "text/html": [
              "<div>\n",
              "<style scoped>\n",
              "    .dataframe tbody tr th:only-of-type {\n",
              "        vertical-align: middle;\n",
              "    }\n",
              "\n",
              "    .dataframe tbody tr th {\n",
              "        vertical-align: top;\n",
              "    }\n",
              "\n",
              "    .dataframe thead th {\n",
              "        text-align: right;\n",
              "    }\n",
              "</style>\n",
              "<table border=\"1\" class=\"dataframe\">\n",
              "  <thead>\n",
              "    <tr style=\"text-align: right;\">\n",
              "      <th></th>\n",
              "      <th>A</th>\n",
              "      <th>B</th>\n",
              "      <th>C</th>\n",
              "      <th>D</th>\n",
              "    </tr>\n",
              "  </thead>\n",
              "  <tbody>\n",
              "    <tr>\n",
              "      <th>2013-01-04</th>\n",
              "      <td>-0.509370</td>\n",
              "      <td>-0.516303</td>\n",
              "      <td>0.084189</td>\n",
              "      <td>1.652261</td>\n",
              "    </tr>\n",
              "    <tr>\n",
              "      <th>2013-01-05</th>\n",
              "      <td>1.426707</td>\n",
              "      <td>-0.254556</td>\n",
              "      <td>-0.810670</td>\n",
              "      <td>1.566241</td>\n",
              "    </tr>\n",
              "    <tr>\n",
              "      <th>2013-01-06</th>\n",
              "      <td>-0.945960</td>\n",
              "      <td>-0.498848</td>\n",
              "      <td>-0.393343</td>\n",
              "      <td>-0.404745</td>\n",
              "    </tr>\n",
              "  </tbody>\n",
              "</table>\n",
              "</div>"
            ],
            "text/plain": [
              "                   A         B         C         D\n",
              "2013-01-04 -0.509370 -0.516303  0.084189  1.652261\n",
              "2013-01-05  1.426707 -0.254556 -0.810670  1.566241\n",
              "2013-01-06 -0.945960 -0.498848 -0.393343 -0.404745"
            ]
          },
          "metadata": {
            "tags": []
          },
          "execution_count": 10
        }
      ]
    },
    {
      "cell_type": "code",
      "metadata": {
        "id": "Rn150IkY90fj",
        "colab_type": "code",
        "outputId": "df7760ea-fb10-40c3-c480-c2dcf19c319f",
        "colab": {
          "base_uri": "https://localhost:8080/",
          "height": 68
        }
      },
      "source": [
        "df.index"
      ],
      "execution_count": 11,
      "outputs": [
        {
          "output_type": "execute_result",
          "data": {
            "text/plain": [
              "DatetimeIndex(['2013-01-01', '2013-01-02', '2013-01-03', '2013-01-04',\n",
              "               '2013-01-05', '2013-01-06'],\n",
              "              dtype='datetime64[ns]', freq='D')"
            ]
          },
          "metadata": {
            "tags": []
          },
          "execution_count": 11
        }
      ]
    },
    {
      "cell_type": "code",
      "metadata": {
        "id": "mh7Xb5I8927j",
        "colab_type": "code",
        "outputId": "f98c1575-98ed-499e-cc3a-05e5cb128d7d",
        "colab": {
          "base_uri": "https://localhost:8080/",
          "height": 34
        }
      },
      "source": [
        "df.columns"
      ],
      "execution_count": 12,
      "outputs": [
        {
          "output_type": "execute_result",
          "data": {
            "text/plain": [
              "Index(['A', 'B', 'C', 'D'], dtype='object')"
            ]
          },
          "metadata": {
            "tags": []
          },
          "execution_count": 12
        }
      ]
    },
    {
      "cell_type": "code",
      "metadata": {
        "id": "OXynsuCL94o2",
        "colab_type": "code",
        "outputId": "1c7bee23-31bc-4dd0-e81b-d31f0b6e7174",
        "colab": {
          "base_uri": "https://localhost:8080/",
          "height": 119
        }
      },
      "source": [
        "df.to_numpy() #NumPy arrays have one dtype for the entire array, while pandas DataFrames have one dtype per column"
      ],
      "execution_count": 13,
      "outputs": [
        {
          "output_type": "execute_result",
          "data": {
            "text/plain": [
              "array([[-0.27227953,  0.36954982, -0.72587167, -0.98639721],\n",
              "       [ 0.72183701,  0.60437498, -1.44171458, -0.18010348],\n",
              "       [-0.16333034, -0.73585236, -0.41337321, -0.46152809],\n",
              "       [-0.50936956, -0.51630263,  0.08418903,  1.65226145],\n",
              "       [ 1.42670711, -0.25455593, -0.81067018,  1.56624123],\n",
              "       [-0.9459601 , -0.49884795, -0.39334256, -0.4047449 ]])"
            ]
          },
          "metadata": {
            "tags": []
          },
          "execution_count": 13
        }
      ]
    },
    {
      "cell_type": "code",
      "metadata": {
        "id": "MIcmx0Ot-KrK",
        "colab_type": "code",
        "outputId": "d55ae5d2-ac40-4177-e070-c1d3070cec4c",
        "colab": {
          "base_uri": "https://localhost:8080/",
          "height": 297
        }
      },
      "source": [
        "df.describe() # shows a quick statistic summary of your data"
      ],
      "execution_count": 14,
      "outputs": [
        {
          "output_type": "execute_result",
          "data": {
            "text/html": [
              "<div>\n",
              "<style scoped>\n",
              "    .dataframe tbody tr th:only-of-type {\n",
              "        vertical-align: middle;\n",
              "    }\n",
              "\n",
              "    .dataframe tbody tr th {\n",
              "        vertical-align: top;\n",
              "    }\n",
              "\n",
              "    .dataframe thead th {\n",
              "        text-align: right;\n",
              "    }\n",
              "</style>\n",
              "<table border=\"1\" class=\"dataframe\">\n",
              "  <thead>\n",
              "    <tr style=\"text-align: right;\">\n",
              "      <th></th>\n",
              "      <th>A</th>\n",
              "      <th>B</th>\n",
              "      <th>C</th>\n",
              "      <th>D</th>\n",
              "    </tr>\n",
              "  </thead>\n",
              "  <tbody>\n",
              "    <tr>\n",
              "      <th>count</th>\n",
              "      <td>6.000000</td>\n",
              "      <td>6.000000</td>\n",
              "      <td>6.000000</td>\n",
              "      <td>6.000000</td>\n",
              "    </tr>\n",
              "    <tr>\n",
              "      <th>mean</th>\n",
              "      <td>0.042934</td>\n",
              "      <td>-0.171939</td>\n",
              "      <td>-0.616797</td>\n",
              "      <td>0.197622</td>\n",
              "    </tr>\n",
              "    <tr>\n",
              "      <th>std</th>\n",
              "      <td>0.871848</td>\n",
              "      <td>0.537802</td>\n",
              "      <td>0.512380</td>\n",
              "      <td>1.125255</td>\n",
              "    </tr>\n",
              "    <tr>\n",
              "      <th>min</th>\n",
              "      <td>-0.945960</td>\n",
              "      <td>-0.735852</td>\n",
              "      <td>-1.441715</td>\n",
              "      <td>-0.986397</td>\n",
              "    </tr>\n",
              "    <tr>\n",
              "      <th>25%</th>\n",
              "      <td>-0.450097</td>\n",
              "      <td>-0.511939</td>\n",
              "      <td>-0.789471</td>\n",
              "      <td>-0.447332</td>\n",
              "    </tr>\n",
              "    <tr>\n",
              "      <th>50%</th>\n",
              "      <td>-0.217805</td>\n",
              "      <td>-0.376702</td>\n",
              "      <td>-0.569622</td>\n",
              "      <td>-0.292424</td>\n",
              "    </tr>\n",
              "    <tr>\n",
              "      <th>75%</th>\n",
              "      <td>0.500545</td>\n",
              "      <td>0.213523</td>\n",
              "      <td>-0.398350</td>\n",
              "      <td>1.129655</td>\n",
              "    </tr>\n",
              "    <tr>\n",
              "      <th>max</th>\n",
              "      <td>1.426707</td>\n",
              "      <td>0.604375</td>\n",
              "      <td>0.084189</td>\n",
              "      <td>1.652261</td>\n",
              "    </tr>\n",
              "  </tbody>\n",
              "</table>\n",
              "</div>"
            ],
            "text/plain": [
              "              A         B         C         D\n",
              "count  6.000000  6.000000  6.000000  6.000000\n",
              "mean   0.042934 -0.171939 -0.616797  0.197622\n",
              "std    0.871848  0.537802  0.512380  1.125255\n",
              "min   -0.945960 -0.735852 -1.441715 -0.986397\n",
              "25%   -0.450097 -0.511939 -0.789471 -0.447332\n",
              "50%   -0.217805 -0.376702 -0.569622 -0.292424\n",
              "75%    0.500545  0.213523 -0.398350  1.129655\n",
              "max    1.426707  0.604375  0.084189  1.652261"
            ]
          },
          "metadata": {
            "tags": []
          },
          "execution_count": 14
        }
      ]
    },
    {
      "cell_type": "code",
      "metadata": {
        "id": "rMAo8Ek8-X2v",
        "colab_type": "code",
        "outputId": "cf3d39a0-bde6-4d93-ded9-b8c461566f37",
        "colab": {
          "base_uri": "https://localhost:8080/",
          "height": 173
        }
      },
      "source": [
        "df.T"
      ],
      "execution_count": 15,
      "outputs": [
        {
          "output_type": "execute_result",
          "data": {
            "text/html": [
              "<div>\n",
              "<style scoped>\n",
              "    .dataframe tbody tr th:only-of-type {\n",
              "        vertical-align: middle;\n",
              "    }\n",
              "\n",
              "    .dataframe tbody tr th {\n",
              "        vertical-align: top;\n",
              "    }\n",
              "\n",
              "    .dataframe thead th {\n",
              "        text-align: right;\n",
              "    }\n",
              "</style>\n",
              "<table border=\"1\" class=\"dataframe\">\n",
              "  <thead>\n",
              "    <tr style=\"text-align: right;\">\n",
              "      <th></th>\n",
              "      <th>2013-01-01 00:00:00</th>\n",
              "      <th>2013-01-02 00:00:00</th>\n",
              "      <th>2013-01-03 00:00:00</th>\n",
              "      <th>2013-01-04 00:00:00</th>\n",
              "      <th>2013-01-05 00:00:00</th>\n",
              "      <th>2013-01-06 00:00:00</th>\n",
              "    </tr>\n",
              "  </thead>\n",
              "  <tbody>\n",
              "    <tr>\n",
              "      <th>A</th>\n",
              "      <td>-0.272280</td>\n",
              "      <td>0.721837</td>\n",
              "      <td>-0.163330</td>\n",
              "      <td>-0.509370</td>\n",
              "      <td>1.426707</td>\n",
              "      <td>-0.945960</td>\n",
              "    </tr>\n",
              "    <tr>\n",
              "      <th>B</th>\n",
              "      <td>0.369550</td>\n",
              "      <td>0.604375</td>\n",
              "      <td>-0.735852</td>\n",
              "      <td>-0.516303</td>\n",
              "      <td>-0.254556</td>\n",
              "      <td>-0.498848</td>\n",
              "    </tr>\n",
              "    <tr>\n",
              "      <th>C</th>\n",
              "      <td>-0.725872</td>\n",
              "      <td>-1.441715</td>\n",
              "      <td>-0.413373</td>\n",
              "      <td>0.084189</td>\n",
              "      <td>-0.810670</td>\n",
              "      <td>-0.393343</td>\n",
              "    </tr>\n",
              "    <tr>\n",
              "      <th>D</th>\n",
              "      <td>-0.986397</td>\n",
              "      <td>-0.180103</td>\n",
              "      <td>-0.461528</td>\n",
              "      <td>1.652261</td>\n",
              "      <td>1.566241</td>\n",
              "      <td>-0.404745</td>\n",
              "    </tr>\n",
              "  </tbody>\n",
              "</table>\n",
              "</div>"
            ],
            "text/plain": [
              "   2013-01-01  2013-01-02  2013-01-03  2013-01-04  2013-01-05  2013-01-06\n",
              "A   -0.272280    0.721837   -0.163330   -0.509370    1.426707   -0.945960\n",
              "B    0.369550    0.604375   -0.735852   -0.516303   -0.254556   -0.498848\n",
              "C   -0.725872   -1.441715   -0.413373    0.084189   -0.810670   -0.393343\n",
              "D   -0.986397   -0.180103   -0.461528    1.652261    1.566241   -0.404745"
            ]
          },
          "metadata": {
            "tags": []
          },
          "execution_count": 15
        }
      ]
    },
    {
      "cell_type": "code",
      "metadata": {
        "id": "LSnuKPj2-aMe",
        "colab_type": "code",
        "outputId": "7952b97d-9485-4400-bf3a-9234b088e35c",
        "colab": {
          "base_uri": "https://localhost:8080/",
          "height": 235
        }
      },
      "source": [
        "df.sort_values(by='B') # sort by any Column"
      ],
      "execution_count": 16,
      "outputs": [
        {
          "output_type": "execute_result",
          "data": {
            "text/html": [
              "<div>\n",
              "<style scoped>\n",
              "    .dataframe tbody tr th:only-of-type {\n",
              "        vertical-align: middle;\n",
              "    }\n",
              "\n",
              "    .dataframe tbody tr th {\n",
              "        vertical-align: top;\n",
              "    }\n",
              "\n",
              "    .dataframe thead th {\n",
              "        text-align: right;\n",
              "    }\n",
              "</style>\n",
              "<table border=\"1\" class=\"dataframe\">\n",
              "  <thead>\n",
              "    <tr style=\"text-align: right;\">\n",
              "      <th></th>\n",
              "      <th>A</th>\n",
              "      <th>B</th>\n",
              "      <th>C</th>\n",
              "      <th>D</th>\n",
              "    </tr>\n",
              "  </thead>\n",
              "  <tbody>\n",
              "    <tr>\n",
              "      <th>2013-01-03</th>\n",
              "      <td>-0.163330</td>\n",
              "      <td>-0.735852</td>\n",
              "      <td>-0.413373</td>\n",
              "      <td>-0.461528</td>\n",
              "    </tr>\n",
              "    <tr>\n",
              "      <th>2013-01-04</th>\n",
              "      <td>-0.509370</td>\n",
              "      <td>-0.516303</td>\n",
              "      <td>0.084189</td>\n",
              "      <td>1.652261</td>\n",
              "    </tr>\n",
              "    <tr>\n",
              "      <th>2013-01-06</th>\n",
              "      <td>-0.945960</td>\n",
              "      <td>-0.498848</td>\n",
              "      <td>-0.393343</td>\n",
              "      <td>-0.404745</td>\n",
              "    </tr>\n",
              "    <tr>\n",
              "      <th>2013-01-05</th>\n",
              "      <td>1.426707</td>\n",
              "      <td>-0.254556</td>\n",
              "      <td>-0.810670</td>\n",
              "      <td>1.566241</td>\n",
              "    </tr>\n",
              "    <tr>\n",
              "      <th>2013-01-01</th>\n",
              "      <td>-0.272280</td>\n",
              "      <td>0.369550</td>\n",
              "      <td>-0.725872</td>\n",
              "      <td>-0.986397</td>\n",
              "    </tr>\n",
              "    <tr>\n",
              "      <th>2013-01-02</th>\n",
              "      <td>0.721837</td>\n",
              "      <td>0.604375</td>\n",
              "      <td>-1.441715</td>\n",
              "      <td>-0.180103</td>\n",
              "    </tr>\n",
              "  </tbody>\n",
              "</table>\n",
              "</div>"
            ],
            "text/plain": [
              "                   A         B         C         D\n",
              "2013-01-03 -0.163330 -0.735852 -0.413373 -0.461528\n",
              "2013-01-04 -0.509370 -0.516303  0.084189  1.652261\n",
              "2013-01-06 -0.945960 -0.498848 -0.393343 -0.404745\n",
              "2013-01-05  1.426707 -0.254556 -0.810670  1.566241\n",
              "2013-01-01 -0.272280  0.369550 -0.725872 -0.986397\n",
              "2013-01-02  0.721837  0.604375 -1.441715 -0.180103"
            ]
          },
          "metadata": {
            "tags": []
          },
          "execution_count": 16
        }
      ]
    },
    {
      "cell_type": "code",
      "metadata": {
        "id": "vNYTTU2m-lYj",
        "colab_type": "code",
        "outputId": "a4542393-2754-481d-8328-979027f676fe",
        "colab": {
          "base_uri": "https://localhost:8080/",
          "height": 136
        }
      },
      "source": [
        "df['A']"
      ],
      "execution_count": 17,
      "outputs": [
        {
          "output_type": "execute_result",
          "data": {
            "text/plain": [
              "2013-01-01   -0.272280\n",
              "2013-01-02    0.721837\n",
              "2013-01-03   -0.163330\n",
              "2013-01-04   -0.509370\n",
              "2013-01-05    1.426707\n",
              "2013-01-06   -0.945960\n",
              "Freq: D, Name: A, dtype: float64"
            ]
          },
          "metadata": {
            "tags": []
          },
          "execution_count": 17
        }
      ]
    },
    {
      "cell_type": "code",
      "metadata": {
        "id": "EjjdPfUB-uKS",
        "colab_type": "code",
        "outputId": "2f526ddc-e873-4461-c0db-75ceda27370e",
        "colab": {
          "base_uri": "https://localhost:8080/",
          "height": 142
        }
      },
      "source": [
        "df[0:3]"
      ],
      "execution_count": 18,
      "outputs": [
        {
          "output_type": "execute_result",
          "data": {
            "text/html": [
              "<div>\n",
              "<style scoped>\n",
              "    .dataframe tbody tr th:only-of-type {\n",
              "        vertical-align: middle;\n",
              "    }\n",
              "\n",
              "    .dataframe tbody tr th {\n",
              "        vertical-align: top;\n",
              "    }\n",
              "\n",
              "    .dataframe thead th {\n",
              "        text-align: right;\n",
              "    }\n",
              "</style>\n",
              "<table border=\"1\" class=\"dataframe\">\n",
              "  <thead>\n",
              "    <tr style=\"text-align: right;\">\n",
              "      <th></th>\n",
              "      <th>A</th>\n",
              "      <th>B</th>\n",
              "      <th>C</th>\n",
              "      <th>D</th>\n",
              "    </tr>\n",
              "  </thead>\n",
              "  <tbody>\n",
              "    <tr>\n",
              "      <th>2013-01-01</th>\n",
              "      <td>-0.272280</td>\n",
              "      <td>0.369550</td>\n",
              "      <td>-0.725872</td>\n",
              "      <td>-0.986397</td>\n",
              "    </tr>\n",
              "    <tr>\n",
              "      <th>2013-01-02</th>\n",
              "      <td>0.721837</td>\n",
              "      <td>0.604375</td>\n",
              "      <td>-1.441715</td>\n",
              "      <td>-0.180103</td>\n",
              "    </tr>\n",
              "    <tr>\n",
              "      <th>2013-01-03</th>\n",
              "      <td>-0.163330</td>\n",
              "      <td>-0.735852</td>\n",
              "      <td>-0.413373</td>\n",
              "      <td>-0.461528</td>\n",
              "    </tr>\n",
              "  </tbody>\n",
              "</table>\n",
              "</div>"
            ],
            "text/plain": [
              "                   A         B         C         D\n",
              "2013-01-01 -0.272280  0.369550 -0.725872 -0.986397\n",
              "2013-01-02  0.721837  0.604375 -1.441715 -0.180103\n",
              "2013-01-03 -0.163330 -0.735852 -0.413373 -0.461528"
            ]
          },
          "metadata": {
            "tags": []
          },
          "execution_count": 18
        }
      ]
    },
    {
      "cell_type": "code",
      "metadata": {
        "id": "7MkvsIEh-wmD",
        "colab_type": "code",
        "outputId": "4743b692-0593-4008-d853-a07efa518fe4",
        "colab": {
          "base_uri": "https://localhost:8080/",
          "height": 102
        }
      },
      "source": [
        "df.loc[dates[4]] # here 4 is the index number of the starting from 0 to row_count-1"
      ],
      "execution_count": 19,
      "outputs": [
        {
          "output_type": "execute_result",
          "data": {
            "text/plain": [
              "A    1.426707\n",
              "B   -0.254556\n",
              "C   -0.810670\n",
              "D    1.566241\n",
              "Name: 2013-01-05 00:00:00, dtype: float64"
            ]
          },
          "metadata": {
            "tags": []
          },
          "execution_count": 19
        }
      ]
    },
    {
      "cell_type": "code",
      "metadata": {
        "id": "rmG9Ialk_KwK",
        "colab_type": "code",
        "outputId": "8cbc8510-8242-4a6d-ffc0-b18681195d89",
        "colab": {
          "base_uri": "https://localhost:8080/",
          "height": 235
        }
      },
      "source": [
        "df.loc[:] # All rows"
      ],
      "execution_count": 20,
      "outputs": [
        {
          "output_type": "execute_result",
          "data": {
            "text/html": [
              "<div>\n",
              "<style scoped>\n",
              "    .dataframe tbody tr th:only-of-type {\n",
              "        vertical-align: middle;\n",
              "    }\n",
              "\n",
              "    .dataframe tbody tr th {\n",
              "        vertical-align: top;\n",
              "    }\n",
              "\n",
              "    .dataframe thead th {\n",
              "        text-align: right;\n",
              "    }\n",
              "</style>\n",
              "<table border=\"1\" class=\"dataframe\">\n",
              "  <thead>\n",
              "    <tr style=\"text-align: right;\">\n",
              "      <th></th>\n",
              "      <th>A</th>\n",
              "      <th>B</th>\n",
              "      <th>C</th>\n",
              "      <th>D</th>\n",
              "    </tr>\n",
              "  </thead>\n",
              "  <tbody>\n",
              "    <tr>\n",
              "      <th>2013-01-01</th>\n",
              "      <td>-0.272280</td>\n",
              "      <td>0.369550</td>\n",
              "      <td>-0.725872</td>\n",
              "      <td>-0.986397</td>\n",
              "    </tr>\n",
              "    <tr>\n",
              "      <th>2013-01-02</th>\n",
              "      <td>0.721837</td>\n",
              "      <td>0.604375</td>\n",
              "      <td>-1.441715</td>\n",
              "      <td>-0.180103</td>\n",
              "    </tr>\n",
              "    <tr>\n",
              "      <th>2013-01-03</th>\n",
              "      <td>-0.163330</td>\n",
              "      <td>-0.735852</td>\n",
              "      <td>-0.413373</td>\n",
              "      <td>-0.461528</td>\n",
              "    </tr>\n",
              "    <tr>\n",
              "      <th>2013-01-04</th>\n",
              "      <td>-0.509370</td>\n",
              "      <td>-0.516303</td>\n",
              "      <td>0.084189</td>\n",
              "      <td>1.652261</td>\n",
              "    </tr>\n",
              "    <tr>\n",
              "      <th>2013-01-05</th>\n",
              "      <td>1.426707</td>\n",
              "      <td>-0.254556</td>\n",
              "      <td>-0.810670</td>\n",
              "      <td>1.566241</td>\n",
              "    </tr>\n",
              "    <tr>\n",
              "      <th>2013-01-06</th>\n",
              "      <td>-0.945960</td>\n",
              "      <td>-0.498848</td>\n",
              "      <td>-0.393343</td>\n",
              "      <td>-0.404745</td>\n",
              "    </tr>\n",
              "  </tbody>\n",
              "</table>\n",
              "</div>"
            ],
            "text/plain": [
              "                   A         B         C         D\n",
              "2013-01-01 -0.272280  0.369550 -0.725872 -0.986397\n",
              "2013-01-02  0.721837  0.604375 -1.441715 -0.180103\n",
              "2013-01-03 -0.163330 -0.735852 -0.413373 -0.461528\n",
              "2013-01-04 -0.509370 -0.516303  0.084189  1.652261\n",
              "2013-01-05  1.426707 -0.254556 -0.810670  1.566241\n",
              "2013-01-06 -0.945960 -0.498848 -0.393343 -0.404745"
            ]
          },
          "metadata": {
            "tags": []
          },
          "execution_count": 20
        }
      ]
    },
    {
      "cell_type": "code",
      "metadata": {
        "id": "yENfE5OQ_gxh",
        "colab_type": "code",
        "outputId": "fbbed822-d0a2-45be-de7b-5c5f123ce327",
        "colab": {
          "base_uri": "https://localhost:8080/",
          "height": 235
        }
      },
      "source": [
        "df.loc[:, ['A', 'C']] #only particular columns"
      ],
      "execution_count": 21,
      "outputs": [
        {
          "output_type": "execute_result",
          "data": {
            "text/html": [
              "<div>\n",
              "<style scoped>\n",
              "    .dataframe tbody tr th:only-of-type {\n",
              "        vertical-align: middle;\n",
              "    }\n",
              "\n",
              "    .dataframe tbody tr th {\n",
              "        vertical-align: top;\n",
              "    }\n",
              "\n",
              "    .dataframe thead th {\n",
              "        text-align: right;\n",
              "    }\n",
              "</style>\n",
              "<table border=\"1\" class=\"dataframe\">\n",
              "  <thead>\n",
              "    <tr style=\"text-align: right;\">\n",
              "      <th></th>\n",
              "      <th>A</th>\n",
              "      <th>C</th>\n",
              "    </tr>\n",
              "  </thead>\n",
              "  <tbody>\n",
              "    <tr>\n",
              "      <th>2013-01-01</th>\n",
              "      <td>-0.272280</td>\n",
              "      <td>-0.725872</td>\n",
              "    </tr>\n",
              "    <tr>\n",
              "      <th>2013-01-02</th>\n",
              "      <td>0.721837</td>\n",
              "      <td>-1.441715</td>\n",
              "    </tr>\n",
              "    <tr>\n",
              "      <th>2013-01-03</th>\n",
              "      <td>-0.163330</td>\n",
              "      <td>-0.413373</td>\n",
              "    </tr>\n",
              "    <tr>\n",
              "      <th>2013-01-04</th>\n",
              "      <td>-0.509370</td>\n",
              "      <td>0.084189</td>\n",
              "    </tr>\n",
              "    <tr>\n",
              "      <th>2013-01-05</th>\n",
              "      <td>1.426707</td>\n",
              "      <td>-0.810670</td>\n",
              "    </tr>\n",
              "    <tr>\n",
              "      <th>2013-01-06</th>\n",
              "      <td>-0.945960</td>\n",
              "      <td>-0.393343</td>\n",
              "    </tr>\n",
              "  </tbody>\n",
              "</table>\n",
              "</div>"
            ],
            "text/plain": [
              "                   A         C\n",
              "2013-01-01 -0.272280 -0.725872\n",
              "2013-01-02  0.721837 -1.441715\n",
              "2013-01-03 -0.163330 -0.413373\n",
              "2013-01-04 -0.509370  0.084189\n",
              "2013-01-05  1.426707 -0.810670\n",
              "2013-01-06 -0.945960 -0.393343"
            ]
          },
          "metadata": {
            "tags": []
          },
          "execution_count": 21
        }
      ]
    },
    {
      "cell_type": "code",
      "metadata": {
        "id": "N6DZfzmm_o6h",
        "colab_type": "code",
        "outputId": "9f03668a-bf75-49d7-a62b-21825dee64d4",
        "colab": {
          "base_uri": "https://localhost:8080/",
          "height": 142
        }
      },
      "source": [
        "df.loc['20130102':'20130104', ['A', 'B']]"
      ],
      "execution_count": 22,
      "outputs": [
        {
          "output_type": "execute_result",
          "data": {
            "text/html": [
              "<div>\n",
              "<style scoped>\n",
              "    .dataframe tbody tr th:only-of-type {\n",
              "        vertical-align: middle;\n",
              "    }\n",
              "\n",
              "    .dataframe tbody tr th {\n",
              "        vertical-align: top;\n",
              "    }\n",
              "\n",
              "    .dataframe thead th {\n",
              "        text-align: right;\n",
              "    }\n",
              "</style>\n",
              "<table border=\"1\" class=\"dataframe\">\n",
              "  <thead>\n",
              "    <tr style=\"text-align: right;\">\n",
              "      <th></th>\n",
              "      <th>A</th>\n",
              "      <th>B</th>\n",
              "    </tr>\n",
              "  </thead>\n",
              "  <tbody>\n",
              "    <tr>\n",
              "      <th>2013-01-02</th>\n",
              "      <td>0.721837</td>\n",
              "      <td>0.604375</td>\n",
              "    </tr>\n",
              "    <tr>\n",
              "      <th>2013-01-03</th>\n",
              "      <td>-0.163330</td>\n",
              "      <td>-0.735852</td>\n",
              "    </tr>\n",
              "    <tr>\n",
              "      <th>2013-01-04</th>\n",
              "      <td>-0.509370</td>\n",
              "      <td>-0.516303</td>\n",
              "    </tr>\n",
              "  </tbody>\n",
              "</table>\n",
              "</div>"
            ],
            "text/plain": [
              "                   A         B\n",
              "2013-01-02  0.721837  0.604375\n",
              "2013-01-03 -0.163330 -0.735852\n",
              "2013-01-04 -0.509370 -0.516303"
            ]
          },
          "metadata": {
            "tags": []
          },
          "execution_count": 22
        }
      ]
    },
    {
      "cell_type": "code",
      "metadata": {
        "id": "kDJc057p_tUF",
        "colab_type": "code",
        "outputId": "714597fd-00dd-41fd-dc55-e1b50ca4ebf4",
        "colab": {
          "base_uri": "https://localhost:8080/",
          "height": 34
        }
      },
      "source": [
        "df.loc[dates[0], 'A'] # Column A of the first row"
      ],
      "execution_count": 23,
      "outputs": [
        {
          "output_type": "execute_result",
          "data": {
            "text/plain": [
              "-0.27227953132303667"
            ]
          },
          "metadata": {
            "tags": []
          },
          "execution_count": 23
        }
      ]
    },
    {
      "cell_type": "code",
      "metadata": {
        "id": "dp3Lfpuz_4i2",
        "colab_type": "code",
        "outputId": "84945b34-384a-48f0-b56f-65291d269681",
        "colab": {
          "base_uri": "https://localhost:8080/",
          "height": 34
        }
      },
      "source": [
        "df.at[dates[0], 'A'] # this same as the above df.loc[dates[0], 'A']  but faster"
      ],
      "execution_count": 24,
      "outputs": [
        {
          "output_type": "execute_result",
          "data": {
            "text/plain": [
              "-0.27227953132303667"
            ]
          },
          "metadata": {
            "tags": []
          },
          "execution_count": 24
        }
      ]
    },
    {
      "cell_type": "code",
      "metadata": {
        "id": "-JTfgNqKALDb",
        "colab_type": "code",
        "outputId": "b2ab7f28-0110-4872-ceb4-e8441efac097",
        "colab": {
          "base_uri": "https://localhost:8080/",
          "height": 102
        }
      },
      "source": [
        "df.iloc[3] "
      ],
      "execution_count": 25,
      "outputs": [
        {
          "output_type": "execute_result",
          "data": {
            "text/plain": [
              "A   -0.509370\n",
              "B   -0.516303\n",
              "C    0.084189\n",
              "D    1.652261\n",
              "Name: 2013-01-04 00:00:00, dtype: float64"
            ]
          },
          "metadata": {
            "tags": []
          },
          "execution_count": 25
        }
      ]
    },
    {
      "cell_type": "code",
      "metadata": {
        "id": "QbTEurZkA-Kq",
        "colab_type": "code",
        "outputId": "e8a0f269-e5d9-4dda-d5ab-9ee2b722c5af",
        "colab": {
          "base_uri": "https://localhost:8080/",
          "height": 235
        }
      },
      "source": [
        "df"
      ],
      "execution_count": 26,
      "outputs": [
        {
          "output_type": "execute_result",
          "data": {
            "text/html": [
              "<div>\n",
              "<style scoped>\n",
              "    .dataframe tbody tr th:only-of-type {\n",
              "        vertical-align: middle;\n",
              "    }\n",
              "\n",
              "    .dataframe tbody tr th {\n",
              "        vertical-align: top;\n",
              "    }\n",
              "\n",
              "    .dataframe thead th {\n",
              "        text-align: right;\n",
              "    }\n",
              "</style>\n",
              "<table border=\"1\" class=\"dataframe\">\n",
              "  <thead>\n",
              "    <tr style=\"text-align: right;\">\n",
              "      <th></th>\n",
              "      <th>A</th>\n",
              "      <th>B</th>\n",
              "      <th>C</th>\n",
              "      <th>D</th>\n",
              "    </tr>\n",
              "  </thead>\n",
              "  <tbody>\n",
              "    <tr>\n",
              "      <th>2013-01-01</th>\n",
              "      <td>-0.272280</td>\n",
              "      <td>0.369550</td>\n",
              "      <td>-0.725872</td>\n",
              "      <td>-0.986397</td>\n",
              "    </tr>\n",
              "    <tr>\n",
              "      <th>2013-01-02</th>\n",
              "      <td>0.721837</td>\n",
              "      <td>0.604375</td>\n",
              "      <td>-1.441715</td>\n",
              "      <td>-0.180103</td>\n",
              "    </tr>\n",
              "    <tr>\n",
              "      <th>2013-01-03</th>\n",
              "      <td>-0.163330</td>\n",
              "      <td>-0.735852</td>\n",
              "      <td>-0.413373</td>\n",
              "      <td>-0.461528</td>\n",
              "    </tr>\n",
              "    <tr>\n",
              "      <th>2013-01-04</th>\n",
              "      <td>-0.509370</td>\n",
              "      <td>-0.516303</td>\n",
              "      <td>0.084189</td>\n",
              "      <td>1.652261</td>\n",
              "    </tr>\n",
              "    <tr>\n",
              "      <th>2013-01-05</th>\n",
              "      <td>1.426707</td>\n",
              "      <td>-0.254556</td>\n",
              "      <td>-0.810670</td>\n",
              "      <td>1.566241</td>\n",
              "    </tr>\n",
              "    <tr>\n",
              "      <th>2013-01-06</th>\n",
              "      <td>-0.945960</td>\n",
              "      <td>-0.498848</td>\n",
              "      <td>-0.393343</td>\n",
              "      <td>-0.404745</td>\n",
              "    </tr>\n",
              "  </tbody>\n",
              "</table>\n",
              "</div>"
            ],
            "text/plain": [
              "                   A         B         C         D\n",
              "2013-01-01 -0.272280  0.369550 -0.725872 -0.986397\n",
              "2013-01-02  0.721837  0.604375 -1.441715 -0.180103\n",
              "2013-01-03 -0.163330 -0.735852 -0.413373 -0.461528\n",
              "2013-01-04 -0.509370 -0.516303  0.084189  1.652261\n",
              "2013-01-05  1.426707 -0.254556 -0.810670  1.566241\n",
              "2013-01-06 -0.945960 -0.498848 -0.393343 -0.404745"
            ]
          },
          "metadata": {
            "tags": []
          },
          "execution_count": 26
        }
      ]
    },
    {
      "cell_type": "markdown",
      "metadata": {
        "id": "7dgxytXSBti_",
        "colab_type": "text"
      },
      "source": [
        "* loc gets rows (or columns) with particular labels from the index.\n",
        "* iloc gets rows (or columns) at particular positions in the index (so it only takes integers).\n",
        "* ix usually tries to behave like loc but falls back to behaving like iloc if a label is not present in the index."
      ]
    },
    {
      "cell_type": "code",
      "metadata": {
        "id": "ybIToPVhBqTy",
        "colab_type": "code",
        "outputId": "87e0f094-a4dc-4d50-bf82-03f2a64342af",
        "colab": {
          "base_uri": "https://localhost:8080/",
          "height": 142
        }
      },
      "source": [
        "df.iloc[[1, 2, 4], [0, 2]]"
      ],
      "execution_count": 27,
      "outputs": [
        {
          "output_type": "execute_result",
          "data": {
            "text/html": [
              "<div>\n",
              "<style scoped>\n",
              "    .dataframe tbody tr th:only-of-type {\n",
              "        vertical-align: middle;\n",
              "    }\n",
              "\n",
              "    .dataframe tbody tr th {\n",
              "        vertical-align: top;\n",
              "    }\n",
              "\n",
              "    .dataframe thead th {\n",
              "        text-align: right;\n",
              "    }\n",
              "</style>\n",
              "<table border=\"1\" class=\"dataframe\">\n",
              "  <thead>\n",
              "    <tr style=\"text-align: right;\">\n",
              "      <th></th>\n",
              "      <th>A</th>\n",
              "      <th>C</th>\n",
              "    </tr>\n",
              "  </thead>\n",
              "  <tbody>\n",
              "    <tr>\n",
              "      <th>2013-01-02</th>\n",
              "      <td>0.721837</td>\n",
              "      <td>-1.441715</td>\n",
              "    </tr>\n",
              "    <tr>\n",
              "      <th>2013-01-03</th>\n",
              "      <td>-0.163330</td>\n",
              "      <td>-0.413373</td>\n",
              "    </tr>\n",
              "    <tr>\n",
              "      <th>2013-01-05</th>\n",
              "      <td>1.426707</td>\n",
              "      <td>-0.810670</td>\n",
              "    </tr>\n",
              "  </tbody>\n",
              "</table>\n",
              "</div>"
            ],
            "text/plain": [
              "                   A         C\n",
              "2013-01-02  0.721837 -1.441715\n",
              "2013-01-03 -0.163330 -0.413373\n",
              "2013-01-05  1.426707 -0.810670"
            ]
          },
          "metadata": {
            "tags": []
          },
          "execution_count": 27
        }
      ]
    },
    {
      "cell_type": "code",
      "metadata": {
        "id": "CcQWex3eB5Y3",
        "colab_type": "code",
        "outputId": "b3e3ef95-54cc-43ec-d327-7202805d6cad",
        "colab": {
          "base_uri": "https://localhost:8080/",
          "height": 111
        }
      },
      "source": [
        "df.iloc[1:3, :]"
      ],
      "execution_count": 28,
      "outputs": [
        {
          "output_type": "execute_result",
          "data": {
            "text/html": [
              "<div>\n",
              "<style scoped>\n",
              "    .dataframe tbody tr th:only-of-type {\n",
              "        vertical-align: middle;\n",
              "    }\n",
              "\n",
              "    .dataframe tbody tr th {\n",
              "        vertical-align: top;\n",
              "    }\n",
              "\n",
              "    .dataframe thead th {\n",
              "        text-align: right;\n",
              "    }\n",
              "</style>\n",
              "<table border=\"1\" class=\"dataframe\">\n",
              "  <thead>\n",
              "    <tr style=\"text-align: right;\">\n",
              "      <th></th>\n",
              "      <th>A</th>\n",
              "      <th>B</th>\n",
              "      <th>C</th>\n",
              "      <th>D</th>\n",
              "    </tr>\n",
              "  </thead>\n",
              "  <tbody>\n",
              "    <tr>\n",
              "      <th>2013-01-02</th>\n",
              "      <td>0.721837</td>\n",
              "      <td>0.604375</td>\n",
              "      <td>-1.441715</td>\n",
              "      <td>-0.180103</td>\n",
              "    </tr>\n",
              "    <tr>\n",
              "      <th>2013-01-03</th>\n",
              "      <td>-0.163330</td>\n",
              "      <td>-0.735852</td>\n",
              "      <td>-0.413373</td>\n",
              "      <td>-0.461528</td>\n",
              "    </tr>\n",
              "  </tbody>\n",
              "</table>\n",
              "</div>"
            ],
            "text/plain": [
              "                   A         B         C         D\n",
              "2013-01-02  0.721837  0.604375 -1.441715 -0.180103\n",
              "2013-01-03 -0.163330 -0.735852 -0.413373 -0.461528"
            ]
          },
          "metadata": {
            "tags": []
          },
          "execution_count": 28
        }
      ]
    },
    {
      "cell_type": "markdown",
      "metadata": {
        "id": "OG6xQIAbB9Yy",
        "colab_type": "text"
      },
      "source": [
        " *  **The Difference between the loc,iloc and ix  and its usage in slicing is very important**"
      ]
    },
    {
      "cell_type": "code",
      "metadata": {
        "id": "SLtVra1NB8HH",
        "colab_type": "code",
        "outputId": "e00c1f43-d633-414e-bb79-85a7042ead4b",
        "colab": {
          "base_uri": "https://localhost:8080/",
          "height": 111
        }
      },
      "source": [
        "df[df.A > 0] # Boolean Indexing"
      ],
      "execution_count": 29,
      "outputs": [
        {
          "output_type": "execute_result",
          "data": {
            "text/html": [
              "<div>\n",
              "<style scoped>\n",
              "    .dataframe tbody tr th:only-of-type {\n",
              "        vertical-align: middle;\n",
              "    }\n",
              "\n",
              "    .dataframe tbody tr th {\n",
              "        vertical-align: top;\n",
              "    }\n",
              "\n",
              "    .dataframe thead th {\n",
              "        text-align: right;\n",
              "    }\n",
              "</style>\n",
              "<table border=\"1\" class=\"dataframe\">\n",
              "  <thead>\n",
              "    <tr style=\"text-align: right;\">\n",
              "      <th></th>\n",
              "      <th>A</th>\n",
              "      <th>B</th>\n",
              "      <th>C</th>\n",
              "      <th>D</th>\n",
              "    </tr>\n",
              "  </thead>\n",
              "  <tbody>\n",
              "    <tr>\n",
              "      <th>2013-01-02</th>\n",
              "      <td>0.721837</td>\n",
              "      <td>0.604375</td>\n",
              "      <td>-1.441715</td>\n",
              "      <td>-0.180103</td>\n",
              "    </tr>\n",
              "    <tr>\n",
              "      <th>2013-01-05</th>\n",
              "      <td>1.426707</td>\n",
              "      <td>-0.254556</td>\n",
              "      <td>-0.810670</td>\n",
              "      <td>1.566241</td>\n",
              "    </tr>\n",
              "  </tbody>\n",
              "</table>\n",
              "</div>"
            ],
            "text/plain": [
              "                   A         B         C         D\n",
              "2013-01-02  0.721837  0.604375 -1.441715 -0.180103\n",
              "2013-01-05  1.426707 -0.254556 -0.810670  1.566241"
            ]
          },
          "metadata": {
            "tags": []
          },
          "execution_count": 29
        }
      ]
    },
    {
      "cell_type": "code",
      "metadata": {
        "id": "_xdMZVdlClWC",
        "colab_type": "code",
        "outputId": "ae188dfb-2def-4baa-ca32-ec6b2c4eb762",
        "colab": {
          "base_uri": "https://localhost:8080/",
          "height": 235
        }
      },
      "source": [
        "df[df > 0]"
      ],
      "execution_count": 30,
      "outputs": [
        {
          "output_type": "execute_result",
          "data": {
            "text/html": [
              "<div>\n",
              "<style scoped>\n",
              "    .dataframe tbody tr th:only-of-type {\n",
              "        vertical-align: middle;\n",
              "    }\n",
              "\n",
              "    .dataframe tbody tr th {\n",
              "        vertical-align: top;\n",
              "    }\n",
              "\n",
              "    .dataframe thead th {\n",
              "        text-align: right;\n",
              "    }\n",
              "</style>\n",
              "<table border=\"1\" class=\"dataframe\">\n",
              "  <thead>\n",
              "    <tr style=\"text-align: right;\">\n",
              "      <th></th>\n",
              "      <th>A</th>\n",
              "      <th>B</th>\n",
              "      <th>C</th>\n",
              "      <th>D</th>\n",
              "    </tr>\n",
              "  </thead>\n",
              "  <tbody>\n",
              "    <tr>\n",
              "      <th>2013-01-01</th>\n",
              "      <td>NaN</td>\n",
              "      <td>0.369550</td>\n",
              "      <td>NaN</td>\n",
              "      <td>NaN</td>\n",
              "    </tr>\n",
              "    <tr>\n",
              "      <th>2013-01-02</th>\n",
              "      <td>0.721837</td>\n",
              "      <td>0.604375</td>\n",
              "      <td>NaN</td>\n",
              "      <td>NaN</td>\n",
              "    </tr>\n",
              "    <tr>\n",
              "      <th>2013-01-03</th>\n",
              "      <td>NaN</td>\n",
              "      <td>NaN</td>\n",
              "      <td>NaN</td>\n",
              "      <td>NaN</td>\n",
              "    </tr>\n",
              "    <tr>\n",
              "      <th>2013-01-04</th>\n",
              "      <td>NaN</td>\n",
              "      <td>NaN</td>\n",
              "      <td>0.084189</td>\n",
              "      <td>1.652261</td>\n",
              "    </tr>\n",
              "    <tr>\n",
              "      <th>2013-01-05</th>\n",
              "      <td>1.426707</td>\n",
              "      <td>NaN</td>\n",
              "      <td>NaN</td>\n",
              "      <td>1.566241</td>\n",
              "    </tr>\n",
              "    <tr>\n",
              "      <th>2013-01-06</th>\n",
              "      <td>NaN</td>\n",
              "      <td>NaN</td>\n",
              "      <td>NaN</td>\n",
              "      <td>NaN</td>\n",
              "    </tr>\n",
              "  </tbody>\n",
              "</table>\n",
              "</div>"
            ],
            "text/plain": [
              "                   A         B         C         D\n",
              "2013-01-01       NaN  0.369550       NaN       NaN\n",
              "2013-01-02  0.721837  0.604375       NaN       NaN\n",
              "2013-01-03       NaN       NaN       NaN       NaN\n",
              "2013-01-04       NaN       NaN  0.084189  1.652261\n",
              "2013-01-05  1.426707       NaN       NaN  1.566241\n",
              "2013-01-06       NaN       NaN       NaN       NaN"
            ]
          },
          "metadata": {
            "tags": []
          },
          "execution_count": 30
        }
      ]
    },
    {
      "cell_type": "code",
      "metadata": {
        "id": "_YyPWY4OCmBy",
        "colab_type": "code",
        "colab": {}
      },
      "source": [
        "df2 = df.copy()\n",
        "df2['E'] = ['one', 'one', 'two', 'three', 'four', 'three']"
      ],
      "execution_count": 0,
      "outputs": []
    },
    {
      "cell_type": "code",
      "metadata": {
        "id": "d27T15mpC0JW",
        "colab_type": "code",
        "outputId": "69c832da-0640-4ef7-d20f-7d50bc9030ff",
        "colab": {
          "base_uri": "https://localhost:8080/",
          "height": 111
        }
      },
      "source": [
        " df2[df2['E'].isin(['two', 'four'])]  #Using the isin() method for filtering:"
      ],
      "execution_count": 32,
      "outputs": [
        {
          "output_type": "execute_result",
          "data": {
            "text/html": [
              "<div>\n",
              "<style scoped>\n",
              "    .dataframe tbody tr th:only-of-type {\n",
              "        vertical-align: middle;\n",
              "    }\n",
              "\n",
              "    .dataframe tbody tr th {\n",
              "        vertical-align: top;\n",
              "    }\n",
              "\n",
              "    .dataframe thead th {\n",
              "        text-align: right;\n",
              "    }\n",
              "</style>\n",
              "<table border=\"1\" class=\"dataframe\">\n",
              "  <thead>\n",
              "    <tr style=\"text-align: right;\">\n",
              "      <th></th>\n",
              "      <th>A</th>\n",
              "      <th>B</th>\n",
              "      <th>C</th>\n",
              "      <th>D</th>\n",
              "      <th>E</th>\n",
              "    </tr>\n",
              "  </thead>\n",
              "  <tbody>\n",
              "    <tr>\n",
              "      <th>2013-01-03</th>\n",
              "      <td>-0.163330</td>\n",
              "      <td>-0.735852</td>\n",
              "      <td>-0.413373</td>\n",
              "      <td>-0.461528</td>\n",
              "      <td>two</td>\n",
              "    </tr>\n",
              "    <tr>\n",
              "      <th>2013-01-05</th>\n",
              "      <td>1.426707</td>\n",
              "      <td>-0.254556</td>\n",
              "      <td>-0.810670</td>\n",
              "      <td>1.566241</td>\n",
              "      <td>four</td>\n",
              "    </tr>\n",
              "  </tbody>\n",
              "</table>\n",
              "</div>"
            ],
            "text/plain": [
              "                   A         B         C         D     E\n",
              "2013-01-03 -0.163330 -0.735852 -0.413373 -0.461528   two\n",
              "2013-01-05  1.426707 -0.254556 -0.810670  1.566241  four"
            ]
          },
          "metadata": {
            "tags": []
          },
          "execution_count": 32
        }
      ]
    },
    {
      "cell_type": "code",
      "metadata": {
        "id": "TxdM-2ZFC6an",
        "colab_type": "code",
        "outputId": "7ee9497b-6180-49b6-f62b-3a647967ed0a",
        "colab": {
          "base_uri": "https://localhost:8080/",
          "height": 136
        }
      },
      "source": [
        "s1 = pd.Series([1, 2, 3, 4, 5, 6], index=pd.date_range('20130102', periods=6)) #Setting a new column automatically aligns the data by the indexes\n",
        "s1"
      ],
      "execution_count": 33,
      "outputs": [
        {
          "output_type": "execute_result",
          "data": {
            "text/plain": [
              "2013-01-02    1\n",
              "2013-01-03    2\n",
              "2013-01-04    3\n",
              "2013-01-05    4\n",
              "2013-01-06    5\n",
              "2013-01-07    6\n",
              "Freq: D, dtype: int64"
            ]
          },
          "metadata": {
            "tags": []
          },
          "execution_count": 33
        }
      ]
    },
    {
      "cell_type": "markdown",
      "metadata": {
        "id": "ilqQWcthDUop",
        "colab_type": "text"
      },
      "source": [
        "  pandas primarily uses the value np.nan to represent missing data"
      ]
    },
    {
      "cell_type": "code",
      "metadata": {
        "id": "dhVFNW2j7k0f",
        "colab_type": "code",
        "colab": {
          "base_uri": "https://localhost:8080/",
          "height": 173
        },
        "outputId": "d6e9b583-5991-455d-ced1-be284334126d"
      },
      "source": [
        "df1 = df.reindex(index=dates[0:4], columns=list(df.columns) + ['E'])\n",
        "df1.loc[dates[0]:dates[1], 'E'] = 1\n",
        "df1"
      ],
      "execution_count": 40,
      "outputs": [
        {
          "output_type": "execute_result",
          "data": {
            "text/html": [
              "<div>\n",
              "<style scoped>\n",
              "    .dataframe tbody tr th:only-of-type {\n",
              "        vertical-align: middle;\n",
              "    }\n",
              "\n",
              "    .dataframe tbody tr th {\n",
              "        vertical-align: top;\n",
              "    }\n",
              "\n",
              "    .dataframe thead th {\n",
              "        text-align: right;\n",
              "    }\n",
              "</style>\n",
              "<table border=\"1\" class=\"dataframe\">\n",
              "  <thead>\n",
              "    <tr style=\"text-align: right;\">\n",
              "      <th></th>\n",
              "      <th>A</th>\n",
              "      <th>B</th>\n",
              "      <th>C</th>\n",
              "      <th>D</th>\n",
              "      <th>E</th>\n",
              "    </tr>\n",
              "  </thead>\n",
              "  <tbody>\n",
              "    <tr>\n",
              "      <th>2013-01-01</th>\n",
              "      <td>-0.272280</td>\n",
              "      <td>0.369550</td>\n",
              "      <td>-0.725872</td>\n",
              "      <td>-0.986397</td>\n",
              "      <td>1.0</td>\n",
              "    </tr>\n",
              "    <tr>\n",
              "      <th>2013-01-02</th>\n",
              "      <td>0.721837</td>\n",
              "      <td>0.604375</td>\n",
              "      <td>-1.441715</td>\n",
              "      <td>-0.180103</td>\n",
              "      <td>1.0</td>\n",
              "    </tr>\n",
              "    <tr>\n",
              "      <th>2013-01-03</th>\n",
              "      <td>-0.163330</td>\n",
              "      <td>-0.735852</td>\n",
              "      <td>-0.413373</td>\n",
              "      <td>-0.461528</td>\n",
              "      <td>NaN</td>\n",
              "    </tr>\n",
              "    <tr>\n",
              "      <th>2013-01-04</th>\n",
              "      <td>-0.509370</td>\n",
              "      <td>-0.516303</td>\n",
              "      <td>0.084189</td>\n",
              "      <td>1.652261</td>\n",
              "      <td>NaN</td>\n",
              "    </tr>\n",
              "  </tbody>\n",
              "</table>\n",
              "</div>"
            ],
            "text/plain": [
              "                   A         B         C         D    E\n",
              "2013-01-01 -0.272280  0.369550 -0.725872 -0.986397  1.0\n",
              "2013-01-02  0.721837  0.604375 -1.441715 -0.180103  1.0\n",
              "2013-01-03 -0.163330 -0.735852 -0.413373 -0.461528  NaN\n",
              "2013-01-04 -0.509370 -0.516303  0.084189  1.652261  NaN"
            ]
          },
          "metadata": {
            "tags": []
          },
          "execution_count": 40
        }
      ]
    },
    {
      "cell_type": "code",
      "metadata": {
        "id": "OdAMNiJE7oUl",
        "colab_type": "code",
        "colab": {
          "base_uri": "https://localhost:8080/",
          "height": 111
        },
        "outputId": "9e238953-73f0-4766-edad-06757f3cb32b"
      },
      "source": [
        "df1.dropna(how='any') # To drop any rows that have missing data."
      ],
      "execution_count": 42,
      "outputs": [
        {
          "output_type": "execute_result",
          "data": {
            "text/html": [
              "<div>\n",
              "<style scoped>\n",
              "    .dataframe tbody tr th:only-of-type {\n",
              "        vertical-align: middle;\n",
              "    }\n",
              "\n",
              "    .dataframe tbody tr th {\n",
              "        vertical-align: top;\n",
              "    }\n",
              "\n",
              "    .dataframe thead th {\n",
              "        text-align: right;\n",
              "    }\n",
              "</style>\n",
              "<table border=\"1\" class=\"dataframe\">\n",
              "  <thead>\n",
              "    <tr style=\"text-align: right;\">\n",
              "      <th></th>\n",
              "      <th>A</th>\n",
              "      <th>B</th>\n",
              "      <th>C</th>\n",
              "      <th>D</th>\n",
              "      <th>E</th>\n",
              "    </tr>\n",
              "  </thead>\n",
              "  <tbody>\n",
              "    <tr>\n",
              "      <th>2013-01-01</th>\n",
              "      <td>-0.272280</td>\n",
              "      <td>0.369550</td>\n",
              "      <td>-0.725872</td>\n",
              "      <td>-0.986397</td>\n",
              "      <td>1.0</td>\n",
              "    </tr>\n",
              "    <tr>\n",
              "      <th>2013-01-02</th>\n",
              "      <td>0.721837</td>\n",
              "      <td>0.604375</td>\n",
              "      <td>-1.441715</td>\n",
              "      <td>-0.180103</td>\n",
              "      <td>1.0</td>\n",
              "    </tr>\n",
              "  </tbody>\n",
              "</table>\n",
              "</div>"
            ],
            "text/plain": [
              "                   A         B         C         D    E\n",
              "2013-01-01 -0.272280  0.369550 -0.725872 -0.986397  1.0\n",
              "2013-01-02  0.721837  0.604375 -1.441715 -0.180103  1.0"
            ]
          },
          "metadata": {
            "tags": []
          },
          "execution_count": 42
        }
      ]
    },
    {
      "cell_type": "code",
      "metadata": {
        "id": "GQ5ea6Sm8DZg",
        "colab_type": "code",
        "colab": {
          "base_uri": "https://localhost:8080/",
          "height": 173
        },
        "outputId": "9d53d0e5-2058-4fb8-fa96-a0eb1c5e95cc"
      },
      "source": [
        "df1.fillna(value=5) # Filling missing data"
      ],
      "execution_count": 43,
      "outputs": [
        {
          "output_type": "execute_result",
          "data": {
            "text/html": [
              "<div>\n",
              "<style scoped>\n",
              "    .dataframe tbody tr th:only-of-type {\n",
              "        vertical-align: middle;\n",
              "    }\n",
              "\n",
              "    .dataframe tbody tr th {\n",
              "        vertical-align: top;\n",
              "    }\n",
              "\n",
              "    .dataframe thead th {\n",
              "        text-align: right;\n",
              "    }\n",
              "</style>\n",
              "<table border=\"1\" class=\"dataframe\">\n",
              "  <thead>\n",
              "    <tr style=\"text-align: right;\">\n",
              "      <th></th>\n",
              "      <th>A</th>\n",
              "      <th>B</th>\n",
              "      <th>C</th>\n",
              "      <th>D</th>\n",
              "      <th>E</th>\n",
              "    </tr>\n",
              "  </thead>\n",
              "  <tbody>\n",
              "    <tr>\n",
              "      <th>2013-01-01</th>\n",
              "      <td>-0.272280</td>\n",
              "      <td>0.369550</td>\n",
              "      <td>-0.725872</td>\n",
              "      <td>-0.986397</td>\n",
              "      <td>1.0</td>\n",
              "    </tr>\n",
              "    <tr>\n",
              "      <th>2013-01-02</th>\n",
              "      <td>0.721837</td>\n",
              "      <td>0.604375</td>\n",
              "      <td>-1.441715</td>\n",
              "      <td>-0.180103</td>\n",
              "      <td>1.0</td>\n",
              "    </tr>\n",
              "    <tr>\n",
              "      <th>2013-01-03</th>\n",
              "      <td>-0.163330</td>\n",
              "      <td>-0.735852</td>\n",
              "      <td>-0.413373</td>\n",
              "      <td>-0.461528</td>\n",
              "      <td>5.0</td>\n",
              "    </tr>\n",
              "    <tr>\n",
              "      <th>2013-01-04</th>\n",
              "      <td>-0.509370</td>\n",
              "      <td>-0.516303</td>\n",
              "      <td>0.084189</td>\n",
              "      <td>1.652261</td>\n",
              "      <td>5.0</td>\n",
              "    </tr>\n",
              "  </tbody>\n",
              "</table>\n",
              "</div>"
            ],
            "text/plain": [
              "                   A         B         C         D    E\n",
              "2013-01-01 -0.272280  0.369550 -0.725872 -0.986397  1.0\n",
              "2013-01-02  0.721837  0.604375 -1.441715 -0.180103  1.0\n",
              "2013-01-03 -0.163330 -0.735852 -0.413373 -0.461528  5.0\n",
              "2013-01-04 -0.509370 -0.516303  0.084189  1.652261  5.0"
            ]
          },
          "metadata": {
            "tags": []
          },
          "execution_count": 43
        }
      ]
    },
    {
      "cell_type": "code",
      "metadata": {
        "id": "WnssL3PB8LR3",
        "colab_type": "code",
        "colab": {
          "base_uri": "https://localhost:8080/",
          "height": 173
        },
        "outputId": "d591b472-b753-45ab-c3a4-06dc9f3179ff"
      },
      "source": [
        "pd.isna(df1)  # To get the boolean mask where values are nan."
      ],
      "execution_count": 44,
      "outputs": [
        {
          "output_type": "execute_result",
          "data": {
            "text/html": [
              "<div>\n",
              "<style scoped>\n",
              "    .dataframe tbody tr th:only-of-type {\n",
              "        vertical-align: middle;\n",
              "    }\n",
              "\n",
              "    .dataframe tbody tr th {\n",
              "        vertical-align: top;\n",
              "    }\n",
              "\n",
              "    .dataframe thead th {\n",
              "        text-align: right;\n",
              "    }\n",
              "</style>\n",
              "<table border=\"1\" class=\"dataframe\">\n",
              "  <thead>\n",
              "    <tr style=\"text-align: right;\">\n",
              "      <th></th>\n",
              "      <th>A</th>\n",
              "      <th>B</th>\n",
              "      <th>C</th>\n",
              "      <th>D</th>\n",
              "      <th>E</th>\n",
              "    </tr>\n",
              "  </thead>\n",
              "  <tbody>\n",
              "    <tr>\n",
              "      <th>2013-01-01</th>\n",
              "      <td>False</td>\n",
              "      <td>False</td>\n",
              "      <td>False</td>\n",
              "      <td>False</td>\n",
              "      <td>False</td>\n",
              "    </tr>\n",
              "    <tr>\n",
              "      <th>2013-01-02</th>\n",
              "      <td>False</td>\n",
              "      <td>False</td>\n",
              "      <td>False</td>\n",
              "      <td>False</td>\n",
              "      <td>False</td>\n",
              "    </tr>\n",
              "    <tr>\n",
              "      <th>2013-01-03</th>\n",
              "      <td>False</td>\n",
              "      <td>False</td>\n",
              "      <td>False</td>\n",
              "      <td>False</td>\n",
              "      <td>True</td>\n",
              "    </tr>\n",
              "    <tr>\n",
              "      <th>2013-01-04</th>\n",
              "      <td>False</td>\n",
              "      <td>False</td>\n",
              "      <td>False</td>\n",
              "      <td>False</td>\n",
              "      <td>True</td>\n",
              "    </tr>\n",
              "  </tbody>\n",
              "</table>\n",
              "</div>"
            ],
            "text/plain": [
              "                A      B      C      D      E\n",
              "2013-01-01  False  False  False  False  False\n",
              "2013-01-02  False  False  False  False  False\n",
              "2013-01-03  False  False  False  False   True\n",
              "2013-01-04  False  False  False  False   True"
            ]
          },
          "metadata": {
            "tags": []
          },
          "execution_count": 44
        }
      ]
    },
    {
      "cell_type": "code",
      "metadata": {
        "id": "rW-_QhLc9E0P",
        "colab_type": "code",
        "colab": {
          "base_uri": "https://localhost:8080/",
          "height": 136
        },
        "outputId": "6496e5a9-49a1-433d-d8a8-2b823b0f3758"
      },
      "source": [
        "df.mean(1)"
      ],
      "execution_count": 51,
      "outputs": [
        {
          "output_type": "execute_result",
          "data": {
            "text/plain": [
              "2013-01-01   -0.403750\n",
              "2013-01-02   -0.073902\n",
              "2013-01-03   -0.443521\n",
              "2013-01-04    0.177695\n",
              "2013-01-05    0.481931\n",
              "2013-01-06   -0.560724\n",
              "Freq: D, dtype: float64"
            ]
          },
          "metadata": {
            "tags": []
          },
          "execution_count": 51
        }
      ]
    },
    {
      "cell_type": "code",
      "metadata": {
        "id": "8bj6mMEP91iW",
        "colab_type": "code",
        "colab": {
          "base_uri": "https://localhost:8080/",
          "height": 136
        },
        "outputId": "ebbb3c2c-23a4-4924-b1c9-ac5feba11e55"
      },
      "source": [
        "s = pd.Series([1, 3, 5, np.nan, 6, 8], index=dates).shift(2)\n",
        "s"
      ],
      "execution_count": 53,
      "outputs": [
        {
          "output_type": "execute_result",
          "data": {
            "text/plain": [
              "2013-01-01    NaN\n",
              "2013-01-02    NaN\n",
              "2013-01-03    1.0\n",
              "2013-01-04    3.0\n",
              "2013-01-05    5.0\n",
              "2013-01-06    NaN\n",
              "Freq: D, dtype: float64"
            ]
          },
          "metadata": {
            "tags": []
          },
          "execution_count": 53
        }
      ]
    },
    {
      "cell_type": "code",
      "metadata": {
        "id": "RNZzHPjR-0hv",
        "colab_type": "code",
        "colab": {
          "base_uri": "https://localhost:8080/",
          "height": 235
        },
        "outputId": "7d1de5ec-4dfe-46a9-bb3e-a73a27e71f20"
      },
      "source": [
        "df.sub(s, axis='index')"
      ],
      "execution_count": 54,
      "outputs": [
        {
          "output_type": "execute_result",
          "data": {
            "text/html": [
              "<div>\n",
              "<style scoped>\n",
              "    .dataframe tbody tr th:only-of-type {\n",
              "        vertical-align: middle;\n",
              "    }\n",
              "\n",
              "    .dataframe tbody tr th {\n",
              "        vertical-align: top;\n",
              "    }\n",
              "\n",
              "    .dataframe thead th {\n",
              "        text-align: right;\n",
              "    }\n",
              "</style>\n",
              "<table border=\"1\" class=\"dataframe\">\n",
              "  <thead>\n",
              "    <tr style=\"text-align: right;\">\n",
              "      <th></th>\n",
              "      <th>A</th>\n",
              "      <th>B</th>\n",
              "      <th>C</th>\n",
              "      <th>D</th>\n",
              "    </tr>\n",
              "  </thead>\n",
              "  <tbody>\n",
              "    <tr>\n",
              "      <th>2013-01-01</th>\n",
              "      <td>NaN</td>\n",
              "      <td>NaN</td>\n",
              "      <td>NaN</td>\n",
              "      <td>NaN</td>\n",
              "    </tr>\n",
              "    <tr>\n",
              "      <th>2013-01-02</th>\n",
              "      <td>NaN</td>\n",
              "      <td>NaN</td>\n",
              "      <td>NaN</td>\n",
              "      <td>NaN</td>\n",
              "    </tr>\n",
              "    <tr>\n",
              "      <th>2013-01-03</th>\n",
              "      <td>-1.163330</td>\n",
              "      <td>-1.735852</td>\n",
              "      <td>-1.413373</td>\n",
              "      <td>-1.461528</td>\n",
              "    </tr>\n",
              "    <tr>\n",
              "      <th>2013-01-04</th>\n",
              "      <td>-3.509370</td>\n",
              "      <td>-3.516303</td>\n",
              "      <td>-2.915811</td>\n",
              "      <td>-1.347739</td>\n",
              "    </tr>\n",
              "    <tr>\n",
              "      <th>2013-01-05</th>\n",
              "      <td>-3.573293</td>\n",
              "      <td>-5.254556</td>\n",
              "      <td>-5.810670</td>\n",
              "      <td>-3.433759</td>\n",
              "    </tr>\n",
              "    <tr>\n",
              "      <th>2013-01-06</th>\n",
              "      <td>NaN</td>\n",
              "      <td>NaN</td>\n",
              "      <td>NaN</td>\n",
              "      <td>NaN</td>\n",
              "    </tr>\n",
              "  </tbody>\n",
              "</table>\n",
              "</div>"
            ],
            "text/plain": [
              "                   A         B         C         D\n",
              "2013-01-01       NaN       NaN       NaN       NaN\n",
              "2013-01-02       NaN       NaN       NaN       NaN\n",
              "2013-01-03 -1.163330 -1.735852 -1.413373 -1.461528\n",
              "2013-01-04 -3.509370 -3.516303 -2.915811 -1.347739\n",
              "2013-01-05 -3.573293 -5.254556 -5.810670 -3.433759\n",
              "2013-01-06       NaN       NaN       NaN       NaN"
            ]
          },
          "metadata": {
            "tags": []
          },
          "execution_count": 54
        }
      ]
    },
    {
      "cell_type": "markdown",
      "metadata": {
        "id": "5I38UdEIAF0_",
        "colab_type": "text"
      },
      "source": [
        "## Applying functions to the data:"
      ]
    },
    {
      "cell_type": "code",
      "metadata": {
        "id": "2xL1NVH_-6tg",
        "colab_type": "code",
        "colab": {
          "base_uri": "https://localhost:8080/",
          "height": 235
        },
        "outputId": "f0362c22-e058-4aaf-f153-046e0da530a8"
      },
      "source": [
        "df"
      ],
      "execution_count": 55,
      "outputs": [
        {
          "output_type": "execute_result",
          "data": {
            "text/html": [
              "<div>\n",
              "<style scoped>\n",
              "    .dataframe tbody tr th:only-of-type {\n",
              "        vertical-align: middle;\n",
              "    }\n",
              "\n",
              "    .dataframe tbody tr th {\n",
              "        vertical-align: top;\n",
              "    }\n",
              "\n",
              "    .dataframe thead th {\n",
              "        text-align: right;\n",
              "    }\n",
              "</style>\n",
              "<table border=\"1\" class=\"dataframe\">\n",
              "  <thead>\n",
              "    <tr style=\"text-align: right;\">\n",
              "      <th></th>\n",
              "      <th>A</th>\n",
              "      <th>B</th>\n",
              "      <th>C</th>\n",
              "      <th>D</th>\n",
              "    </tr>\n",
              "  </thead>\n",
              "  <tbody>\n",
              "    <tr>\n",
              "      <th>2013-01-01</th>\n",
              "      <td>-0.272280</td>\n",
              "      <td>0.369550</td>\n",
              "      <td>-0.725872</td>\n",
              "      <td>-0.986397</td>\n",
              "    </tr>\n",
              "    <tr>\n",
              "      <th>2013-01-02</th>\n",
              "      <td>0.721837</td>\n",
              "      <td>0.604375</td>\n",
              "      <td>-1.441715</td>\n",
              "      <td>-0.180103</td>\n",
              "    </tr>\n",
              "    <tr>\n",
              "      <th>2013-01-03</th>\n",
              "      <td>-0.163330</td>\n",
              "      <td>-0.735852</td>\n",
              "      <td>-0.413373</td>\n",
              "      <td>-0.461528</td>\n",
              "    </tr>\n",
              "    <tr>\n",
              "      <th>2013-01-04</th>\n",
              "      <td>-0.509370</td>\n",
              "      <td>-0.516303</td>\n",
              "      <td>0.084189</td>\n",
              "      <td>1.652261</td>\n",
              "    </tr>\n",
              "    <tr>\n",
              "      <th>2013-01-05</th>\n",
              "      <td>1.426707</td>\n",
              "      <td>-0.254556</td>\n",
              "      <td>-0.810670</td>\n",
              "      <td>1.566241</td>\n",
              "    </tr>\n",
              "    <tr>\n",
              "      <th>2013-01-06</th>\n",
              "      <td>-0.945960</td>\n",
              "      <td>-0.498848</td>\n",
              "      <td>-0.393343</td>\n",
              "      <td>-0.404745</td>\n",
              "    </tr>\n",
              "  </tbody>\n",
              "</table>\n",
              "</div>"
            ],
            "text/plain": [
              "                   A         B         C         D\n",
              "2013-01-01 -0.272280  0.369550 -0.725872 -0.986397\n",
              "2013-01-02  0.721837  0.604375 -1.441715 -0.180103\n",
              "2013-01-03 -0.163330 -0.735852 -0.413373 -0.461528\n",
              "2013-01-04 -0.509370 -0.516303  0.084189  1.652261\n",
              "2013-01-05  1.426707 -0.254556 -0.810670  1.566241\n",
              "2013-01-06 -0.945960 -0.498848 -0.393343 -0.404745"
            ]
          },
          "metadata": {
            "tags": []
          },
          "execution_count": 55
        }
      ]
    },
    {
      "cell_type": "code",
      "metadata": {
        "id": "oEQ-SusdALP9",
        "colab_type": "code",
        "colab": {
          "base_uri": "https://localhost:8080/",
          "height": 102
        },
        "outputId": "42fa7510-ca9a-400f-e79f-c293458cd951"
      },
      "source": [
        "df.apply(lambda x: x.max() - x.min())"
      ],
      "execution_count": 56,
      "outputs": [
        {
          "output_type": "execute_result",
          "data": {
            "text/plain": [
              "A    2.372667\n",
              "B    1.340227\n",
              "C    1.525904\n",
              "D    2.638659\n",
              "dtype: float64"
            ]
          },
          "metadata": {
            "tags": []
          },
          "execution_count": 56
        }
      ]
    },
    {
      "cell_type": "markdown",
      "metadata": {
        "id": "obcZalb4AYQi",
        "colab_type": "text"
      },
      "source": [
        "## Histrogram"
      ]
    },
    {
      "cell_type": "code",
      "metadata": {
        "id": "36xP_oLwAPt9",
        "colab_type": "code",
        "colab": {
          "base_uri": "https://localhost:8080/",
          "height": 153
        },
        "outputId": "11bde166-51b3-4363-bf10-5816db8b500a"
      },
      "source": [
        "s = pd.Series(np.random.randint(0, 7, size=10))\n",
        "s.value_counts()"
      ],
      "execution_count": 58,
      "outputs": [
        {
          "output_type": "execute_result",
          "data": {
            "text/plain": [
              "5    2\n",
              "4    2\n",
              "1    2\n",
              "6    1\n",
              "3    1\n",
              "2    1\n",
              "0    1\n",
              "dtype: int64"
            ]
          },
          "metadata": {
            "tags": []
          },
          "execution_count": 58
        }
      ]
    },
    {
      "cell_type": "markdown",
      "metadata": {
        "id": "DwSxit7HAj1n",
        "colab_type": "text"
      },
      "source": [
        "## String Methods"
      ]
    },
    {
      "cell_type": "code",
      "metadata": {
        "id": "xNR9LqjCAcZe",
        "colab_type": "code",
        "colab": {
          "base_uri": "https://localhost:8080/",
          "height": 187
        },
        "outputId": "9cdfc22e-119e-41f6-f622-c5b02d506110"
      },
      "source": [
        "s = pd.Series(['A', 'B', 'C', 'Aaba', 'Baca', np.nan, 'CABA', 'dog', 'cat'])\n",
        "s.str.lower()"
      ],
      "execution_count": 59,
      "outputs": [
        {
          "output_type": "execute_result",
          "data": {
            "text/plain": [
              "0       a\n",
              "1       b\n",
              "2       c\n",
              "3    aaba\n",
              "4    baca\n",
              "5     NaN\n",
              "6    caba\n",
              "7     dog\n",
              "8     cat\n",
              "dtype: object"
            ]
          },
          "metadata": {
            "tags": []
          },
          "execution_count": 59
        }
      ]
    },
    {
      "cell_type": "markdown",
      "metadata": {
        "id": "ZSjH4AnyBDhY",
        "colab_type": "text"
      },
      "source": [
        "## Concatenation and Merging"
      ]
    },
    {
      "cell_type": "code",
      "metadata": {
        "id": "W_U1NyWaAq1F",
        "colab_type": "code",
        "colab": {
          "base_uri": "https://localhost:8080/",
          "height": 359
        },
        "outputId": "40474773-0e71-4738-ef00-deca72ec70d0"
      },
      "source": [
        "df = pd.DataFrame(np.random.randn(10, 4)) # created 10 by 4 matrix of random data\n",
        "df"
      ],
      "execution_count": 61,
      "outputs": [
        {
          "output_type": "execute_result",
          "data": {
            "text/html": [
              "<div>\n",
              "<style scoped>\n",
              "    .dataframe tbody tr th:only-of-type {\n",
              "        vertical-align: middle;\n",
              "    }\n",
              "\n",
              "    .dataframe tbody tr th {\n",
              "        vertical-align: top;\n",
              "    }\n",
              "\n",
              "    .dataframe thead th {\n",
              "        text-align: right;\n",
              "    }\n",
              "</style>\n",
              "<table border=\"1\" class=\"dataframe\">\n",
              "  <thead>\n",
              "    <tr style=\"text-align: right;\">\n",
              "      <th></th>\n",
              "      <th>0</th>\n",
              "      <th>1</th>\n",
              "      <th>2</th>\n",
              "      <th>3</th>\n",
              "    </tr>\n",
              "  </thead>\n",
              "  <tbody>\n",
              "    <tr>\n",
              "      <th>0</th>\n",
              "      <td>-1.115208</td>\n",
              "      <td>0.396046</td>\n",
              "      <td>-0.067822</td>\n",
              "      <td>0.955876</td>\n",
              "    </tr>\n",
              "    <tr>\n",
              "      <th>1</th>\n",
              "      <td>-1.690742</td>\n",
              "      <td>1.676607</td>\n",
              "      <td>0.688795</td>\n",
              "      <td>0.078447</td>\n",
              "    </tr>\n",
              "    <tr>\n",
              "      <th>2</th>\n",
              "      <td>-0.065794</td>\n",
              "      <td>-0.555526</td>\n",
              "      <td>-0.952936</td>\n",
              "      <td>1.067197</td>\n",
              "    </tr>\n",
              "    <tr>\n",
              "      <th>3</th>\n",
              "      <td>0.397208</td>\n",
              "      <td>0.087977</td>\n",
              "      <td>-1.194637</td>\n",
              "      <td>-0.541203</td>\n",
              "    </tr>\n",
              "    <tr>\n",
              "      <th>4</th>\n",
              "      <td>-0.453774</td>\n",
              "      <td>0.483634</td>\n",
              "      <td>-0.358428</td>\n",
              "      <td>-1.194017</td>\n",
              "    </tr>\n",
              "    <tr>\n",
              "      <th>5</th>\n",
              "      <td>0.089263</td>\n",
              "      <td>-0.288784</td>\n",
              "      <td>0.122656</td>\n",
              "      <td>-2.086208</td>\n",
              "    </tr>\n",
              "    <tr>\n",
              "      <th>6</th>\n",
              "      <td>0.413521</td>\n",
              "      <td>-0.187640</td>\n",
              "      <td>0.784948</td>\n",
              "      <td>-0.996915</td>\n",
              "    </tr>\n",
              "    <tr>\n",
              "      <th>7</th>\n",
              "      <td>0.544329</td>\n",
              "      <td>0.257342</td>\n",
              "      <td>2.151911</td>\n",
              "      <td>-0.210194</td>\n",
              "    </tr>\n",
              "    <tr>\n",
              "      <th>8</th>\n",
              "      <td>-1.116162</td>\n",
              "      <td>-1.021556</td>\n",
              "      <td>-1.180590</td>\n",
              "      <td>-0.667514</td>\n",
              "    </tr>\n",
              "    <tr>\n",
              "      <th>9</th>\n",
              "      <td>0.190906</td>\n",
              "      <td>-1.207597</td>\n",
              "      <td>1.088879</td>\n",
              "      <td>-0.370472</td>\n",
              "    </tr>\n",
              "  </tbody>\n",
              "</table>\n",
              "</div>"
            ],
            "text/plain": [
              "          0         1         2         3\n",
              "0 -1.115208  0.396046 -0.067822  0.955876\n",
              "1 -1.690742  1.676607  0.688795  0.078447\n",
              "2 -0.065794 -0.555526 -0.952936  1.067197\n",
              "3  0.397208  0.087977 -1.194637 -0.541203\n",
              "4 -0.453774  0.483634 -0.358428 -1.194017\n",
              "5  0.089263 -0.288784  0.122656 -2.086208\n",
              "6  0.413521 -0.187640  0.784948 -0.996915\n",
              "7  0.544329  0.257342  2.151911 -0.210194\n",
              "8 -1.116162 -1.021556 -1.180590 -0.667514\n",
              "9  0.190906 -1.207597  1.088879 -0.370472"
            ]
          },
          "metadata": {
            "tags": []
          },
          "execution_count": 61
        }
      ]
    },
    {
      "cell_type": "code",
      "metadata": {
        "id": "W6U-Qf5lBMAO",
        "colab_type": "code",
        "colab": {
          "base_uri": "https://localhost:8080/",
          "height": 238
        },
        "outputId": "e83c1a05-15d3-4b0a-caa6-24235e91a36e"
      },
      "source": [
        "pieces = [df[:3], df[3:7], df[7:]]\n",
        "pieces"
      ],
      "execution_count": 66,
      "outputs": [
        {
          "output_type": "execute_result",
          "data": {
            "text/plain": [
              "[          0         1         2         3\n",
              " 0 -1.115208  0.396046 -0.067822  0.955876\n",
              " 1 -1.690742  1.676607  0.688795  0.078447\n",
              " 2 -0.065794 -0.555526 -0.952936  1.067197,\n",
              "           0         1         2         3\n",
              " 3  0.397208  0.087977 -1.194637 -0.541203\n",
              " 4 -0.453774  0.483634 -0.358428 -1.194017\n",
              " 5  0.089263 -0.288784  0.122656 -2.086208\n",
              " 6  0.413521 -0.187640  0.784948 -0.996915,\n",
              "           0         1         2         3\n",
              " 7  0.544329  0.257342  2.151911 -0.210194\n",
              " 8 -1.116162 -1.021556 -1.180590 -0.667514\n",
              " 9  0.190906 -1.207597  1.088879 -0.370472]"
            ]
          },
          "metadata": {
            "tags": []
          },
          "execution_count": 66
        }
      ]
    },
    {
      "cell_type": "code",
      "metadata": {
        "id": "EUsjd_VHBRqS",
        "colab_type": "code",
        "colab": {
          "base_uri": "https://localhost:8080/",
          "height": 359
        },
        "outputId": "28f988f4-fff6-4041-f619-5614b788b37d"
      },
      "source": [
        "pd.concat(pieces)"
      ],
      "execution_count": 67,
      "outputs": [
        {
          "output_type": "execute_result",
          "data": {
            "text/html": [
              "<div>\n",
              "<style scoped>\n",
              "    .dataframe tbody tr th:only-of-type {\n",
              "        vertical-align: middle;\n",
              "    }\n",
              "\n",
              "    .dataframe tbody tr th {\n",
              "        vertical-align: top;\n",
              "    }\n",
              "\n",
              "    .dataframe thead th {\n",
              "        text-align: right;\n",
              "    }\n",
              "</style>\n",
              "<table border=\"1\" class=\"dataframe\">\n",
              "  <thead>\n",
              "    <tr style=\"text-align: right;\">\n",
              "      <th></th>\n",
              "      <th>0</th>\n",
              "      <th>1</th>\n",
              "      <th>2</th>\n",
              "      <th>3</th>\n",
              "    </tr>\n",
              "  </thead>\n",
              "  <tbody>\n",
              "    <tr>\n",
              "      <th>0</th>\n",
              "      <td>-1.115208</td>\n",
              "      <td>0.396046</td>\n",
              "      <td>-0.067822</td>\n",
              "      <td>0.955876</td>\n",
              "    </tr>\n",
              "    <tr>\n",
              "      <th>1</th>\n",
              "      <td>-1.690742</td>\n",
              "      <td>1.676607</td>\n",
              "      <td>0.688795</td>\n",
              "      <td>0.078447</td>\n",
              "    </tr>\n",
              "    <tr>\n",
              "      <th>2</th>\n",
              "      <td>-0.065794</td>\n",
              "      <td>-0.555526</td>\n",
              "      <td>-0.952936</td>\n",
              "      <td>1.067197</td>\n",
              "    </tr>\n",
              "    <tr>\n",
              "      <th>3</th>\n",
              "      <td>0.397208</td>\n",
              "      <td>0.087977</td>\n",
              "      <td>-1.194637</td>\n",
              "      <td>-0.541203</td>\n",
              "    </tr>\n",
              "    <tr>\n",
              "      <th>4</th>\n",
              "      <td>-0.453774</td>\n",
              "      <td>0.483634</td>\n",
              "      <td>-0.358428</td>\n",
              "      <td>-1.194017</td>\n",
              "    </tr>\n",
              "    <tr>\n",
              "      <th>5</th>\n",
              "      <td>0.089263</td>\n",
              "      <td>-0.288784</td>\n",
              "      <td>0.122656</td>\n",
              "      <td>-2.086208</td>\n",
              "    </tr>\n",
              "    <tr>\n",
              "      <th>6</th>\n",
              "      <td>0.413521</td>\n",
              "      <td>-0.187640</td>\n",
              "      <td>0.784948</td>\n",
              "      <td>-0.996915</td>\n",
              "    </tr>\n",
              "    <tr>\n",
              "      <th>7</th>\n",
              "      <td>0.544329</td>\n",
              "      <td>0.257342</td>\n",
              "      <td>2.151911</td>\n",
              "      <td>-0.210194</td>\n",
              "    </tr>\n",
              "    <tr>\n",
              "      <th>8</th>\n",
              "      <td>-1.116162</td>\n",
              "      <td>-1.021556</td>\n",
              "      <td>-1.180590</td>\n",
              "      <td>-0.667514</td>\n",
              "    </tr>\n",
              "    <tr>\n",
              "      <th>9</th>\n",
              "      <td>0.190906</td>\n",
              "      <td>-1.207597</td>\n",
              "      <td>1.088879</td>\n",
              "      <td>-0.370472</td>\n",
              "    </tr>\n",
              "  </tbody>\n",
              "</table>\n",
              "</div>"
            ],
            "text/plain": [
              "          0         1         2         3\n",
              "0 -1.115208  0.396046 -0.067822  0.955876\n",
              "1 -1.690742  1.676607  0.688795  0.078447\n",
              "2 -0.065794 -0.555526 -0.952936  1.067197\n",
              "3  0.397208  0.087977 -1.194637 -0.541203\n",
              "4 -0.453774  0.483634 -0.358428 -1.194017\n",
              "5  0.089263 -0.288784  0.122656 -2.086208\n",
              "6  0.413521 -0.187640  0.784948 -0.996915\n",
              "7  0.544329  0.257342  2.151911 -0.210194\n",
              "8 -1.116162 -1.021556 -1.180590 -0.667514\n",
              "9  0.190906 -1.207597  1.088879 -0.370472"
            ]
          },
          "metadata": {
            "tags": []
          },
          "execution_count": 67
        }
      ]
    },
    {
      "cell_type": "markdown",
      "metadata": {
        "id": "PoUswjs_Bfbn",
        "colab_type": "text"
      },
      "source": [
        "## Join : SQL style merges. See the Database style joining section."
      ]
    },
    {
      "cell_type": "code",
      "metadata": {
        "id": "ixDk2KALBWXy",
        "colab_type": "code",
        "colab": {
          "base_uri": "https://localhost:8080/",
          "height": 111
        },
        "outputId": "161d60d8-3b87-45c6-ae28-e4b0826b4c91"
      },
      "source": [
        "left = pd.DataFrame({'key': ['foo', 'bar'], 'lval': [1, 2]})\n",
        "left"
      ],
      "execution_count": 73,
      "outputs": [
        {
          "output_type": "execute_result",
          "data": {
            "text/html": [
              "<div>\n",
              "<style scoped>\n",
              "    .dataframe tbody tr th:only-of-type {\n",
              "        vertical-align: middle;\n",
              "    }\n",
              "\n",
              "    .dataframe tbody tr th {\n",
              "        vertical-align: top;\n",
              "    }\n",
              "\n",
              "    .dataframe thead th {\n",
              "        text-align: right;\n",
              "    }\n",
              "</style>\n",
              "<table border=\"1\" class=\"dataframe\">\n",
              "  <thead>\n",
              "    <tr style=\"text-align: right;\">\n",
              "      <th></th>\n",
              "      <th>key</th>\n",
              "      <th>lval</th>\n",
              "    </tr>\n",
              "  </thead>\n",
              "  <tbody>\n",
              "    <tr>\n",
              "      <th>0</th>\n",
              "      <td>foo</td>\n",
              "      <td>1</td>\n",
              "    </tr>\n",
              "    <tr>\n",
              "      <th>1</th>\n",
              "      <td>bar</td>\n",
              "      <td>2</td>\n",
              "    </tr>\n",
              "  </tbody>\n",
              "</table>\n",
              "</div>"
            ],
            "text/plain": [
              "   key  lval\n",
              "0  foo     1\n",
              "1  bar     2"
            ]
          },
          "metadata": {
            "tags": []
          },
          "execution_count": 73
        }
      ]
    },
    {
      "cell_type": "code",
      "metadata": {
        "id": "M6f05EbGBs15",
        "colab_type": "code",
        "colab": {
          "base_uri": "https://localhost:8080/",
          "height": 111
        },
        "outputId": "3fef7529-e551-4449-b050-df6fa2ad1439"
      },
      "source": [
        "right = pd.DataFrame({'key': ['foo', 'bar'], 'rval': [4, 5]})\n",
        "right"
      ],
      "execution_count": 74,
      "outputs": [
        {
          "output_type": "execute_result",
          "data": {
            "text/html": [
              "<div>\n",
              "<style scoped>\n",
              "    .dataframe tbody tr th:only-of-type {\n",
              "        vertical-align: middle;\n",
              "    }\n",
              "\n",
              "    .dataframe tbody tr th {\n",
              "        vertical-align: top;\n",
              "    }\n",
              "\n",
              "    .dataframe thead th {\n",
              "        text-align: right;\n",
              "    }\n",
              "</style>\n",
              "<table border=\"1\" class=\"dataframe\">\n",
              "  <thead>\n",
              "    <tr style=\"text-align: right;\">\n",
              "      <th></th>\n",
              "      <th>key</th>\n",
              "      <th>rval</th>\n",
              "    </tr>\n",
              "  </thead>\n",
              "  <tbody>\n",
              "    <tr>\n",
              "      <th>0</th>\n",
              "      <td>foo</td>\n",
              "      <td>4</td>\n",
              "    </tr>\n",
              "    <tr>\n",
              "      <th>1</th>\n",
              "      <td>bar</td>\n",
              "      <td>5</td>\n",
              "    </tr>\n",
              "  </tbody>\n",
              "</table>\n",
              "</div>"
            ],
            "text/plain": [
              "   key  rval\n",
              "0  foo     4\n",
              "1  bar     5"
            ]
          },
          "metadata": {
            "tags": []
          },
          "execution_count": 74
        }
      ]
    },
    {
      "cell_type": "code",
      "metadata": {
        "id": "_1Sao6_vBvt5",
        "colab_type": "code",
        "colab": {
          "base_uri": "https://localhost:8080/",
          "height": 111
        },
        "outputId": "51a47483-9c3e-4b3b-cb67-c26d077375b1"
      },
      "source": [
        "pd.merge(left, right, on='key') # On "
      ],
      "execution_count": 75,
      "outputs": [
        {
          "output_type": "execute_result",
          "data": {
            "text/html": [
              "<div>\n",
              "<style scoped>\n",
              "    .dataframe tbody tr th:only-of-type {\n",
              "        vertical-align: middle;\n",
              "    }\n",
              "\n",
              "    .dataframe tbody tr th {\n",
              "        vertical-align: top;\n",
              "    }\n",
              "\n",
              "    .dataframe thead th {\n",
              "        text-align: right;\n",
              "    }\n",
              "</style>\n",
              "<table border=\"1\" class=\"dataframe\">\n",
              "  <thead>\n",
              "    <tr style=\"text-align: right;\">\n",
              "      <th></th>\n",
              "      <th>key</th>\n",
              "      <th>lval</th>\n",
              "      <th>rval</th>\n",
              "    </tr>\n",
              "  </thead>\n",
              "  <tbody>\n",
              "    <tr>\n",
              "      <th>0</th>\n",
              "      <td>foo</td>\n",
              "      <td>1</td>\n",
              "      <td>4</td>\n",
              "    </tr>\n",
              "    <tr>\n",
              "      <th>1</th>\n",
              "      <td>bar</td>\n",
              "      <td>2</td>\n",
              "      <td>5</td>\n",
              "    </tr>\n",
              "  </tbody>\n",
              "</table>\n",
              "</div>"
            ],
            "text/plain": [
              "   key  lval  rval\n",
              "0  foo     1     4\n",
              "1  bar     2     5"
            ]
          },
          "metadata": {
            "tags": []
          },
          "execution_count": 75
        }
      ]
    },
    {
      "cell_type": "markdown",
      "metadata": {
        "id": "WL5n5c7jCoys",
        "colab_type": "text"
      },
      "source": [
        "## Appending last row"
      ]
    },
    {
      "cell_type": "code",
      "metadata": {
        "id": "3Vkf4yT9B1Br",
        "colab_type": "code",
        "colab": {
          "base_uri": "https://localhost:8080/",
          "height": 297
        },
        "outputId": "150917c6-5ddd-4fd9-f28f-bde245b2325d"
      },
      "source": [
        "df = pd.DataFrame(np.random.randn(8, 4), columns=['A', 'B', 'C', 'D'])\n",
        "df"
      ],
      "execution_count": 76,
      "outputs": [
        {
          "output_type": "execute_result",
          "data": {
            "text/html": [
              "<div>\n",
              "<style scoped>\n",
              "    .dataframe tbody tr th:only-of-type {\n",
              "        vertical-align: middle;\n",
              "    }\n",
              "\n",
              "    .dataframe tbody tr th {\n",
              "        vertical-align: top;\n",
              "    }\n",
              "\n",
              "    .dataframe thead th {\n",
              "        text-align: right;\n",
              "    }\n",
              "</style>\n",
              "<table border=\"1\" class=\"dataframe\">\n",
              "  <thead>\n",
              "    <tr style=\"text-align: right;\">\n",
              "      <th></th>\n",
              "      <th>A</th>\n",
              "      <th>B</th>\n",
              "      <th>C</th>\n",
              "      <th>D</th>\n",
              "    </tr>\n",
              "  </thead>\n",
              "  <tbody>\n",
              "    <tr>\n",
              "      <th>0</th>\n",
              "      <td>-0.296717</td>\n",
              "      <td>0.246939</td>\n",
              "      <td>-0.057533</td>\n",
              "      <td>0.437784</td>\n",
              "    </tr>\n",
              "    <tr>\n",
              "      <th>1</th>\n",
              "      <td>0.316523</td>\n",
              "      <td>2.090477</td>\n",
              "      <td>-1.471365</td>\n",
              "      <td>0.303795</td>\n",
              "    </tr>\n",
              "    <tr>\n",
              "      <th>2</th>\n",
              "      <td>1.519823</td>\n",
              "      <td>0.148262</td>\n",
              "      <td>-0.725056</td>\n",
              "      <td>0.186932</td>\n",
              "    </tr>\n",
              "    <tr>\n",
              "      <th>3</th>\n",
              "      <td>0.136036</td>\n",
              "      <td>-0.365387</td>\n",
              "      <td>0.188188</td>\n",
              "      <td>-0.453893</td>\n",
              "    </tr>\n",
              "    <tr>\n",
              "      <th>4</th>\n",
              "      <td>0.345956</td>\n",
              "      <td>0.507884</td>\n",
              "      <td>0.368672</td>\n",
              "      <td>0.648579</td>\n",
              "    </tr>\n",
              "    <tr>\n",
              "      <th>5</th>\n",
              "      <td>-0.753176</td>\n",
              "      <td>-0.880964</td>\n",
              "      <td>-2.217718</td>\n",
              "      <td>-0.193764</td>\n",
              "    </tr>\n",
              "    <tr>\n",
              "      <th>6</th>\n",
              "      <td>0.475016</td>\n",
              "      <td>-0.207995</td>\n",
              "      <td>0.083990</td>\n",
              "      <td>-0.814133</td>\n",
              "    </tr>\n",
              "    <tr>\n",
              "      <th>7</th>\n",
              "      <td>-1.381201</td>\n",
              "      <td>1.676615</td>\n",
              "      <td>-1.922247</td>\n",
              "      <td>-0.163090</td>\n",
              "    </tr>\n",
              "  </tbody>\n",
              "</table>\n",
              "</div>"
            ],
            "text/plain": [
              "          A         B         C         D\n",
              "0 -0.296717  0.246939 -0.057533  0.437784\n",
              "1  0.316523  2.090477 -1.471365  0.303795\n",
              "2  1.519823  0.148262 -0.725056  0.186932\n",
              "3  0.136036 -0.365387  0.188188 -0.453893\n",
              "4  0.345956  0.507884  0.368672  0.648579\n",
              "5 -0.753176 -0.880964 -2.217718 -0.193764\n",
              "6  0.475016 -0.207995  0.083990 -0.814133\n",
              "7 -1.381201  1.676615 -1.922247 -0.163090"
            ]
          },
          "metadata": {
            "tags": []
          },
          "execution_count": 76
        }
      ]
    },
    {
      "cell_type": "code",
      "metadata": {
        "id": "0NBwnHmECXnF",
        "colab_type": "code",
        "colab": {
          "base_uri": "https://localhost:8080/",
          "height": 102
        },
        "outputId": "5cde3b9a-2f14-4674-e67f-c80323daface"
      },
      "source": [
        "s = df.iloc[3]\n",
        "s"
      ],
      "execution_count": 78,
      "outputs": [
        {
          "output_type": "execute_result",
          "data": {
            "text/plain": [
              "A    0.136036\n",
              "B   -0.365387\n",
              "C    0.188188\n",
              "D   -0.453893\n",
              "Name: 3, dtype: float64"
            ]
          },
          "metadata": {
            "tags": []
          },
          "execution_count": 78
        }
      ]
    },
    {
      "cell_type": "code",
      "metadata": {
        "id": "tRwoC3EaChxX",
        "colab_type": "code",
        "colab": {
          "base_uri": "https://localhost:8080/",
          "height": 328
        },
        "outputId": "aada9613-82c8-4e23-f620-a8bd47b74aee"
      },
      "source": [
        "df.append(s, ignore_index=True)"
      ],
      "execution_count": 79,
      "outputs": [
        {
          "output_type": "execute_result",
          "data": {
            "text/html": [
              "<div>\n",
              "<style scoped>\n",
              "    .dataframe tbody tr th:only-of-type {\n",
              "        vertical-align: middle;\n",
              "    }\n",
              "\n",
              "    .dataframe tbody tr th {\n",
              "        vertical-align: top;\n",
              "    }\n",
              "\n",
              "    .dataframe thead th {\n",
              "        text-align: right;\n",
              "    }\n",
              "</style>\n",
              "<table border=\"1\" class=\"dataframe\">\n",
              "  <thead>\n",
              "    <tr style=\"text-align: right;\">\n",
              "      <th></th>\n",
              "      <th>A</th>\n",
              "      <th>B</th>\n",
              "      <th>C</th>\n",
              "      <th>D</th>\n",
              "    </tr>\n",
              "  </thead>\n",
              "  <tbody>\n",
              "    <tr>\n",
              "      <th>0</th>\n",
              "      <td>-0.296717</td>\n",
              "      <td>0.246939</td>\n",
              "      <td>-0.057533</td>\n",
              "      <td>0.437784</td>\n",
              "    </tr>\n",
              "    <tr>\n",
              "      <th>1</th>\n",
              "      <td>0.316523</td>\n",
              "      <td>2.090477</td>\n",
              "      <td>-1.471365</td>\n",
              "      <td>0.303795</td>\n",
              "    </tr>\n",
              "    <tr>\n",
              "      <th>2</th>\n",
              "      <td>1.519823</td>\n",
              "      <td>0.148262</td>\n",
              "      <td>-0.725056</td>\n",
              "      <td>0.186932</td>\n",
              "    </tr>\n",
              "    <tr>\n",
              "      <th>3</th>\n",
              "      <td>0.136036</td>\n",
              "      <td>-0.365387</td>\n",
              "      <td>0.188188</td>\n",
              "      <td>-0.453893</td>\n",
              "    </tr>\n",
              "    <tr>\n",
              "      <th>4</th>\n",
              "      <td>0.345956</td>\n",
              "      <td>0.507884</td>\n",
              "      <td>0.368672</td>\n",
              "      <td>0.648579</td>\n",
              "    </tr>\n",
              "    <tr>\n",
              "      <th>5</th>\n",
              "      <td>-0.753176</td>\n",
              "      <td>-0.880964</td>\n",
              "      <td>-2.217718</td>\n",
              "      <td>-0.193764</td>\n",
              "    </tr>\n",
              "    <tr>\n",
              "      <th>6</th>\n",
              "      <td>0.475016</td>\n",
              "      <td>-0.207995</td>\n",
              "      <td>0.083990</td>\n",
              "      <td>-0.814133</td>\n",
              "    </tr>\n",
              "    <tr>\n",
              "      <th>7</th>\n",
              "      <td>-1.381201</td>\n",
              "      <td>1.676615</td>\n",
              "      <td>-1.922247</td>\n",
              "      <td>-0.163090</td>\n",
              "    </tr>\n",
              "    <tr>\n",
              "      <th>8</th>\n",
              "      <td>0.136036</td>\n",
              "      <td>-0.365387</td>\n",
              "      <td>0.188188</td>\n",
              "      <td>-0.453893</td>\n",
              "    </tr>\n",
              "  </tbody>\n",
              "</table>\n",
              "</div>"
            ],
            "text/plain": [
              "          A         B         C         D\n",
              "0 -0.296717  0.246939 -0.057533  0.437784\n",
              "1  0.316523  2.090477 -1.471365  0.303795\n",
              "2  1.519823  0.148262 -0.725056  0.186932\n",
              "3  0.136036 -0.365387  0.188188 -0.453893\n",
              "4  0.345956  0.507884  0.368672  0.648579\n",
              "5 -0.753176 -0.880964 -2.217718 -0.193764\n",
              "6  0.475016 -0.207995  0.083990 -0.814133\n",
              "7 -1.381201  1.676615 -1.922247 -0.163090\n",
              "8  0.136036 -0.365387  0.188188 -0.453893"
            ]
          },
          "metadata": {
            "tags": []
          },
          "execution_count": 79
        }
      ]
    },
    {
      "cell_type": "markdown",
      "metadata": {
        "id": "e8sAagRoCujZ",
        "colab_type": "text"
      },
      "source": [
        "## Grouping \n",
        "\n",
        "By “group by” we are referring to a process involving one or more of the following steps:\n",
        "\n",
        "* Splitting the data into groups based on some criteria\n",
        "* Applying a function to each group independently\n",
        "* Combining the results into a data structure\n",
        "\n"
      ]
    },
    {
      "cell_type": "code",
      "metadata": {
        "id": "3QQk-RFTCm-o",
        "colab_type": "code",
        "colab": {
          "base_uri": "https://localhost:8080/",
          "height": 297
        },
        "outputId": "5c5e60ac-494e-42d9-eeb8-f186674ad89b"
      },
      "source": [
        "df = pd.DataFrame(\n",
        "{\t'A': ['foo', 'bar', 'foo', 'bar',   'foo', 'bar', 'foo', 'foo'], \n",
        "\t'B': ['one', 'one', 'two', 'three', 'two', 'two', 'one', 'three'],\n",
        "\t'C': np.random.randn(8),\n",
        "\t'D': np.random.randn(8)\n",
        "})\n",
        "df"
      ],
      "execution_count": 80,
      "outputs": [
        {
          "output_type": "execute_result",
          "data": {
            "text/html": [
              "<div>\n",
              "<style scoped>\n",
              "    .dataframe tbody tr th:only-of-type {\n",
              "        vertical-align: middle;\n",
              "    }\n",
              "\n",
              "    .dataframe tbody tr th {\n",
              "        vertical-align: top;\n",
              "    }\n",
              "\n",
              "    .dataframe thead th {\n",
              "        text-align: right;\n",
              "    }\n",
              "</style>\n",
              "<table border=\"1\" class=\"dataframe\">\n",
              "  <thead>\n",
              "    <tr style=\"text-align: right;\">\n",
              "      <th></th>\n",
              "      <th>A</th>\n",
              "      <th>B</th>\n",
              "      <th>C</th>\n",
              "      <th>D</th>\n",
              "    </tr>\n",
              "  </thead>\n",
              "  <tbody>\n",
              "    <tr>\n",
              "      <th>0</th>\n",
              "      <td>foo</td>\n",
              "      <td>one</td>\n",
              "      <td>0.711269</td>\n",
              "      <td>-0.207677</td>\n",
              "    </tr>\n",
              "    <tr>\n",
              "      <th>1</th>\n",
              "      <td>bar</td>\n",
              "      <td>one</td>\n",
              "      <td>-1.383520</td>\n",
              "      <td>0.499270</td>\n",
              "    </tr>\n",
              "    <tr>\n",
              "      <th>2</th>\n",
              "      <td>foo</td>\n",
              "      <td>two</td>\n",
              "      <td>-1.176395</td>\n",
              "      <td>-0.767403</td>\n",
              "    </tr>\n",
              "    <tr>\n",
              "      <th>3</th>\n",
              "      <td>bar</td>\n",
              "      <td>three</td>\n",
              "      <td>0.979730</td>\n",
              "      <td>0.677684</td>\n",
              "    </tr>\n",
              "    <tr>\n",
              "      <th>4</th>\n",
              "      <td>foo</td>\n",
              "      <td>two</td>\n",
              "      <td>-1.059137</td>\n",
              "      <td>-0.685572</td>\n",
              "    </tr>\n",
              "    <tr>\n",
              "      <th>5</th>\n",
              "      <td>bar</td>\n",
              "      <td>two</td>\n",
              "      <td>1.505071</td>\n",
              "      <td>-1.608063</td>\n",
              "    </tr>\n",
              "    <tr>\n",
              "      <th>6</th>\n",
              "      <td>foo</td>\n",
              "      <td>one</td>\n",
              "      <td>-1.114817</td>\n",
              "      <td>-0.014426</td>\n",
              "    </tr>\n",
              "    <tr>\n",
              "      <th>7</th>\n",
              "      <td>foo</td>\n",
              "      <td>three</td>\n",
              "      <td>0.570940</td>\n",
              "      <td>-0.339778</td>\n",
              "    </tr>\n",
              "  </tbody>\n",
              "</table>\n",
              "</div>"
            ],
            "text/plain": [
              "     A      B         C         D\n",
              "0  foo    one  0.711269 -0.207677\n",
              "1  bar    one -1.383520  0.499270\n",
              "2  foo    two -1.176395 -0.767403\n",
              "3  bar  three  0.979730  0.677684\n",
              "4  foo    two -1.059137 -0.685572\n",
              "5  bar    two  1.505071 -1.608063\n",
              "6  foo    one -1.114817 -0.014426\n",
              "7  foo  three  0.570940 -0.339778"
            ]
          },
          "metadata": {
            "tags": []
          },
          "execution_count": 80
        }
      ]
    },
    {
      "cell_type": "code",
      "metadata": {
        "id": "npTZ_iSCDj9j",
        "colab_type": "code",
        "colab": {
          "base_uri": "https://localhost:8080/",
          "height": 142
        },
        "outputId": "e0c8bd8f-9004-42ba-fabc-2040eca9d656"
      },
      "source": [
        "df.groupby('A').sum() #  Grouping and then applying the sum() function to the resulting groups"
      ],
      "execution_count": 81,
      "outputs": [
        {
          "output_type": "execute_result",
          "data": {
            "text/html": [
              "<div>\n",
              "<style scoped>\n",
              "    .dataframe tbody tr th:only-of-type {\n",
              "        vertical-align: middle;\n",
              "    }\n",
              "\n",
              "    .dataframe tbody tr th {\n",
              "        vertical-align: top;\n",
              "    }\n",
              "\n",
              "    .dataframe thead th {\n",
              "        text-align: right;\n",
              "    }\n",
              "</style>\n",
              "<table border=\"1\" class=\"dataframe\">\n",
              "  <thead>\n",
              "    <tr style=\"text-align: right;\">\n",
              "      <th></th>\n",
              "      <th>C</th>\n",
              "      <th>D</th>\n",
              "    </tr>\n",
              "    <tr>\n",
              "      <th>A</th>\n",
              "      <th></th>\n",
              "      <th></th>\n",
              "    </tr>\n",
              "  </thead>\n",
              "  <tbody>\n",
              "    <tr>\n",
              "      <th>bar</th>\n",
              "      <td>1.101282</td>\n",
              "      <td>-0.431109</td>\n",
              "    </tr>\n",
              "    <tr>\n",
              "      <th>foo</th>\n",
              "      <td>-2.068139</td>\n",
              "      <td>-2.014857</td>\n",
              "    </tr>\n",
              "  </tbody>\n",
              "</table>\n",
              "</div>"
            ],
            "text/plain": [
              "            C         D\n",
              "A                      \n",
              "bar  1.101282 -0.431109\n",
              "foo -2.068139 -2.014857"
            ]
          },
          "metadata": {
            "tags": []
          },
          "execution_count": 81
        }
      ]
    },
    {
      "cell_type": "code",
      "metadata": {
        "id": "nbUN71UCDp0U",
        "colab_type": "code",
        "colab": {
          "base_uri": "https://localhost:8080/",
          "height": 266
        },
        "outputId": "94934918-1c42-4c2f-bc41-3b5a9c515fec"
      },
      "source": [
        "df.groupby(['A', 'B']).sum() # Grouping by multiple columns forms a hierarchical index, and again we can apply the sum function"
      ],
      "execution_count": 82,
      "outputs": [
        {
          "output_type": "execute_result",
          "data": {
            "text/html": [
              "<div>\n",
              "<style scoped>\n",
              "    .dataframe tbody tr th:only-of-type {\n",
              "        vertical-align: middle;\n",
              "    }\n",
              "\n",
              "    .dataframe tbody tr th {\n",
              "        vertical-align: top;\n",
              "    }\n",
              "\n",
              "    .dataframe thead th {\n",
              "        text-align: right;\n",
              "    }\n",
              "</style>\n",
              "<table border=\"1\" class=\"dataframe\">\n",
              "  <thead>\n",
              "    <tr style=\"text-align: right;\">\n",
              "      <th></th>\n",
              "      <th></th>\n",
              "      <th>C</th>\n",
              "      <th>D</th>\n",
              "    </tr>\n",
              "    <tr>\n",
              "      <th>A</th>\n",
              "      <th>B</th>\n",
              "      <th></th>\n",
              "      <th></th>\n",
              "    </tr>\n",
              "  </thead>\n",
              "  <tbody>\n",
              "    <tr>\n",
              "      <th rowspan=\"3\" valign=\"top\">bar</th>\n",
              "      <th>one</th>\n",
              "      <td>-1.383520</td>\n",
              "      <td>0.499270</td>\n",
              "    </tr>\n",
              "    <tr>\n",
              "      <th>three</th>\n",
              "      <td>0.979730</td>\n",
              "      <td>0.677684</td>\n",
              "    </tr>\n",
              "    <tr>\n",
              "      <th>two</th>\n",
              "      <td>1.505071</td>\n",
              "      <td>-1.608063</td>\n",
              "    </tr>\n",
              "    <tr>\n",
              "      <th rowspan=\"3\" valign=\"top\">foo</th>\n",
              "      <th>one</th>\n",
              "      <td>-0.403548</td>\n",
              "      <td>-0.222103</td>\n",
              "    </tr>\n",
              "    <tr>\n",
              "      <th>three</th>\n",
              "      <td>0.570940</td>\n",
              "      <td>-0.339778</td>\n",
              "    </tr>\n",
              "    <tr>\n",
              "      <th>two</th>\n",
              "      <td>-2.235531</td>\n",
              "      <td>-1.452975</td>\n",
              "    </tr>\n",
              "  </tbody>\n",
              "</table>\n",
              "</div>"
            ],
            "text/plain": [
              "                  C         D\n",
              "A   B                        \n",
              "bar one   -1.383520  0.499270\n",
              "    three  0.979730  0.677684\n",
              "    two    1.505071 -1.608063\n",
              "foo one   -0.403548 -0.222103\n",
              "    three  0.570940 -0.339778\n",
              "    two   -2.235531 -1.452975"
            ]
          },
          "metadata": {
            "tags": []
          },
          "execution_count": 82
        }
      ]
    },
    {
      "cell_type": "markdown",
      "metadata": {
        "id": "opdAvMkMDziJ",
        "colab_type": "text"
      },
      "source": [
        "## Reshaping \n",
        "\n",
        "## What is MultiIndex (level, Codes and Names)"
      ]
    },
    {
      "cell_type": "code",
      "metadata": {
        "id": "6W8zTrifDutk",
        "colab_type": "code",
        "colab": {
          "base_uri": "https://localhost:8080/",
          "height": 153
        },
        "outputId": "452c56fb-81e5-463b-aef4-65b8aaea3552"
      },
      "source": [
        "tuples = list(zip(*[['bar', 'bar', 'baz', 'baz','foo', 'foo', 'qux', 'qux'], ['one', 'two', 'one', 'two', 'one', 'two', 'one', 'two']]))\n",
        "tuples"
      ],
      "execution_count": 85,
      "outputs": [
        {
          "output_type": "execute_result",
          "data": {
            "text/plain": [
              "[('bar', 'one'),\n",
              " ('bar', 'two'),\n",
              " ('baz', 'one'),\n",
              " ('baz', 'two'),\n",
              " ('foo', 'one'),\n",
              " ('foo', 'two'),\n",
              " ('qux', 'one'),\n",
              " ('qux', 'two')]"
            ]
          },
          "metadata": {
            "tags": []
          },
          "execution_count": 85
        }
      ]
    },
    {
      "cell_type": "code",
      "metadata": {
        "id": "PcFKfxPQEDTJ",
        "colab_type": "code",
        "colab": {
          "base_uri": "https://localhost:8080/",
          "height": 68
        },
        "outputId": "f1b213e5-6856-48ae-8d19-d0108f7a05c8"
      },
      "source": [
        "index = pd.MultiIndex.from_tuples(tuples, names=['first', 'second'])\n",
        "index"
      ],
      "execution_count": 87,
      "outputs": [
        {
          "output_type": "execute_result",
          "data": {
            "text/plain": [
              "MultiIndex(levels=[['bar', 'baz', 'foo', 'qux'], ['one', 'two']],\n",
              "           codes=[[0, 0, 1, 1, 2, 2, 3, 3], [0, 1, 0, 1, 0, 1, 0, 1]],\n",
              "           names=['first', 'second'])"
            ]
          },
          "metadata": {
            "tags": []
          },
          "execution_count": 87
        }
      ]
    },
    {
      "cell_type": "markdown",
      "metadata": {
        "id": "1U-L7wHbEqht",
        "colab_type": "text"
      },
      "source": [
        "## Pivot table"
      ]
    },
    {
      "cell_type": "markdown",
      "metadata": {
        "id": "Sam5QZ9MFCSB",
        "colab_type": "text"
      },
      "source": [
        "![alt text](https://www.excel-easy.com/data-analysis/images/pivot-tables/pivot-table-data.png)"
      ]
    },
    {
      "cell_type": "code",
      "metadata": {
        "id": "wl-H6didENDM",
        "colab_type": "code",
        "colab": {
          "base_uri": "https://localhost:8080/",
          "height": 421
        },
        "outputId": "3f90c787-761b-443c-bb2a-f404cc9cbc21"
      },
      "source": [
        "df = pd.DataFrame({\n",
        "\t'A': ['one', 'one', 'two', 'three'] * 3,\n",
        "\t'B': ['A', 'B', 'C'] * 4,\n",
        "\t'C': ['foo', 'foo', 'foo', 'bar', 'bar', 'bar'] * 2,\n",
        "\t'D': np.random.randn(12), \n",
        "\t'E': np.random.randn(12)\n",
        "})\n",
        "df"
      ],
      "execution_count": 88,
      "outputs": [
        {
          "output_type": "execute_result",
          "data": {
            "text/html": [
              "<div>\n",
              "<style scoped>\n",
              "    .dataframe tbody tr th:only-of-type {\n",
              "        vertical-align: middle;\n",
              "    }\n",
              "\n",
              "    .dataframe tbody tr th {\n",
              "        vertical-align: top;\n",
              "    }\n",
              "\n",
              "    .dataframe thead th {\n",
              "        text-align: right;\n",
              "    }\n",
              "</style>\n",
              "<table border=\"1\" class=\"dataframe\">\n",
              "  <thead>\n",
              "    <tr style=\"text-align: right;\">\n",
              "      <th></th>\n",
              "      <th>A</th>\n",
              "      <th>B</th>\n",
              "      <th>C</th>\n",
              "      <th>D</th>\n",
              "      <th>E</th>\n",
              "    </tr>\n",
              "  </thead>\n",
              "  <tbody>\n",
              "    <tr>\n",
              "      <th>0</th>\n",
              "      <td>one</td>\n",
              "      <td>A</td>\n",
              "      <td>foo</td>\n",
              "      <td>-0.588924</td>\n",
              "      <td>0.669337</td>\n",
              "    </tr>\n",
              "    <tr>\n",
              "      <th>1</th>\n",
              "      <td>one</td>\n",
              "      <td>B</td>\n",
              "      <td>foo</td>\n",
              "      <td>-0.138566</td>\n",
              "      <td>-0.720637</td>\n",
              "    </tr>\n",
              "    <tr>\n",
              "      <th>2</th>\n",
              "      <td>two</td>\n",
              "      <td>C</td>\n",
              "      <td>foo</td>\n",
              "      <td>0.090359</td>\n",
              "      <td>-0.103171</td>\n",
              "    </tr>\n",
              "    <tr>\n",
              "      <th>3</th>\n",
              "      <td>three</td>\n",
              "      <td>A</td>\n",
              "      <td>bar</td>\n",
              "      <td>-2.594201</td>\n",
              "      <td>-1.010732</td>\n",
              "    </tr>\n",
              "    <tr>\n",
              "      <th>4</th>\n",
              "      <td>one</td>\n",
              "      <td>B</td>\n",
              "      <td>bar</td>\n",
              "      <td>-1.404607</td>\n",
              "      <td>-1.757565</td>\n",
              "    </tr>\n",
              "    <tr>\n",
              "      <th>5</th>\n",
              "      <td>one</td>\n",
              "      <td>C</td>\n",
              "      <td>bar</td>\n",
              "      <td>-1.032787</td>\n",
              "      <td>-0.966073</td>\n",
              "    </tr>\n",
              "    <tr>\n",
              "      <th>6</th>\n",
              "      <td>two</td>\n",
              "      <td>A</td>\n",
              "      <td>foo</td>\n",
              "      <td>-0.945180</td>\n",
              "      <td>-0.056880</td>\n",
              "    </tr>\n",
              "    <tr>\n",
              "      <th>7</th>\n",
              "      <td>three</td>\n",
              "      <td>B</td>\n",
              "      <td>foo</td>\n",
              "      <td>0.507512</td>\n",
              "      <td>1.282116</td>\n",
              "    </tr>\n",
              "    <tr>\n",
              "      <th>8</th>\n",
              "      <td>one</td>\n",
              "      <td>C</td>\n",
              "      <td>foo</td>\n",
              "      <td>1.514993</td>\n",
              "      <td>-1.405947</td>\n",
              "    </tr>\n",
              "    <tr>\n",
              "      <th>9</th>\n",
              "      <td>one</td>\n",
              "      <td>A</td>\n",
              "      <td>bar</td>\n",
              "      <td>0.152403</td>\n",
              "      <td>-0.640177</td>\n",
              "    </tr>\n",
              "    <tr>\n",
              "      <th>10</th>\n",
              "      <td>two</td>\n",
              "      <td>B</td>\n",
              "      <td>bar</td>\n",
              "      <td>0.933194</td>\n",
              "      <td>0.463745</td>\n",
              "    </tr>\n",
              "    <tr>\n",
              "      <th>11</th>\n",
              "      <td>three</td>\n",
              "      <td>C</td>\n",
              "      <td>bar</td>\n",
              "      <td>-0.971453</td>\n",
              "      <td>-0.443086</td>\n",
              "    </tr>\n",
              "  </tbody>\n",
              "</table>\n",
              "</div>"
            ],
            "text/plain": [
              "        A  B    C         D         E\n",
              "0     one  A  foo -0.588924  0.669337\n",
              "1     one  B  foo -0.138566 -0.720637\n",
              "2     two  C  foo  0.090359 -0.103171\n",
              "3   three  A  bar -2.594201 -1.010732\n",
              "4     one  B  bar -1.404607 -1.757565\n",
              "5     one  C  bar -1.032787 -0.966073\n",
              "6     two  A  foo -0.945180 -0.056880\n",
              "7   three  B  foo  0.507512  1.282116\n",
              "8     one  C  foo  1.514993 -1.405947\n",
              "9     one  A  bar  0.152403 -0.640177\n",
              "10    two  B  bar  0.933194  0.463745\n",
              "11  three  C  bar -0.971453 -0.443086"
            ]
          },
          "metadata": {
            "tags": []
          },
          "execution_count": 88
        }
      ]
    },
    {
      "cell_type": "code",
      "metadata": {
        "id": "LB1WHPhRFfs7",
        "colab_type": "code",
        "colab": {
          "base_uri": "https://localhost:8080/",
          "height": 359
        },
        "outputId": "3be37151-9cb3-4f27-acce-2fe836734cc7"
      },
      "source": [
        "pd.pivot_table(df, values='D', index=['A','B'], columns=['C']) # Understand that Index are the rows and the Column are columns as in excel"
      ],
      "execution_count": 91,
      "outputs": [
        {
          "output_type": "execute_result",
          "data": {
            "text/html": [
              "<div>\n",
              "<style scoped>\n",
              "    .dataframe tbody tr th:only-of-type {\n",
              "        vertical-align: middle;\n",
              "    }\n",
              "\n",
              "    .dataframe tbody tr th {\n",
              "        vertical-align: top;\n",
              "    }\n",
              "\n",
              "    .dataframe thead th {\n",
              "        text-align: right;\n",
              "    }\n",
              "</style>\n",
              "<table border=\"1\" class=\"dataframe\">\n",
              "  <thead>\n",
              "    <tr style=\"text-align: right;\">\n",
              "      <th></th>\n",
              "      <th>C</th>\n",
              "      <th>bar</th>\n",
              "      <th>foo</th>\n",
              "    </tr>\n",
              "    <tr>\n",
              "      <th>A</th>\n",
              "      <th>B</th>\n",
              "      <th></th>\n",
              "      <th></th>\n",
              "    </tr>\n",
              "  </thead>\n",
              "  <tbody>\n",
              "    <tr>\n",
              "      <th rowspan=\"3\" valign=\"top\">one</th>\n",
              "      <th>A</th>\n",
              "      <td>0.152403</td>\n",
              "      <td>-0.588924</td>\n",
              "    </tr>\n",
              "    <tr>\n",
              "      <th>B</th>\n",
              "      <td>-1.404607</td>\n",
              "      <td>-0.138566</td>\n",
              "    </tr>\n",
              "    <tr>\n",
              "      <th>C</th>\n",
              "      <td>-1.032787</td>\n",
              "      <td>1.514993</td>\n",
              "    </tr>\n",
              "    <tr>\n",
              "      <th rowspan=\"3\" valign=\"top\">three</th>\n",
              "      <th>A</th>\n",
              "      <td>-2.594201</td>\n",
              "      <td>NaN</td>\n",
              "    </tr>\n",
              "    <tr>\n",
              "      <th>B</th>\n",
              "      <td>NaN</td>\n",
              "      <td>0.507512</td>\n",
              "    </tr>\n",
              "    <tr>\n",
              "      <th>C</th>\n",
              "      <td>-0.971453</td>\n",
              "      <td>NaN</td>\n",
              "    </tr>\n",
              "    <tr>\n",
              "      <th rowspan=\"3\" valign=\"top\">two</th>\n",
              "      <th>A</th>\n",
              "      <td>NaN</td>\n",
              "      <td>-0.945180</td>\n",
              "    </tr>\n",
              "    <tr>\n",
              "      <th>B</th>\n",
              "      <td>0.933194</td>\n",
              "      <td>NaN</td>\n",
              "    </tr>\n",
              "    <tr>\n",
              "      <th>C</th>\n",
              "      <td>NaN</td>\n",
              "      <td>0.090359</td>\n",
              "    </tr>\n",
              "  </tbody>\n",
              "</table>\n",
              "</div>"
            ],
            "text/plain": [
              "C             bar       foo\n",
              "A     B                    \n",
              "one   A  0.152403 -0.588924\n",
              "      B -1.404607 -0.138566\n",
              "      C -1.032787  1.514993\n",
              "three A -2.594201       NaN\n",
              "      B       NaN  0.507512\n",
              "      C -0.971453       NaN\n",
              "two   A       NaN -0.945180\n",
              "      B  0.933194       NaN\n",
              "      C       NaN  0.090359"
            ]
          },
          "metadata": {
            "tags": []
          },
          "execution_count": 91
        }
      ]
    },
    {
      "cell_type": "markdown",
      "metadata": {
        "id": "n_lbha2nGOzl",
        "colab_type": "text"
      },
      "source": [
        "## Time series"
      ]
    },
    {
      "cell_type": "markdown",
      "metadata": {
        "id": "93l6T1UWKvru",
        "colab_type": "text"
      },
      "source": [
        "Definition of Time Series: An ordered sequence of values of a variable at equally spaced time intervals.\n",
        "\n",
        "Applications: The usage of time series models is twofold:\n",
        "Obtain an understanding of the underlying forces and structure that produced the observed data\n",
        "Fit a model and proceed to forecasting, monitoring or even feedback and feedforward control.\n",
        "Time Series Analysis is used for many applications such as:\n",
        "\n",
        "* Economic Forecasting\n",
        "* Sales Forecasting\n",
        "* Budgetary Analysis\n",
        "* Stock Market Analysis\n",
        "* Yield Projections\n",
        "* Process and Quality Control\n",
        "* Inventory Studies\n",
        "* Workload Projections\n",
        "* Utility Studies\n",
        "* Census Analysis\n",
        "\n",
        "\n",
        "\n",
        "and many, many more...\n"
      ]
    },
    {
      "cell_type": "markdown",
      "metadata": {
        "id": "1lY4Ptf9LJJj",
        "colab_type": "text"
      },
      "source": [
        " ### Visit [Introduction to Time Series Analysis](https://www.itl.nist.gov/div898/handbook/pmc/section4/pmc4.htm)"
      ]
    },
    {
      "cell_type": "markdown",
      "metadata": {
        "id": "EJbW66eALnyc",
        "colab_type": "text"
      },
      "source": [
        "![alt text](https://cdn-images-1.medium.com/max/1600/1*rA5QfpH-ufw09SZHiXZePA.png)"
      ]
    },
    {
      "cell_type": "code",
      "metadata": {
        "id": "qgD0jEUcLC0V",
        "colab_type": "code",
        "colab": {
          "base_uri": "https://localhost:8080/",
          "height": 1071
        },
        "outputId": "e2878288-e7f7-4d00-efe0-f13e8dbde53a"
      },
      "source": [
        "rng = pd.date_range('1/1/2012', periods=100, freq='S')\n",
        "ts = pd.Series(np.random.randn(len(rng)), rng)\n",
        "ts"
      ],
      "execution_count": 104,
      "outputs": [
        {
          "output_type": "execute_result",
          "data": {
            "text/plain": [
              "2012-01-01 00:00:00   -0.839854\n",
              "2012-01-01 00:00:01    0.746940\n",
              "2012-01-01 00:00:02    0.110361\n",
              "2012-01-01 00:00:03   -0.315388\n",
              "2012-01-01 00:00:04    0.155795\n",
              "2012-01-01 00:00:05   -0.475542\n",
              "2012-01-01 00:00:06   -0.106956\n",
              "2012-01-01 00:00:07   -0.228796\n",
              "2012-01-01 00:00:08    0.199890\n",
              "2012-01-01 00:00:09   -0.087894\n",
              "2012-01-01 00:00:10    0.333142\n",
              "2012-01-01 00:00:11    0.948921\n",
              "2012-01-01 00:00:12    1.660441\n",
              "2012-01-01 00:00:13   -0.351033\n",
              "2012-01-01 00:00:14    0.093499\n",
              "2012-01-01 00:00:15    1.362416\n",
              "2012-01-01 00:00:16   -0.115702\n",
              "2012-01-01 00:00:17   -1.400589\n",
              "2012-01-01 00:00:18   -0.766349\n",
              "2012-01-01 00:00:19   -1.151068\n",
              "2012-01-01 00:00:20    0.437765\n",
              "2012-01-01 00:00:21    0.458720\n",
              "2012-01-01 00:00:22    0.238454\n",
              "2012-01-01 00:00:23   -0.043113\n",
              "2012-01-01 00:00:24   -0.179766\n",
              "2012-01-01 00:00:25   -1.107992\n",
              "2012-01-01 00:00:26   -2.121803\n",
              "2012-01-01 00:00:27    0.294585\n",
              "2012-01-01 00:00:28    0.857815\n",
              "2012-01-01 00:00:29    0.141511\n",
              "                         ...   \n",
              "2012-01-01 00:01:10    0.829512\n",
              "2012-01-01 00:01:11   -2.003328\n",
              "2012-01-01 00:01:12    1.323493\n",
              "2012-01-01 00:01:13    1.585319\n",
              "2012-01-01 00:01:14    0.674068\n",
              "2012-01-01 00:01:15    0.784634\n",
              "2012-01-01 00:01:16    0.243463\n",
              "2012-01-01 00:01:17   -0.839649\n",
              "2012-01-01 00:01:18    1.724271\n",
              "2012-01-01 00:01:19   -1.405467\n",
              "2012-01-01 00:01:20    0.302262\n",
              "2012-01-01 00:01:21    1.169377\n",
              "2012-01-01 00:01:22   -0.589361\n",
              "2012-01-01 00:01:23    0.736561\n",
              "2012-01-01 00:01:24    0.345648\n",
              "2012-01-01 00:01:25   -0.393314\n",
              "2012-01-01 00:01:26    0.209497\n",
              "2012-01-01 00:01:27    0.852666\n",
              "2012-01-01 00:01:28   -1.175628\n",
              "2012-01-01 00:01:29    0.063841\n",
              "2012-01-01 00:01:30   -0.462498\n",
              "2012-01-01 00:01:31    1.109249\n",
              "2012-01-01 00:01:32   -0.327501\n",
              "2012-01-01 00:01:33    1.234796\n",
              "2012-01-01 00:01:34    0.228177\n",
              "2012-01-01 00:01:35   -0.275977\n",
              "2012-01-01 00:01:36   -0.680300\n",
              "2012-01-01 00:01:37    0.074131\n",
              "2012-01-01 00:01:38   -0.982712\n",
              "2012-01-01 00:01:39    1.116878\n",
              "Freq: S, Length: 100, dtype: float64"
            ]
          },
          "metadata": {
            "tags": []
          },
          "execution_count": 104
        }
      ]
    },
    {
      "cell_type": "code",
      "metadata": {
        "id": "8JOkqzr4NbKb",
        "colab_type": "code",
        "colab": {
          "base_uri": "https://localhost:8080/",
          "height": 286
        },
        "outputId": "a434e769-e7a1-4651-e0d8-4bccef0c28c8"
      },
      "source": [
        "ts.plot()"
      ],
      "execution_count": 98,
      "outputs": [
        {
          "output_type": "execute_result",
          "data": {
            "text/plain": [
              "<matplotlib.axes._subplots.AxesSubplot at 0x7efc4963b128>"
            ]
          },
          "metadata": {
            "tags": []
          },
          "execution_count": 98
        },
        {
          "output_type": "display_data",
          "data": {
            "image/png": "[encoded data removed]",
            "text/plain": [
              "<Figure size 432x288 with 1 Axes>"
            ]
          },
          "metadata": {
            "tags": []
          }
        }
      ]
    },
    {
      "cell_type": "code",
      "metadata": {
        "id": "HcCFeVEfN18f",
        "colab_type": "code",
        "colab": {
          "base_uri": "https://localhost:8080/",
          "height": 309
        },
        "outputId": "7fff9d3c-562b-4ab2-9a4e-5b3b6107c552"
      },
      "source": [
        "df = pd.DataFrame(np.random.randn(100, 4), index=ts.index, columns=['A', 'B', 'C', 'D'])\n",
        "df = df.cumsum()\n",
        "df.plot()"
      ],
      "execution_count": 107,
      "outputs": [
        {
          "output_type": "execute_result",
          "data": {
            "text/plain": [
              "<matplotlib.axes._subplots.AxesSubplot at 0x7efc47b51828>"
            ]
          },
          "metadata": {
            "tags": []
          },
          "execution_count": 107
        },
        {
          "output_type": "display_data",
          "data": {
            "image/png": "[encoded data removed]",
            "text/plain": [
              "<Figure size 432x288 with 1 Axes>"
            ]
          },
          "metadata": {
            "tags": []
          }
        }
      ]
    },
    {
      "cell_type": "markdown",
      "metadata": {
        "id": "0FGeOdlePLtV",
        "colab_type": "text"
      },
      "source": [
        "## Getting Data In/Out"
      ]
    },
    {
      "cell_type": "code",
      "metadata": {
        "id": "4ViRfTMcOS03",
        "colab_type": "code",
        "colab": {}
      },
      "source": [
        "df.to_csv('foo.csv') # Writing to a csv file."
      ],
      "execution_count": 0,
      "outputs": []
    },
    {
      "cell_type": "code",
      "metadata": {
        "id": "a7nHKgCfPeYB",
        "colab_type": "code",
        "colab": {
          "base_uri": "https://localhost:8080/",
          "height": 1969
        },
        "outputId": "59f793c5-1d03-491c-e0e9-6eed4ab48384"
      },
      "source": [
        "pd.read_csv('foo.csv') # Read CSV"
      ],
      "execution_count": 110,
      "outputs": [
        {
          "output_type": "execute_result",
          "data": {
            "text/html": [
              "<div>\n",
              "<style scoped>\n",
              "    .dataframe tbody tr th:only-of-type {\n",
              "        vertical-align: middle;\n",
              "    }\n",
              "\n",
              "    .dataframe tbody tr th {\n",
              "        vertical-align: top;\n",
              "    }\n",
              "\n",
              "    .dataframe thead th {\n",
              "        text-align: right;\n",
              "    }\n",
              "</style>\n",
              "<table border=\"1\" class=\"dataframe\">\n",
              "  <thead>\n",
              "    <tr style=\"text-align: right;\">\n",
              "      <th></th>\n",
              "      <th>Unnamed: 0</th>\n",
              "      <th>A</th>\n",
              "      <th>B</th>\n",
              "      <th>C</th>\n",
              "      <th>D</th>\n",
              "    </tr>\n",
              "  </thead>\n",
              "  <tbody>\n",
              "    <tr>\n",
              "      <th>0</th>\n",
              "      <td>2012-01-01 00:00:00</td>\n",
              "      <td>0.813807</td>\n",
              "      <td>-0.976814</td>\n",
              "      <td>-0.543279</td>\n",
              "      <td>-0.186040</td>\n",
              "    </tr>\n",
              "    <tr>\n",
              "      <th>1</th>\n",
              "      <td>2012-01-01 00:00:01</td>\n",
              "      <td>0.409377</td>\n",
              "      <td>-1.392931</td>\n",
              "      <td>-1.057340</td>\n",
              "      <td>0.896465</td>\n",
              "    </tr>\n",
              "    <tr>\n",
              "      <th>2</th>\n",
              "      <td>2012-01-01 00:00:02</td>\n",
              "      <td>-0.410749</td>\n",
              "      <td>-2.771538</td>\n",
              "      <td>-2.310236</td>\n",
              "      <td>-0.125735</td>\n",
              "    </tr>\n",
              "    <tr>\n",
              "      <th>3</th>\n",
              "      <td>2012-01-01 00:00:03</td>\n",
              "      <td>-0.042553</td>\n",
              "      <td>-3.522121</td>\n",
              "      <td>-1.560734</td>\n",
              "      <td>-0.085408</td>\n",
              "    </tr>\n",
              "    <tr>\n",
              "      <th>4</th>\n",
              "      <td>2012-01-01 00:00:04</td>\n",
              "      <td>0.180606</td>\n",
              "      <td>-5.898570</td>\n",
              "      <td>-1.780298</td>\n",
              "      <td>-0.090031</td>\n",
              "    </tr>\n",
              "    <tr>\n",
              "      <th>5</th>\n",
              "      <td>2012-01-01 00:00:05</td>\n",
              "      <td>-0.653128</td>\n",
              "      <td>-5.340499</td>\n",
              "      <td>-0.534981</td>\n",
              "      <td>0.378479</td>\n",
              "    </tr>\n",
              "    <tr>\n",
              "      <th>6</th>\n",
              "      <td>2012-01-01 00:00:06</td>\n",
              "      <td>0.085891</td>\n",
              "      <td>-3.909776</td>\n",
              "      <td>-0.624907</td>\n",
              "      <td>-0.209902</td>\n",
              "    </tr>\n",
              "    <tr>\n",
              "      <th>7</th>\n",
              "      <td>2012-01-01 00:00:07</td>\n",
              "      <td>0.398559</td>\n",
              "      <td>-5.821591</td>\n",
              "      <td>-0.325610</td>\n",
              "      <td>-1.952763</td>\n",
              "    </tr>\n",
              "    <tr>\n",
              "      <th>8</th>\n",
              "      <td>2012-01-01 00:00:08</td>\n",
              "      <td>0.311772</td>\n",
              "      <td>-4.515915</td>\n",
              "      <td>-0.658130</td>\n",
              "      <td>-1.684890</td>\n",
              "    </tr>\n",
              "    <tr>\n",
              "      <th>9</th>\n",
              "      <td>2012-01-01 00:00:09</td>\n",
              "      <td>1.114973</td>\n",
              "      <td>-3.802398</td>\n",
              "      <td>0.635864</td>\n",
              "      <td>-3.053584</td>\n",
              "    </tr>\n",
              "    <tr>\n",
              "      <th>10</th>\n",
              "      <td>2012-01-01 00:00:10</td>\n",
              "      <td>2.265741</td>\n",
              "      <td>-4.525170</td>\n",
              "      <td>-0.553533</td>\n",
              "      <td>-2.575746</td>\n",
              "    </tr>\n",
              "    <tr>\n",
              "      <th>11</th>\n",
              "      <td>2012-01-01 00:00:11</td>\n",
              "      <td>3.923337</td>\n",
              "      <td>-4.861408</td>\n",
              "      <td>-0.348104</td>\n",
              "      <td>-2.314513</td>\n",
              "    </tr>\n",
              "    <tr>\n",
              "      <th>12</th>\n",
              "      <td>2012-01-01 00:00:12</td>\n",
              "      <td>3.653731</td>\n",
              "      <td>-5.407537</td>\n",
              "      <td>-0.742313</td>\n",
              "      <td>-3.520882</td>\n",
              "    </tr>\n",
              "    <tr>\n",
              "      <th>13</th>\n",
              "      <td>2012-01-01 00:00:13</td>\n",
              "      <td>4.268588</td>\n",
              "      <td>-4.475259</td>\n",
              "      <td>-0.482879</td>\n",
              "      <td>-4.164684</td>\n",
              "    </tr>\n",
              "    <tr>\n",
              "      <th>14</th>\n",
              "      <td>2012-01-01 00:00:14</td>\n",
              "      <td>4.799039</td>\n",
              "      <td>-3.489961</td>\n",
              "      <td>-0.510308</td>\n",
              "      <td>-3.764336</td>\n",
              "    </tr>\n",
              "    <tr>\n",
              "      <th>15</th>\n",
              "      <td>2012-01-01 00:00:15</td>\n",
              "      <td>3.959928</td>\n",
              "      <td>-3.090391</td>\n",
              "      <td>-1.399152</td>\n",
              "      <td>-2.962806</td>\n",
              "    </tr>\n",
              "    <tr>\n",
              "      <th>16</th>\n",
              "      <td>2012-01-01 00:00:16</td>\n",
              "      <td>2.041862</td>\n",
              "      <td>-2.469175</td>\n",
              "      <td>-1.293807</td>\n",
              "      <td>-3.590268</td>\n",
              "    </tr>\n",
              "    <tr>\n",
              "      <th>17</th>\n",
              "      <td>2012-01-01 00:00:17</td>\n",
              "      <td>2.900556</td>\n",
              "      <td>-2.232026</td>\n",
              "      <td>-0.227606</td>\n",
              "      <td>-4.928875</td>\n",
              "    </tr>\n",
              "    <tr>\n",
              "      <th>18</th>\n",
              "      <td>2012-01-01 00:00:18</td>\n",
              "      <td>3.517001</td>\n",
              "      <td>-5.193573</td>\n",
              "      <td>-0.736394</td>\n",
              "      <td>-3.019798</td>\n",
              "    </tr>\n",
              "    <tr>\n",
              "      <th>19</th>\n",
              "      <td>2012-01-01 00:00:19</td>\n",
              "      <td>3.120987</td>\n",
              "      <td>-5.354119</td>\n",
              "      <td>0.507760</td>\n",
              "      <td>-3.612940</td>\n",
              "    </tr>\n",
              "    <tr>\n",
              "      <th>20</th>\n",
              "      <td>2012-01-01 00:00:20</td>\n",
              "      <td>2.556018</td>\n",
              "      <td>-7.317591</td>\n",
              "      <td>0.349342</td>\n",
              "      <td>-3.652767</td>\n",
              "    </tr>\n",
              "    <tr>\n",
              "      <th>21</th>\n",
              "      <td>2012-01-01 00:00:21</td>\n",
              "      <td>4.076122</td>\n",
              "      <td>-8.654337</td>\n",
              "      <td>0.604231</td>\n",
              "      <td>-3.387705</td>\n",
              "    </tr>\n",
              "    <tr>\n",
              "      <th>22</th>\n",
              "      <td>2012-01-01 00:00:22</td>\n",
              "      <td>4.064487</td>\n",
              "      <td>-9.063426</td>\n",
              "      <td>1.238021</td>\n",
              "      <td>-3.334366</td>\n",
              "    </tr>\n",
              "    <tr>\n",
              "      <th>23</th>\n",
              "      <td>2012-01-01 00:00:23</td>\n",
              "      <td>4.941615</td>\n",
              "      <td>-9.707528</td>\n",
              "      <td>1.333322</td>\n",
              "      <td>-3.221645</td>\n",
              "    </tr>\n",
              "    <tr>\n",
              "      <th>24</th>\n",
              "      <td>2012-01-01 00:00:24</td>\n",
              "      <td>4.303009</td>\n",
              "      <td>-8.424475</td>\n",
              "      <td>-0.102062</td>\n",
              "      <td>-3.436613</td>\n",
              "    </tr>\n",
              "    <tr>\n",
              "      <th>25</th>\n",
              "      <td>2012-01-01 00:00:25</td>\n",
              "      <td>5.367808</td>\n",
              "      <td>-7.755505</td>\n",
              "      <td>-0.018831</td>\n",
              "      <td>-2.832779</td>\n",
              "    </tr>\n",
              "    <tr>\n",
              "      <th>26</th>\n",
              "      <td>2012-01-01 00:00:26</td>\n",
              "      <td>3.609758</td>\n",
              "      <td>-8.584226</td>\n",
              "      <td>1.055170</td>\n",
              "      <td>-2.887476</td>\n",
              "    </tr>\n",
              "    <tr>\n",
              "      <th>27</th>\n",
              "      <td>2012-01-01 00:00:27</td>\n",
              "      <td>3.942871</td>\n",
              "      <td>-7.532806</td>\n",
              "      <td>0.635931</td>\n",
              "      <td>-2.212258</td>\n",
              "    </tr>\n",
              "    <tr>\n",
              "      <th>28</th>\n",
              "      <td>2012-01-01 00:00:28</td>\n",
              "      <td>5.037586</td>\n",
              "      <td>-8.367370</td>\n",
              "      <td>1.230690</td>\n",
              "      <td>-4.184272</td>\n",
              "    </tr>\n",
              "    <tr>\n",
              "      <th>29</th>\n",
              "      <td>2012-01-01 00:00:29</td>\n",
              "      <td>4.231792</td>\n",
              "      <td>-8.319763</td>\n",
              "      <td>0.746032</td>\n",
              "      <td>-3.756361</td>\n",
              "    </tr>\n",
              "    <tr>\n",
              "      <th>...</th>\n",
              "      <td>...</td>\n",
              "      <td>...</td>\n",
              "      <td>...</td>\n",
              "      <td>...</td>\n",
              "      <td>...</td>\n",
              "    </tr>\n",
              "    <tr>\n",
              "      <th>70</th>\n",
              "      <td>2012-01-01 00:01:10</td>\n",
              "      <td>-5.267516</td>\n",
              "      <td>-16.077693</td>\n",
              "      <td>2.092066</td>\n",
              "      <td>-3.370443</td>\n",
              "    </tr>\n",
              "    <tr>\n",
              "      <th>71</th>\n",
              "      <td>2012-01-01 00:01:11</td>\n",
              "      <td>-6.633106</td>\n",
              "      <td>-16.607036</td>\n",
              "      <td>2.152378</td>\n",
              "      <td>-2.997913</td>\n",
              "    </tr>\n",
              "    <tr>\n",
              "      <th>72</th>\n",
              "      <td>2012-01-01 00:01:12</td>\n",
              "      <td>-7.084894</td>\n",
              "      <td>-17.592906</td>\n",
              "      <td>3.039265</td>\n",
              "      <td>-3.997941</td>\n",
              "    </tr>\n",
              "    <tr>\n",
              "      <th>73</th>\n",
              "      <td>2012-01-01 00:01:13</td>\n",
              "      <td>-6.975813</td>\n",
              "      <td>-15.263318</td>\n",
              "      <td>4.359887</td>\n",
              "      <td>-3.975393</td>\n",
              "    </tr>\n",
              "    <tr>\n",
              "      <th>74</th>\n",
              "      <td>2012-01-01 00:01:14</td>\n",
              "      <td>-6.067442</td>\n",
              "      <td>-14.837875</td>\n",
              "      <td>5.195443</td>\n",
              "      <td>-5.554005</td>\n",
              "    </tr>\n",
              "    <tr>\n",
              "      <th>75</th>\n",
              "      <td>2012-01-01 00:01:15</td>\n",
              "      <td>-6.189039</td>\n",
              "      <td>-14.437911</td>\n",
              "      <td>4.992933</td>\n",
              "      <td>-4.810336</td>\n",
              "    </tr>\n",
              "    <tr>\n",
              "      <th>76</th>\n",
              "      <td>2012-01-01 00:01:16</td>\n",
              "      <td>-5.495562</td>\n",
              "      <td>-15.146950</td>\n",
              "      <td>5.542943</td>\n",
              "      <td>-4.991063</td>\n",
              "    </tr>\n",
              "    <tr>\n",
              "      <th>77</th>\n",
              "      <td>2012-01-01 00:01:17</td>\n",
              "      <td>-5.251252</td>\n",
              "      <td>-13.321645</td>\n",
              "      <td>6.444776</td>\n",
              "      <td>-5.302845</td>\n",
              "    </tr>\n",
              "    <tr>\n",
              "      <th>78</th>\n",
              "      <td>2012-01-01 00:01:18</td>\n",
              "      <td>-4.458185</td>\n",
              "      <td>-13.333125</td>\n",
              "      <td>6.381345</td>\n",
              "      <td>-6.415447</td>\n",
              "    </tr>\n",
              "    <tr>\n",
              "      <th>79</th>\n",
              "      <td>2012-01-01 00:01:19</td>\n",
              "      <td>-3.422610</td>\n",
              "      <td>-12.354758</td>\n",
              "      <td>6.413273</td>\n",
              "      <td>-4.602289</td>\n",
              "    </tr>\n",
              "    <tr>\n",
              "      <th>80</th>\n",
              "      <td>2012-01-01 00:01:20</td>\n",
              "      <td>-2.827668</td>\n",
              "      <td>-11.244488</td>\n",
              "      <td>5.564177</td>\n",
              "      <td>-6.710495</td>\n",
              "    </tr>\n",
              "    <tr>\n",
              "      <th>81</th>\n",
              "      <td>2012-01-01 00:01:21</td>\n",
              "      <td>-1.756620</td>\n",
              "      <td>-10.228599</td>\n",
              "      <td>5.733078</td>\n",
              "      <td>-6.357288</td>\n",
              "    </tr>\n",
              "    <tr>\n",
              "      <th>82</th>\n",
              "      <td>2012-01-01 00:01:22</td>\n",
              "      <td>-1.024715</td>\n",
              "      <td>-8.515514</td>\n",
              "      <td>6.216665</td>\n",
              "      <td>-6.784608</td>\n",
              "    </tr>\n",
              "    <tr>\n",
              "      <th>83</th>\n",
              "      <td>2012-01-01 00:01:23</td>\n",
              "      <td>-1.391906</td>\n",
              "      <td>-10.575503</td>\n",
              "      <td>6.134069</td>\n",
              "      <td>-5.984409</td>\n",
              "    </tr>\n",
              "    <tr>\n",
              "      <th>84</th>\n",
              "      <td>2012-01-01 00:01:24</td>\n",
              "      <td>-1.237476</td>\n",
              "      <td>-11.832699</td>\n",
              "      <td>5.263499</td>\n",
              "      <td>-5.735444</td>\n",
              "    </tr>\n",
              "    <tr>\n",
              "      <th>85</th>\n",
              "      <td>2012-01-01 00:01:25</td>\n",
              "      <td>-2.381036</td>\n",
              "      <td>-13.775961</td>\n",
              "      <td>5.399542</td>\n",
              "      <td>-6.572552</td>\n",
              "    </tr>\n",
              "    <tr>\n",
              "      <th>86</th>\n",
              "      <td>2012-01-01 00:01:26</td>\n",
              "      <td>-3.659733</td>\n",
              "      <td>-13.783267</td>\n",
              "      <td>5.320594</td>\n",
              "      <td>-6.559645</td>\n",
              "    </tr>\n",
              "    <tr>\n",
              "      <th>87</th>\n",
              "      <td>2012-01-01 00:01:27</td>\n",
              "      <td>-2.435437</td>\n",
              "      <td>-13.405132</td>\n",
              "      <td>5.437409</td>\n",
              "      <td>-5.136759</td>\n",
              "    </tr>\n",
              "    <tr>\n",
              "      <th>88</th>\n",
              "      <td>2012-01-01 00:01:28</td>\n",
              "      <td>0.068985</td>\n",
              "      <td>-12.395273</td>\n",
              "      <td>4.942229</td>\n",
              "      <td>-3.775570</td>\n",
              "    </tr>\n",
              "    <tr>\n",
              "      <th>89</th>\n",
              "      <td>2012-01-01 00:01:29</td>\n",
              "      <td>0.228933</td>\n",
              "      <td>-13.380994</td>\n",
              "      <td>5.025197</td>\n",
              "      <td>-3.213238</td>\n",
              "    </tr>\n",
              "    <tr>\n",
              "      <th>90</th>\n",
              "      <td>2012-01-01 00:01:30</td>\n",
              "      <td>0.827538</td>\n",
              "      <td>-12.396290</td>\n",
              "      <td>3.429301</td>\n",
              "      <td>-4.438878</td>\n",
              "    </tr>\n",
              "    <tr>\n",
              "      <th>91</th>\n",
              "      <td>2012-01-01 00:01:31</td>\n",
              "      <td>1.907099</td>\n",
              "      <td>-12.113640</td>\n",
              "      <td>4.572799</td>\n",
              "      <td>-3.872017</td>\n",
              "    </tr>\n",
              "    <tr>\n",
              "      <th>92</th>\n",
              "      <td>2012-01-01 00:01:32</td>\n",
              "      <td>3.154578</td>\n",
              "      <td>-12.685050</td>\n",
              "      <td>4.962209</td>\n",
              "      <td>-5.222502</td>\n",
              "    </tr>\n",
              "    <tr>\n",
              "      <th>93</th>\n",
              "      <td>2012-01-01 00:01:33</td>\n",
              "      <td>2.658197</td>\n",
              "      <td>-13.080716</td>\n",
              "      <td>4.749204</td>\n",
              "      <td>-4.135669</td>\n",
              "    </tr>\n",
              "    <tr>\n",
              "      <th>94</th>\n",
              "      <td>2012-01-01 00:01:34</td>\n",
              "      <td>3.494219</td>\n",
              "      <td>-14.404904</td>\n",
              "      <td>4.033117</td>\n",
              "      <td>-5.661595</td>\n",
              "    </tr>\n",
              "    <tr>\n",
              "      <th>95</th>\n",
              "      <td>2012-01-01 00:01:35</td>\n",
              "      <td>2.788773</td>\n",
              "      <td>-13.117595</td>\n",
              "      <td>4.204313</td>\n",
              "      <td>-4.872273</td>\n",
              "    </tr>\n",
              "    <tr>\n",
              "      <th>96</th>\n",
              "      <td>2012-01-01 00:01:36</td>\n",
              "      <td>2.437754</td>\n",
              "      <td>-12.773437</td>\n",
              "      <td>4.622889</td>\n",
              "      <td>-5.533846</td>\n",
              "    </tr>\n",
              "    <tr>\n",
              "      <th>97</th>\n",
              "      <td>2012-01-01 00:01:37</td>\n",
              "      <td>3.678085</td>\n",
              "      <td>-12.272734</td>\n",
              "      <td>3.268364</td>\n",
              "      <td>-3.697276</td>\n",
              "    </tr>\n",
              "    <tr>\n",
              "      <th>98</th>\n",
              "      <td>2012-01-01 00:01:38</td>\n",
              "      <td>3.249965</td>\n",
              "      <td>-11.181754</td>\n",
              "      <td>2.709422</td>\n",
              "      <td>-4.048186</td>\n",
              "    </tr>\n",
              "    <tr>\n",
              "      <th>99</th>\n",
              "      <td>2012-01-01 00:01:39</td>\n",
              "      <td>3.344953</td>\n",
              "      <td>-10.416425</td>\n",
              "      <td>1.327645</td>\n",
              "      <td>-3.244757</td>\n",
              "    </tr>\n",
              "  </tbody>\n",
              "</table>\n",
              "<p>100 rows × 5 columns</p>\n",
              "</div>"
            ],
            "text/plain": [
              "             Unnamed: 0         A          B         C         D\n",
              "0   2012-01-01 00:00:00  0.813807  -0.976814 -0.543279 -0.186040\n",
              "1   2012-01-01 00:00:01  0.409377  -1.392931 -1.057340  0.896465\n",
              "2   2012-01-01 00:00:02 -0.410749  -2.771538 -2.310236 -0.125735\n",
              "3   2012-01-01 00:00:03 -0.042553  -3.522121 -1.560734 -0.085408\n",
              "4   2012-01-01 00:00:04  0.180606  -5.898570 -1.780298 -0.090031\n",
              "5   2012-01-01 00:00:05 -0.653128  -5.340499 -0.534981  0.378479\n",
              "6   2012-01-01 00:00:06  0.085891  -3.909776 -0.624907 -0.209902\n",
              "7   2012-01-01 00:00:07  0.398559  -5.821591 -0.325610 -1.952763\n",
              "8   2012-01-01 00:00:08  0.311772  -4.515915 -0.658130 -1.684890\n",
              "9   2012-01-01 00:00:09  1.114973  -3.802398  0.635864 -3.053584\n",
              "10  2012-01-01 00:00:10  2.265741  -4.525170 -0.553533 -2.575746\n",
              "11  2012-01-01 00:00:11  3.923337  -4.861408 -0.348104 -2.314513\n",
              "12  2012-01-01 00:00:12  3.653731  -5.407537 -0.742313 -3.520882\n",
              "13  2012-01-01 00:00:13  4.268588  -4.475259 -0.482879 -4.164684\n",
              "14  2012-01-01 00:00:14  4.799039  -3.489961 -0.510308 -3.764336\n",
              "15  2012-01-01 00:00:15  3.959928  -3.090391 -1.399152 -2.962806\n",
              "16  2012-01-01 00:00:16  2.041862  -2.469175 -1.293807 -3.590268\n",
              "17  2012-01-01 00:00:17  2.900556  -2.232026 -0.227606 -4.928875\n",
              "18  2012-01-01 00:00:18  3.517001  -5.193573 -0.736394 -3.019798\n",
              "19  2012-01-01 00:00:19  3.120987  -5.354119  0.507760 -3.612940\n",
              "20  2012-01-01 00:00:20  2.556018  -7.317591  0.349342 -3.652767\n",
              "21  2012-01-01 00:00:21  4.076122  -8.654337  0.604231 -3.387705\n",
              "22  2012-01-01 00:00:22  4.064487  -9.063426  1.238021 -3.334366\n",
              "23  2012-01-01 00:00:23  4.941615  -9.707528  1.333322 -3.221645\n",
              "24  2012-01-01 00:00:24  4.303009  -8.424475 -0.102062 -3.436613\n",
              "25  2012-01-01 00:00:25  5.367808  -7.755505 -0.018831 -2.832779\n",
              "26  2012-01-01 00:00:26  3.609758  -8.584226  1.055170 -2.887476\n",
              "27  2012-01-01 00:00:27  3.942871  -7.532806  0.635931 -2.212258\n",
              "28  2012-01-01 00:00:28  5.037586  -8.367370  1.230690 -4.184272\n",
              "29  2012-01-01 00:00:29  4.231792  -8.319763  0.746032 -3.756361\n",
              "..                  ...       ...        ...       ...       ...\n",
              "70  2012-01-01 00:01:10 -5.267516 -16.077693  2.092066 -3.370443\n",
              "71  2012-01-01 00:01:11 -6.633106 -16.607036  2.152378 -2.997913\n",
              "72  2012-01-01 00:01:12 -7.084894 -17.592906  3.039265 -3.997941\n",
              "73  2012-01-01 00:01:13 -6.975813 -15.263318  4.359887 -3.975393\n",
              "74  2012-01-01 00:01:14 -6.067442 -14.837875  5.195443 -5.554005\n",
              "75  2012-01-01 00:01:15 -6.189039 -14.437911  4.992933 -4.810336\n",
              "76  2012-01-01 00:01:16 -5.495562 -15.146950  5.542943 -4.991063\n",
              "77  2012-01-01 00:01:17 -5.251252 -13.321645  6.444776 -5.302845\n",
              "78  2012-01-01 00:01:18 -4.458185 -13.333125  6.381345 -6.415447\n",
              "79  2012-01-01 00:01:19 -3.422610 -12.354758  6.413273 -4.602289\n",
              "80  2012-01-01 00:01:20 -2.827668 -11.244488  5.564177 -6.710495\n",
              "81  2012-01-01 00:01:21 -1.756620 -10.228599  5.733078 -6.357288\n",
              "82  2012-01-01 00:01:22 -1.024715  -8.515514  6.216665 -6.784608\n",
              "83  2012-01-01 00:01:23 -1.391906 -10.575503  6.134069 -5.984409\n",
              "84  2012-01-01 00:01:24 -1.237476 -11.832699  5.263499 -5.735444\n",
              "85  2012-01-01 00:01:25 -2.381036 -13.775961  5.399542 -6.572552\n",
              "86  2012-01-01 00:01:26 -3.659733 -13.783267  5.320594 -6.559645\n",
              "87  2012-01-01 00:01:27 -2.435437 -13.405132  5.437409 -5.136759\n",
              "88  2012-01-01 00:01:28  0.068985 -12.395273  4.942229 -3.775570\n",
              "89  2012-01-01 00:01:29  0.228933 -13.380994  5.025197 -3.213238\n",
              "90  2012-01-01 00:01:30  0.827538 -12.396290  3.429301 -4.438878\n",
              "91  2012-01-01 00:01:31  1.907099 -12.113640  4.572799 -3.872017\n",
              "92  2012-01-01 00:01:32  3.154578 -12.685050  4.962209 -5.222502\n",
              "93  2012-01-01 00:01:33  2.658197 -13.080716  4.749204 -4.135669\n",
              "94  2012-01-01 00:01:34  3.494219 -14.404904  4.033117 -5.661595\n",
              "95  2012-01-01 00:01:35  2.788773 -13.117595  4.204313 -4.872273\n",
              "96  2012-01-01 00:01:36  2.437754 -12.773437  4.622889 -5.533846\n",
              "97  2012-01-01 00:01:37  3.678085 -12.272734  3.268364 -3.697276\n",
              "98  2012-01-01 00:01:38  3.249965 -11.181754  2.709422 -4.048186\n",
              "99  2012-01-01 00:01:39  3.344953 -10.416425  1.327645 -3.244757\n",
              "\n",
              "[100 rows x 5 columns]"
            ]
          },
          "metadata": {
            "tags": []
          },
          "execution_count": 110
        }
      ]
    },
    {
      "cell_type": "markdown",
      "metadata": {
        "id": "m6FkPnq8P2sE",
        "colab_type": "text"
      },
      "source": [
        "# End"
      ]
    },
    {
      "cell_type": "code",
      "metadata": {
        "id": "nOZjUnnCPTSY",
        "colab_type": "code",
        "colab": {}
      },
      "source": [
        ""
      ],
      "execution_count": 0,
      "outputs": []
    }
  ]
}